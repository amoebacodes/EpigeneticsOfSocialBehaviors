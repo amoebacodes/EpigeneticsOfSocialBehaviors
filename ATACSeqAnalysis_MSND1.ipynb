{
  "nbformat": 4,
  "nbformat_minor": 0,
  "metadata": {
    "colab": {
      "name": "Analysis1.ipynb",
      "provenance": [],
      "collapsed_sections": []
    },
    "kernelspec": {
      "name": "ir",
      "display_name": "R"
    },
    "language_info": {
      "name": "R"
    }
  },
  "cells": [
    {
      "cell_type": "code",
      "metadata": {
        "colab": {
          "base_uri": "https://localhost:8080/"
        },
        "id": "GtGzAiqd3kIx",
        "outputId": "a7bc38f6-6f17-4281-a19f-de7af558afad"
      },
      "source": [
        "##########################################\n",
        "##### Install the relevant packages #####\n",
        "##########################################\n",
        "#This will take several minutes\n",
        "\n",
        "if (!requireNamespace(\"BiocManager\", quietly = TRUE)) #Install bioconductor, repository of bioinformatics packages in R\n",
        "    install.packages(\"BiocManager\")\n",
        "\n",
        "BiocManager::install(\"edgeR\"); #Install the EdgeR package"
      ],
      "execution_count": null,
      "outputs": [
        {
          "output_type": "stream",
          "name": "stderr",
          "text": [
            "Installing package into ‘/usr/local/lib/R/site-library’\n",
            "(as ‘lib’ is unspecified)\n",
            "\n",
            "'getOption(\"repos\")' replaces Bioconductor standard repositories, see\n",
            "'?repositories' for details\n",
            "\n",
            "replacement repositories:\n",
            "    CRAN: https://cran.rstudio.com\n",
            "\n",
            "\n",
            "Bioconductor version 3.14 (BiocManager 1.30.16), R 4.1.1 (2021-08-10)\n",
            "\n",
            "Installing package(s) 'BiocVersion', 'edgeR'\n",
            "\n",
            "also installing the dependencies ‘limma’, ‘locfit’\n",
            "\n",
            "\n",
            "Old packages: 'pbdZMQ', 'backports', 'broom', 'cli', 'crayon', 'generics',\n",
            "  'openssl', 'sessioninfo', 'tzdb', 'usethis', 'uuid', 'nlme'\n",
            "\n"
          ]
        }
      ]
    },
    {
      "cell_type": "code",
      "metadata": {
        "id": "NQZVsoMX3sCw",
        "colab": {
          "base_uri": "https://localhost:8080/"
        },
        "outputId": "6c3f0193-cee4-439b-a22a-062797f235d0"
      },
      "source": [
        "install.packages(\"gplots\");\n",
        "install.packages(\"gplots2\");\n",
        "\n",
        "##########################################\n",
        "##### Load the libraries #####\n",
        "##########################################\n",
        "library(edgeR);\n",
        "library(gplots);\n",
        "library(ggplot2);"
      ],
      "execution_count": null,
      "outputs": [
        {
          "output_type": "stream",
          "name": "stderr",
          "text": [
            "Installing package into ‘/usr/local/lib/R/site-library’\n",
            "(as ‘lib’ is unspecified)\n",
            "\n",
            "also installing the dependencies ‘bitops’, ‘gtools’, ‘caTools’\n",
            "\n",
            "\n",
            "Installing package into ‘/usr/local/lib/R/site-library’\n",
            "(as ‘lib’ is unspecified)\n",
            "\n",
            "Warning message:\n",
            "“package ‘gplots2’ is not available for this version of R\n",
            "\n",
            "A version of this package for your version of R might be available elsewhere,\n",
            "see the ideas at\n",
            "https://cran.r-project.org/doc/manuals/r-patched/R-admin.html#Installing-packages”\n",
            "Loading required package: limma\n",
            "\n",
            "\n",
            "Attaching package: ‘gplots’\n",
            "\n",
            "\n",
            "The following object is masked from ‘package:stats’:\n",
            "\n",
            "    lowess\n",
            "\n",
            "\n"
          ]
        }
      ]
    },
    {
      "cell_type": "code",
      "metadata": {
        "id": "OAo7KIkPapQ0"
      },
      "source": [
        "##########################################\n",
        "##### Read in the relevant datasets #####\n",
        "##########################################\n",
        "#Read in the peak predictions for motor cortex open chromatin\n",
        "\n",
        "##### Download the matrix of predicted peaks #####\n",
        "\n",
        "peakUrl <- \"https://www.andrew.cmu.edu/user/apfennin/2021_Fall_GEB/project/Corces2020.MSN_D1.calibPeaks.avgCNN.predictions.txt.gz\";\n",
        "system(paste(\"wget \",peakUrl));\n",
        "\n"
      ],
      "execution_count": null,
      "outputs": []
    },
    {
      "cell_type": "code",
      "metadata": {
        "id": "bCGZf81--Dqj",
        "colab": {
          "base_uri": "https://localhost:8080/",
          "height": 306
        },
        "outputId": "d43ccebe-b1ba-4e92-98fc-58a33e2de549"
      },
      "source": [
        "peakPredM <- as.matrix(read.table(file = gzfile(\"Corces2020.MSN_D1.calibPeaks.avgCNN.predictions.txt.gz\"), stringsAsFactors = F, header=T));\n",
        "\n",
        "peaksM <- as.matrix(peakPredM[,c(\"Microcebus_murinus\",\"Propithecus_coquereli\",\"Eulemur_flavifrons\",\"Homo_sapiens\",\"Piliocolobus_tephrosceles\",\"Nomascus_leucogenys\")]);\n",
        "rownames(peaksM) <- peakPredM[,c(\"name\")];\n",
        "peaksM[1:5,]"
      ],
      "execution_count": null,
      "outputs": [
        {
          "output_type": "display_data",
          "data": {
            "text/plain": [
              "                                 Microcebus_murinus Propithecus_coquereli\n",
              "hg38:chr22:21825556-21826056:250 5.841272e-01       5.674196e-01         \n",
              "hg38:chr8:41731592-41732092:250  NA                 8.202694e-01         \n",
              "hg38:chr8:41767708-41768208:250  2.517374e-01       2.815401e-01         \n",
              "hg38:chr8:41822712-41823212:250  NA                 7.771182e-02         \n",
              "hg38:chr8:41834624-41835124:250  2.688745e-01       1.775279e-01         \n",
              "                                 Eulemur_flavifrons Homo_sapiens\n",
              "hg38:chr22:21825556-21826056:250 6.443164e-01       5.362953e-01\n",
              "hg38:chr8:41731592-41732092:250  3.152307e-01       4.423054e-01\n",
              "hg38:chr8:41767708-41768208:250  2.005022e-01       2.817274e-01\n",
              "hg38:chr8:41822712-41823212:250  2.048966e-01       6.822142e-01\n",
              "hg38:chr8:41834624-41835124:250  6.575107e-02       2.278489e-01\n",
              "                                 Piliocolobus_tephrosceles Nomascus_leucogenys\n",
              "hg38:chr22:21825556-21826056:250 3.320594e-01              4.437481e-01       \n",
              "hg38:chr8:41731592-41732092:250  3.026091e-01              NA                 \n",
              "hg38:chr8:41767708-41768208:250  2.280802e-01              3.318722e-01       \n",
              "hg38:chr8:41822712-41823212:250  5.966056e-01              2.425521e-01       \n",
              "hg38:chr8:41834624-41835124:250  2.251176e-01              1.620428e-01       "
            ],
            "text/latex": "A matrix: 5 × 6 of type chr\n\\begin{tabular}{r|llllll}\n  & Microcebus\\_murinus & Propithecus\\_coquereli & Eulemur\\_flavifrons & Homo\\_sapiens & Piliocolobus\\_tephrosceles & Nomascus\\_leucogenys\\\\\n\\hline\n\thg38:chr22:21825556-21826056:250 & 5.841272e-01 & 5.674196e-01 & 6.443164e-01 & 5.362953e-01 & 3.320594e-01 & 4.437481e-01\\\\\n\thg38:chr8:41731592-41732092:250 & NA           & 8.202694e-01 & 3.152307e-01 & 4.423054e-01 & 3.026091e-01 & NA          \\\\\n\thg38:chr8:41767708-41768208:250 & 2.517374e-01 & 2.815401e-01 & 2.005022e-01 & 2.817274e-01 & 2.280802e-01 & 3.318722e-01\\\\\n\thg38:chr8:41822712-41823212:250 & NA           & 7.771182e-02 & 2.048966e-01 & 6.822142e-01 & 5.966056e-01 & 2.425521e-01\\\\\n\thg38:chr8:41834624-41835124:250 & 2.688745e-01 & 1.775279e-01 & 6.575107e-02 & 2.278489e-01 & 2.251176e-01 & 1.620428e-01\\\\\n\\end{tabular}\n",
            "text/markdown": "\nA matrix: 5 × 6 of type chr\n\n| <!--/--> | Microcebus_murinus | Propithecus_coquereli | Eulemur_flavifrons | Homo_sapiens | Piliocolobus_tephrosceles | Nomascus_leucogenys |\n|---|---|---|---|---|---|---|\n| hg38:chr22:21825556-21826056:250 | 5.841272e-01 | 5.674196e-01 | 6.443164e-01 | 5.362953e-01 | 3.320594e-01 | 4.437481e-01 |\n| hg38:chr8:41731592-41732092:250 | NA           | 8.202694e-01 | 3.152307e-01 | 4.423054e-01 | 3.026091e-01 | NA           |\n| hg38:chr8:41767708-41768208:250 | 2.517374e-01 | 2.815401e-01 | 2.005022e-01 | 2.817274e-01 | 2.280802e-01 | 3.318722e-01 |\n| hg38:chr8:41822712-41823212:250 | NA           | 7.771182e-02 | 2.048966e-01 | 6.822142e-01 | 5.966056e-01 | 2.425521e-01 |\n| hg38:chr8:41834624-41835124:250 | 2.688745e-01 | 1.775279e-01 | 6.575107e-02 | 2.278489e-01 | 2.251176e-01 | 1.620428e-01 |\n\n",
            "text/html": [
              "<table class=\"dataframe\">\n",
              "<caption>A matrix: 5 × 6 of type chr</caption>\n",
              "<thead>\n",
              "\t<tr><th></th><th scope=col>Microcebus_murinus</th><th scope=col>Propithecus_coquereli</th><th scope=col>Eulemur_flavifrons</th><th scope=col>Homo_sapiens</th><th scope=col>Piliocolobus_tephrosceles</th><th scope=col>Nomascus_leucogenys</th></tr>\n",
              "</thead>\n",
              "<tbody>\n",
              "\t<tr><th scope=row>hg38:chr22:21825556-21826056:250</th><td>5.841272e-01</td><td>5.674196e-01</td><td>6.443164e-01</td><td>5.362953e-01</td><td>3.320594e-01</td><td>4.437481e-01</td></tr>\n",
              "\t<tr><th scope=row>hg38:chr8:41731592-41732092:250</th><td>NA          </td><td>8.202694e-01</td><td>3.152307e-01</td><td>4.423054e-01</td><td>3.026091e-01</td><td>NA          </td></tr>\n",
              "\t<tr><th scope=row>hg38:chr8:41767708-41768208:250</th><td>2.517374e-01</td><td>2.815401e-01</td><td>2.005022e-01</td><td>2.817274e-01</td><td>2.280802e-01</td><td>3.318722e-01</td></tr>\n",
              "\t<tr><th scope=row>hg38:chr8:41822712-41823212:250</th><td>NA          </td><td>7.771182e-02</td><td>2.048966e-01</td><td>6.822142e-01</td><td>5.966056e-01</td><td>2.425521e-01</td></tr>\n",
              "\t<tr><th scope=row>hg38:chr8:41834624-41835124:250</th><td>2.688745e-01</td><td>1.775279e-01</td><td>6.575107e-02</td><td>2.278489e-01</td><td>2.251176e-01</td><td>1.620428e-01</td></tr>\n",
              "</tbody>\n",
              "</table>\n"
            ]
          },
          "metadata": {}
        }
      ]
    },
    {
      "cell_type": "code",
      "metadata": {
        "id": "7-DZ8gJ1_Tpl",
        "colab": {
          "base_uri": "https://localhost:8080/",
          "height": 385
        },
        "outputId": "7f12858b-0f05-4bd0-d9f4-1618d8939bb7"
      },
      "source": [
        "# Record trait annotation in HashMap\n",
        "install.packages('hash')\n",
        "library(hash)\n",
        "traitAnnotH = hash()\n",
        "traitAnnotH[[\"Microcebus_murinus\"]] <- 5;\n",
        "traitAnnotH[[\"Propithecus_coquereli\"]] <- 9.15;\n",
        "traitAnnotH[[\"Eulemur_flavifrons\"]] <- 1;\n",
        "traitAnnotH[[\"Homo_sapiens\"]] <- 5.75;\n",
        "traitAnnotH[[\"Piliocolobus_tephrosceles\"]] <- 4;\n",
        "traitAnnotH[[\"Nomascus_leucogenys\"]] <- 8.55\n",
        "\n",
        "# put this in a data frame\n",
        "traitAnnotF = data.frame(species = colnames(peaksM))\n",
        "traitAnnotV = c()\n",
        "for (species in traitAnnotF$species){\n",
        "  traitAnnotV = append(traitAnnotV, traitAnnotH[[species]])\n",
        "}\n",
        "traitAnnotF$traitAnnot = traitAnnotV\n",
        "traitAnnotF"
      ],
      "execution_count": null,
      "outputs": [
        {
          "output_type": "stream",
          "name": "stderr",
          "text": [
            "Installing package into ‘/usr/local/lib/R/site-library’\n",
            "(as ‘lib’ is unspecified)\n",
            "\n",
            "hash-2.2.6.1 provided by Decision Patterns\n",
            "\n",
            "\n"
          ]
        },
        {
          "output_type": "display_data",
          "data": {
            "text/plain": [
              "  species                   traitAnnot\n",
              "1 Microcebus_murinus        5.00      \n",
              "2 Propithecus_coquereli     9.15      \n",
              "3 Eulemur_flavifrons        1.00      \n",
              "4 Homo_sapiens              5.75      \n",
              "5 Piliocolobus_tephrosceles 4.00      \n",
              "6 Nomascus_leucogenys       8.55      "
            ],
            "text/latex": "A data.frame: 6 × 2\n\\begin{tabular}{ll}\n species & traitAnnot\\\\\n <chr> & <dbl>\\\\\n\\hline\n\t Microcebus\\_murinus        & 5.00\\\\\n\t Propithecus\\_coquereli     & 9.15\\\\\n\t Eulemur\\_flavifrons        & 1.00\\\\\n\t Homo\\_sapiens              & 5.75\\\\\n\t Piliocolobus\\_tephrosceles & 4.00\\\\\n\t Nomascus\\_leucogenys       & 8.55\\\\\n\\end{tabular}\n",
            "text/markdown": "\nA data.frame: 6 × 2\n\n| species &lt;chr&gt; | traitAnnot &lt;dbl&gt; |\n|---|---|\n| Microcebus_murinus        | 5.00 |\n| Propithecus_coquereli     | 9.15 |\n| Eulemur_flavifrons        | 1.00 |\n| Homo_sapiens              | 5.75 |\n| Piliocolobus_tephrosceles | 4.00 |\n| Nomascus_leucogenys       | 8.55 |\n\n",
            "text/html": [
              "<table class=\"dataframe\">\n",
              "<caption>A data.frame: 6 × 2</caption>\n",
              "<thead>\n",
              "\t<tr><th scope=col>species</th><th scope=col>traitAnnot</th></tr>\n",
              "\t<tr><th scope=col>&lt;chr&gt;</th><th scope=col>&lt;dbl&gt;</th></tr>\n",
              "</thead>\n",
              "<tbody>\n",
              "\t<tr><td>Microcebus_murinus       </td><td>5.00</td></tr>\n",
              "\t<tr><td>Propithecus_coquereli    </td><td>9.15</td></tr>\n",
              "\t<tr><td>Eulemur_flavifrons       </td><td>1.00</td></tr>\n",
              "\t<tr><td>Homo_sapiens             </td><td>5.75</td></tr>\n",
              "\t<tr><td>Piliocolobus_tephrosceles</td><td>4.00</td></tr>\n",
              "\t<tr><td>Nomascus_leucogenys      </td><td>8.55</td></tr>\n",
              "</tbody>\n",
              "</table>\n"
            ]
          },
          "metadata": {}
        }
      ]
    },
    {
      "cell_type": "code",
      "metadata": {
        "id": "f1T3yidx4-CW"
      },
      "source": [
        "# ####### Read in the distance matrix based on the whole genome sequence alignment ############\n",
        "# #Low values mean the species are more similar to each other\n",
        "# molecularSimM <- as.matrix(read.csv(file=\"http://www.andrew.cmu.edu/user/apfennin/2021_Fall_GEB/hw2/200Mammal_hal_tree_noancestors_matrix.csv\",stringsAsFactors=F,header=T,row.names=1));"
      ],
      "execution_count": null,
      "outputs": []
    },
    {
      "cell_type": "code",
      "metadata": {
        "id": "sUaxn-P_ShRP"
      },
      "source": [
        "# ### Adjust the molecular similarity matrix to be symmetric ###\n",
        "# molecularDistM <- 1 - molecularSimM;\n",
        "# for(curSpec1 in rownames(molecularDistM)) {\n",
        "#   for(curSpec2 in colnames(molecularDistM)) {\n",
        "#     if(curSpec1 != curSpec2) {\n",
        "#       if(is.na(molecularDistM[curSpec1,curSpec2])) {\n",
        "#         molecularDistM[curSpec1,curSpec2] = molecularDistM[curSpec2,curSpec1]\n",
        "#       }\n",
        "#     } else {\n",
        "#       molecularDistM[curSpec1,curSpec2] = 0;\n",
        "#     }\n",
        "#   }\n",
        "# }\n",
        "# molecularDistM <- as.matrix(molecularDistM[c(\"Microcebus_murinus\",\"Propithecus_coquereli\",\"Eulemur_flavifrons\",\"Homo_sapiens\",\"Piliocolobus_tephrosceles\",\"Nomascus_leucogenys\"),\n",
        "# c(\"Microcebus_murinus\",\"Propithecus_coquereli\",\"Eulemur_flavifrons\",\"Homo_sapiens\",\"Piliocolobus_tephrosceles\",\"Nomascus_leucogenys\")]);\n",
        "\n",
        "\n",
        "# molecularDistM"
      ],
      "execution_count": null,
      "outputs": []
    },
    {
      "cell_type": "code",
      "metadata": {
        "id": "HYz2OeLTDEf8"
      },
      "source": [
        "# ### T-test --> pval ###\n",
        "# foregroundSpeciesV <- c(\"Microcebus_murinus\", \"Eulemur_flavifrons\", \"Piliocolobus_tephrosceles\")\n",
        "# backgroundSpeciesV <- c(\"Propithecus_coquereli\", \"Homo_sapiens\", \"Nomascus_leucogenys\")\n",
        "\n",
        "\n",
        "# diffPvaluesV <- rep(NA,length(peaksM[,\"Microcebus_murinus\"])); \n",
        "# names(diffPvaluesV) <- row.names(peaksM); \n",
        "# diffMeansV <- diffPvaluesV \n",
        "\n",
        "# for(curPeak in row.names(peaksM)) { \n",
        "#   curForegroundValuesV <- as.double(peaksM[curPeak,foregroundSpeciesV]);\n",
        "#   curBackgroundValuesV <- as.double(peaksM[curPeak,backgroundSpeciesV]); \n",
        "#   if(length(which(!is.na(curForegroundValuesV))) > 1 && length(which(!is.na(curBackgroundValuesV))) > 1) { \n",
        "#     if(sd(curForegroundValuesV,na.rm=T) > 0 && sd(curBackgroundValuesV,na.rm=T) > 0) { \n",
        "#       curTtest <- t.test(x=curForegroundValuesV,y=curBackgroundValuesV); \n",
        "#       diffPvaluesV[curPeak] <- curTtest$p.value\n",
        "#       diffMeansV[curPeak] <- mean(as.double(peaksM[curPeak,foregroundSpeciesV]),na.rm=T) - mean(as.double(peaksM[curPeak,backgroundSpeciesV]),na.rm=T);\n",
        "#     }\n",
        "#   }\n",
        "\n",
        "# }"
      ],
      "execution_count": null,
      "outputs": []
    },
    {
      "cell_type": "markdown",
      "metadata": {
        "id": "fQNBPkdxAxI5"
      },
      "source": [
        "**For each cell type, for each region of open chromatin, calculate the difference in open chromatin between/across the species of choice.**\n",
        "1. First, you need to calculate a significance value (p-value) that describes the extent to which each region is associated with the trait annotation.\n",
        "2. Second, calculate a value that represents the magnitude and direction of the difference. This includes whether the open chromatin is predicted to be higher or lower when your trait varies. It also includes the extent to which it is different. This can be a difference in means across groups or the correlation between the trait and predicted open chromatin.\n",
        "\n",
        "We used a correlation value between the trait and the predicted open chromatin. Specifically, it is the slope of the fitted linear regression line.\n",
        "\n",
        "3. For each of those two measures (p-value and magnitude/direction) plot a histogram of the distribution of values. What do those histograms tell you about the statistical tests you conduct?\n",
        "\n",
        "There are fewer significant p values than we expect by random chance. This means that there probably is a lot of noise in the data. There are slightly more genes that have expression levels that are positively correlated with social group size and those with expression levels that are negatively correlated with social group size because the middle of the slope histogram is shifted slightly to the right from 0.\n",
        "\n",
        "4. Perform a p-value correction for multiple hypotheses. How many regions are significantly positively or significantly negatively associated at an adjusted p-value of <= 0.1? (It’s OK if there are none, sometimes we are statistically under-powered).\n",
        "\n",
        "None."
      ]
    },
    {
      "cell_type": "code",
      "metadata": {
        "id": "uTEPbhv6pRwq"
      },
      "source": [
        "### Linear regression ---> pval ###\n",
        "diffPvaluesV<- rep(NA,length(peaksM[,\"Microcebus_murinus\"]));\n",
        "names(diffPvaluesV) <- row.names(peaksM); \n",
        "diffSlopeV <- diffPvaluesV\n",
        "\n",
        "for(curPeak in row.names(peaksM)){\n",
        "  curRow = as.double(peaksM[curPeak,])\n",
        "  if(length(which(!is.na(curRow))) > 4 && sd(curRow,na.rm=T) > 0) {\n",
        "    newDfForPeak = data.frame(species = colnames(peaksM), POCValue = curRow, traitAnnot = traitAnnotF[\"traitAnnot\"])\n",
        "    lmpeak = lm(traitAnnot~POCValue, data = newDfForPeak)\n",
        "    diffPvaluesV[curPeak] = summary(lmpeak)$coefficients[\"POCValue\", \"Pr(>|t|)\"]\n",
        "    diffSlopeV[curPeak] = summary(lmpeak)$coefficients[\"POCValue\", \"Estimate\"]\n",
        "  }\n",
        "}"
      ],
      "execution_count": null,
      "outputs": []
    },
    {
      "cell_type": "code",
      "metadata": {
        "colab": {
          "base_uri": "https://localhost:8080/",
          "height": 153
        },
        "id": "KXeSlz3Eypel",
        "outputId": "401aff56-3c1a-4633-feaf-80ac7bea2e57"
      },
      "source": [
        "diffPvaluesV[1:10]\n",
        "diffSlopeV[1:10]"
      ],
      "execution_count": null,
      "outputs": [
        {
          "output_type": "display_data",
          "data": {
            "text/plain": [
              "hg38:chr22:21825556-21826056:250  hg38:chr8:41731592-41732092:250 \n",
              "                      0.68254953                               NA \n",
              " hg38:chr8:41767708-41768208:250  hg38:chr8:41822712-41823212:250 \n",
              "                      0.01667111                       0.65635646 \n",
              " hg38:chr8:41834624-41835124:250  hg38:chr8:42005314-42005814:250 \n",
              "                      0.53121696                       0.22100222 \n",
              " hg38:chr8:42015612-42016112:250  hg38:chr8:42017819-42018319:250 \n",
              "                              NA                       0.75337150 \n",
              " hg38:chr8:42423772-42424272:250  hg38:chr8:42673983-42674483:250 \n",
              "                              NA                               NA "
            ],
            "text/latex": "\\begin{description*}\n\\item[hg38:chr22:21825556-21826056:250] 0.682549533144933\n\\item[hg38:chr8:41731592-41732092:250] <NA>\n\\item[hg38:chr8:41767708-41768208:250] 0.0166711144057559\n\\item[hg38:chr8:41822712-41823212:250] 0.656356457833948\n\\item[hg38:chr8:41834624-41835124:250] 0.53121696232228\n\\item[hg38:chr8:42005314-42005814:250] 0.221002224129871\n\\item[hg38:chr8:42015612-42016112:250] <NA>\n\\item[hg38:chr8:42017819-42018319:250] 0.753371502419142\n\\item[hg38:chr8:42423772-42424272:250] <NA>\n\\item[hg38:chr8:42673983-42674483:250] <NA>\n\\end{description*}\n",
            "text/markdown": "hg38:chr22:21825556-21826056:250\n:   0.682549533144933hg38:chr8:41731592-41732092:250\n:   &lt;NA&gt;hg38:chr8:41767708-41768208:250\n:   0.0166711144057559hg38:chr8:41822712-41823212:250\n:   0.656356457833948hg38:chr8:41834624-41835124:250\n:   0.53121696232228hg38:chr8:42005314-42005814:250\n:   0.221002224129871hg38:chr8:42015612-42016112:250\n:   &lt;NA&gt;hg38:chr8:42017819-42018319:250\n:   0.753371502419142hg38:chr8:42423772-42424272:250\n:   &lt;NA&gt;hg38:chr8:42673983-42674483:250\n:   &lt;NA&gt;\n\n",
            "text/html": [
              "<style>\n",
              ".dl-inline {width: auto; margin:0; padding: 0}\n",
              ".dl-inline>dt, .dl-inline>dd {float: none; width: auto; display: inline-block}\n",
              ".dl-inline>dt::after {content: \":\\0020\"; padding-right: .5ex}\n",
              ".dl-inline>dt:not(:first-of-type) {padding-left: .5ex}\n",
              "</style><dl class=dl-inline><dt>hg38:chr22:21825556-21826056:250</dt><dd>0.682549533144933</dd><dt>hg38:chr8:41731592-41732092:250</dt><dd>&lt;NA&gt;</dd><dt>hg38:chr8:41767708-41768208:250</dt><dd>0.0166711144057559</dd><dt>hg38:chr8:41822712-41823212:250</dt><dd>0.656356457833948</dd><dt>hg38:chr8:41834624-41835124:250</dt><dd>0.53121696232228</dd><dt>hg38:chr8:42005314-42005814:250</dt><dd>0.221002224129871</dd><dt>hg38:chr8:42015612-42016112:250</dt><dd>&lt;NA&gt;</dd><dt>hg38:chr8:42017819-42018319:250</dt><dd>0.753371502419142</dd><dt>hg38:chr8:42423772-42424272:250</dt><dd>&lt;NA&gt;</dd><dt>hg38:chr8:42673983-42674483:250</dt><dd>&lt;NA&gt;</dd></dl>\n"
            ]
          },
          "metadata": {}
        },
        {
          "output_type": "display_data",
          "data": {
            "text/plain": [
              "hg38:chr22:21825556-21826056:250  hg38:chr8:41731592-41732092:250 \n",
              "                       -5.761515                               NA \n",
              " hg38:chr8:41767708-41768208:250  hg38:chr8:41822712-41823212:250 \n",
              "                       58.177274                        -3.482073 \n",
              " hg38:chr8:41834624-41835124:250  hg38:chr8:42005314-42005814:250 \n",
              "                       13.736728                       -77.354403 \n",
              " hg38:chr8:42015612-42016112:250  hg38:chr8:42017819-42018319:250 \n",
              "                              NA                         3.126385 \n",
              " hg38:chr8:42423772-42424272:250  hg38:chr8:42673983-42674483:250 \n",
              "                              NA                               NA "
            ],
            "text/latex": "\\begin{description*}\n\\item[hg38:chr22:21825556-21826056:250] -5.7615151078068\n\\item[hg38:chr8:41731592-41732092:250] <NA>\n\\item[hg38:chr8:41767708-41768208:250] 58.1772743884546\n\\item[hg38:chr8:41822712-41823212:250] -3.4820733074518\n\\item[hg38:chr8:41834624-41835124:250] 13.73672802039\n\\item[hg38:chr8:42005314-42005814:250] -77.3544030918141\n\\item[hg38:chr8:42015612-42016112:250] <NA>\n\\item[hg38:chr8:42017819-42018319:250] 3.12638487118874\n\\item[hg38:chr8:42423772-42424272:250] <NA>\n\\item[hg38:chr8:42673983-42674483:250] <NA>\n\\end{description*}\n",
            "text/markdown": "hg38:chr22:21825556-21826056:250\n:   -5.7615151078068hg38:chr8:41731592-41732092:250\n:   &lt;NA&gt;hg38:chr8:41767708-41768208:250\n:   58.1772743884546hg38:chr8:41822712-41823212:250\n:   -3.4820733074518hg38:chr8:41834624-41835124:250\n:   13.73672802039hg38:chr8:42005314-42005814:250\n:   -77.3544030918141hg38:chr8:42015612-42016112:250\n:   &lt;NA&gt;hg38:chr8:42017819-42018319:250\n:   3.12638487118874hg38:chr8:42423772-42424272:250\n:   &lt;NA&gt;hg38:chr8:42673983-42674483:250\n:   &lt;NA&gt;\n\n",
            "text/html": [
              "<style>\n",
              ".dl-inline {width: auto; margin:0; padding: 0}\n",
              ".dl-inline>dt, .dl-inline>dd {float: none; width: auto; display: inline-block}\n",
              ".dl-inline>dt::after {content: \":\\0020\"; padding-right: .5ex}\n",
              ".dl-inline>dt:not(:first-of-type) {padding-left: .5ex}\n",
              "</style><dl class=dl-inline><dt>hg38:chr22:21825556-21826056:250</dt><dd>-5.7615151078068</dd><dt>hg38:chr8:41731592-41732092:250</dt><dd>&lt;NA&gt;</dd><dt>hg38:chr8:41767708-41768208:250</dt><dd>58.1772743884546</dd><dt>hg38:chr8:41822712-41823212:250</dt><dd>-3.4820733074518</dd><dt>hg38:chr8:41834624-41835124:250</dt><dd>13.73672802039</dd><dt>hg38:chr8:42005314-42005814:250</dt><dd>-77.3544030918141</dd><dt>hg38:chr8:42015612-42016112:250</dt><dd>&lt;NA&gt;</dd><dt>hg38:chr8:42017819-42018319:250</dt><dd>3.12638487118874</dd><dt>hg38:chr8:42423772-42424272:250</dt><dd>&lt;NA&gt;</dd><dt>hg38:chr8:42673983-42674483:250</dt><dd>&lt;NA&gt;</dd></dl>\n"
            ]
          },
          "metadata": {}
        }
      ]
    },
    {
      "cell_type": "code",
      "metadata": {
        "id": "AD1pmXdMpAvp",
        "colab": {
          "base_uri": "https://localhost:8080/",
          "height": 487
        },
        "outputId": "4a67c1a4-a556-449b-e825-81cd071a373e"
      },
      "source": [
        "diffResultsF <- data.frame(id=row.names(peaksM), slope=diffSlopeV, pvalue=diffPvaluesV, padj = p.adjust(diffPvaluesV))\n",
        "diffResultsSortPadjF <- diffResultsF[order(diffResultsF$padj),]\n",
        "diffResultsSortPvalueF <- diffResultsF[order(diffResultsF$pvalue),]\n",
        "diffResultsSortPadjF[1:5,]\n",
        "diffResultsSortPvalueF[1:5,]"
      ],
      "execution_count": null,
      "outputs": [
        {
          "output_type": "display_data",
          "data": {
            "text/plain": [
              "                                 id                               slope     \n",
              "hg38:chr22:21825556-21826056:250 hg38:chr22:21825556-21826056:250  -5.761515\n",
              "hg38:chr8:41767708-41768208:250  hg38:chr8:41767708-41768208:250   58.177274\n",
              "hg38:chr8:41822712-41823212:250  hg38:chr8:41822712-41823212:250   -3.482073\n",
              "hg38:chr8:41834624-41835124:250  hg38:chr8:41834624-41835124:250   13.736728\n",
              "hg38:chr8:42005314-42005814:250  hg38:chr8:42005314-42005814:250  -77.354403\n",
              "                                 pvalue     padj\n",
              "hg38:chr22:21825556-21826056:250 0.68254953 1   \n",
              "hg38:chr8:41767708-41768208:250  0.01667111 1   \n",
              "hg38:chr8:41822712-41823212:250  0.65635646 1   \n",
              "hg38:chr8:41834624-41835124:250  0.53121696 1   \n",
              "hg38:chr8:42005314-42005814:250  0.22100222 1   "
            ],
            "text/latex": "A data.frame: 5 × 4\n\\begin{tabular}{r|llll}\n  & id & slope & pvalue & padj\\\\\n  & <chr> & <dbl> & <dbl> & <dbl>\\\\\n\\hline\n\thg38:chr22:21825556-21826056:250 & hg38:chr22:21825556-21826056:250 &  -5.761515 & 0.68254953 & 1\\\\\n\thg38:chr8:41767708-41768208:250 & hg38:chr8:41767708-41768208:250  &  58.177274 & 0.01667111 & 1\\\\\n\thg38:chr8:41822712-41823212:250 & hg38:chr8:41822712-41823212:250  &  -3.482073 & 0.65635646 & 1\\\\\n\thg38:chr8:41834624-41835124:250 & hg38:chr8:41834624-41835124:250  &  13.736728 & 0.53121696 & 1\\\\\n\thg38:chr8:42005314-42005814:250 & hg38:chr8:42005314-42005814:250  & -77.354403 & 0.22100222 & 1\\\\\n\\end{tabular}\n",
            "text/markdown": "\nA data.frame: 5 × 4\n\n| <!--/--> | id &lt;chr&gt; | slope &lt;dbl&gt; | pvalue &lt;dbl&gt; | padj &lt;dbl&gt; |\n|---|---|---|---|---|\n| hg38:chr22:21825556-21826056:250 | hg38:chr22:21825556-21826056:250 |  -5.761515 | 0.68254953 | 1 |\n| hg38:chr8:41767708-41768208:250 | hg38:chr8:41767708-41768208:250  |  58.177274 | 0.01667111 | 1 |\n| hg38:chr8:41822712-41823212:250 | hg38:chr8:41822712-41823212:250  |  -3.482073 | 0.65635646 | 1 |\n| hg38:chr8:41834624-41835124:250 | hg38:chr8:41834624-41835124:250  |  13.736728 | 0.53121696 | 1 |\n| hg38:chr8:42005314-42005814:250 | hg38:chr8:42005314-42005814:250  | -77.354403 | 0.22100222 | 1 |\n\n",
            "text/html": [
              "<table class=\"dataframe\">\n",
              "<caption>A data.frame: 5 × 4</caption>\n",
              "<thead>\n",
              "\t<tr><th></th><th scope=col>id</th><th scope=col>slope</th><th scope=col>pvalue</th><th scope=col>padj</th></tr>\n",
              "\t<tr><th></th><th scope=col>&lt;chr&gt;</th><th scope=col>&lt;dbl&gt;</th><th scope=col>&lt;dbl&gt;</th><th scope=col>&lt;dbl&gt;</th></tr>\n",
              "</thead>\n",
              "<tbody>\n",
              "\t<tr><th scope=row>hg38:chr22:21825556-21826056:250</th><td>hg38:chr22:21825556-21826056:250</td><td> -5.761515</td><td>0.68254953</td><td>1</td></tr>\n",
              "\t<tr><th scope=row>hg38:chr8:41767708-41768208:250</th><td>hg38:chr8:41767708-41768208:250 </td><td> 58.177274</td><td>0.01667111</td><td>1</td></tr>\n",
              "\t<tr><th scope=row>hg38:chr8:41822712-41823212:250</th><td>hg38:chr8:41822712-41823212:250 </td><td> -3.482073</td><td>0.65635646</td><td>1</td></tr>\n",
              "\t<tr><th scope=row>hg38:chr8:41834624-41835124:250</th><td>hg38:chr8:41834624-41835124:250 </td><td> 13.736728</td><td>0.53121696</td><td>1</td></tr>\n",
              "\t<tr><th scope=row>hg38:chr8:42005314-42005814:250</th><td>hg38:chr8:42005314-42005814:250 </td><td>-77.354403</td><td>0.22100222</td><td>1</td></tr>\n",
              "</tbody>\n",
              "</table>\n"
            ]
          },
          "metadata": {}
        },
        {
          "output_type": "display_data",
          "data": {
            "text/plain": [
              "                                  id                                slope   \n",
              "hg38:chr3:1353150-1353650:250     hg38:chr3:1353150-1353650:250     12.58979\n",
              "hg38:chr18:37538346-37538846:250  hg38:chr18:37538346-37538846:250  21.94954\n",
              "hg38:chr4:81922206-81922706:250   hg38:chr4:81922206-81922706:250   23.07976\n",
              "hg38:chr5:167694170-167694670:250 hg38:chr5:167694170-167694670:250 15.33658\n",
              "hg38:chr5:178076066-178076566:250 hg38:chr5:178076066-178076566:250 54.89946\n",
              "                                  pvalue       padj\n",
              "hg38:chr3:1353150-1353650:250     8.864455e-05 1   \n",
              "hg38:chr18:37538346-37538846:250  2.080967e-04 1   \n",
              "hg38:chr4:81922206-81922706:250   2.389770e-04 1   \n",
              "hg38:chr5:167694170-167694670:250 4.385547e-04 1   \n",
              "hg38:chr5:178076066-178076566:250 6.620295e-04 1   "
            ],
            "text/latex": "A data.frame: 5 × 4\n\\begin{tabular}{r|llll}\n  & id & slope & pvalue & padj\\\\\n  & <chr> & <dbl> & <dbl> & <dbl>\\\\\n\\hline\n\thg38:chr3:1353150-1353650:250 & hg38:chr3:1353150-1353650:250     & 12.58979 & 8.864455e-05 & 1\\\\\n\thg38:chr18:37538346-37538846:250 & hg38:chr18:37538346-37538846:250  & 21.94954 & 2.080967e-04 & 1\\\\\n\thg38:chr4:81922206-81922706:250 & hg38:chr4:81922206-81922706:250   & 23.07976 & 2.389770e-04 & 1\\\\\n\thg38:chr5:167694170-167694670:250 & hg38:chr5:167694170-167694670:250 & 15.33658 & 4.385547e-04 & 1\\\\\n\thg38:chr5:178076066-178076566:250 & hg38:chr5:178076066-178076566:250 & 54.89946 & 6.620295e-04 & 1\\\\\n\\end{tabular}\n",
            "text/markdown": "\nA data.frame: 5 × 4\n\n| <!--/--> | id &lt;chr&gt; | slope &lt;dbl&gt; | pvalue &lt;dbl&gt; | padj &lt;dbl&gt; |\n|---|---|---|---|---|\n| hg38:chr3:1353150-1353650:250 | hg38:chr3:1353150-1353650:250     | 12.58979 | 8.864455e-05 | 1 |\n| hg38:chr18:37538346-37538846:250 | hg38:chr18:37538346-37538846:250  | 21.94954 | 2.080967e-04 | 1 |\n| hg38:chr4:81922206-81922706:250 | hg38:chr4:81922206-81922706:250   | 23.07976 | 2.389770e-04 | 1 |\n| hg38:chr5:167694170-167694670:250 | hg38:chr5:167694170-167694670:250 | 15.33658 | 4.385547e-04 | 1 |\n| hg38:chr5:178076066-178076566:250 | hg38:chr5:178076066-178076566:250 | 54.89946 | 6.620295e-04 | 1 |\n\n",
            "text/html": [
              "<table class=\"dataframe\">\n",
              "<caption>A data.frame: 5 × 4</caption>\n",
              "<thead>\n",
              "\t<tr><th></th><th scope=col>id</th><th scope=col>slope</th><th scope=col>pvalue</th><th scope=col>padj</th></tr>\n",
              "\t<tr><th></th><th scope=col>&lt;chr&gt;</th><th scope=col>&lt;dbl&gt;</th><th scope=col>&lt;dbl&gt;</th><th scope=col>&lt;dbl&gt;</th></tr>\n",
              "</thead>\n",
              "<tbody>\n",
              "\t<tr><th scope=row>hg38:chr3:1353150-1353650:250</th><td>hg38:chr3:1353150-1353650:250    </td><td>12.58979</td><td>8.864455e-05</td><td>1</td></tr>\n",
              "\t<tr><th scope=row>hg38:chr18:37538346-37538846:250</th><td>hg38:chr18:37538346-37538846:250 </td><td>21.94954</td><td>2.080967e-04</td><td>1</td></tr>\n",
              "\t<tr><th scope=row>hg38:chr4:81922206-81922706:250</th><td>hg38:chr4:81922206-81922706:250  </td><td>23.07976</td><td>2.389770e-04</td><td>1</td></tr>\n",
              "\t<tr><th scope=row>hg38:chr5:167694170-167694670:250</th><td>hg38:chr5:167694170-167694670:250</td><td>15.33658</td><td>4.385547e-04</td><td>1</td></tr>\n",
              "\t<tr><th scope=row>hg38:chr5:178076066-178076566:250</th><td>hg38:chr5:178076066-178076566:250</td><td>54.89946</td><td>6.620295e-04</td><td>1</td></tr>\n",
              "</tbody>\n",
              "</table>\n"
            ]
          },
          "metadata": {}
        }
      ]
    },
    {
      "cell_type": "code",
      "metadata": {
        "colab": {
          "base_uri": "https://localhost:8080/",
          "height": 407
        },
        "id": "dS8mzAsl5CeZ",
        "outputId": "251241e8-a27f-479b-da9c-7a8cbf95f614"
      },
      "source": [
        "diffResultsSortPvalueF[1:10,]"
      ],
      "execution_count": null,
      "outputs": [
        {
          "output_type": "display_data",
          "data": {
            "text/plain": [
              "                                   id                                 slope    \n",
              "hg38:chr3:1353150-1353650:250      hg38:chr3:1353150-1353650:250       12.58979\n",
              "hg38:chr18:37538346-37538846:250   hg38:chr18:37538346-37538846:250    21.94954\n",
              "hg38:chr4:81922206-81922706:250    hg38:chr4:81922206-81922706:250     23.07976\n",
              "hg38:chr5:167694170-167694670:250  hg38:chr5:167694170-167694670:250   15.33658\n",
              "hg38:chr5:178076066-178076566:250  hg38:chr5:178076066-178076566:250   54.89946\n",
              "hg38:chr7:104538106-104538606:250  hg38:chr7:104538106-104538606:250  -23.69429\n",
              "hg38:chr7:151759441-151759941:250  hg38:chr7:151759441-151759941:250  -17.09407\n",
              "hg38:chr2:122516831-122517331:250  hg38:chr2:122516831-122517331:250   30.08444\n",
              "hg38:chr13:111385333-111385833:250 hg38:chr13:111385333-111385833:250  42.12960\n",
              "hg38:chr6:78910577-78911077:250    hg38:chr6:78910577-78911077:250     13.41414\n",
              "                                   pvalue       padj\n",
              "hg38:chr3:1353150-1353650:250      8.864455e-05 1   \n",
              "hg38:chr18:37538346-37538846:250   2.080967e-04 1   \n",
              "hg38:chr4:81922206-81922706:250    2.389770e-04 1   \n",
              "hg38:chr5:167694170-167694670:250  4.385547e-04 1   \n",
              "hg38:chr5:178076066-178076566:250  6.620295e-04 1   \n",
              "hg38:chr7:104538106-104538606:250  7.502267e-04 1   \n",
              "hg38:chr7:151759441-151759941:250  8.756438e-04 1   \n",
              "hg38:chr2:122516831-122517331:250  9.634151e-04 1   \n",
              "hg38:chr13:111385333-111385833:250 1.036529e-03 1   \n",
              "hg38:chr6:78910577-78911077:250    1.053919e-03 1   "
            ],
            "text/latex": "A data.frame: 10 × 4\n\\begin{tabular}{r|llll}\n  & id & slope & pvalue & padj\\\\\n  & <chr> & <dbl> & <dbl> & <dbl>\\\\\n\\hline\n\thg38:chr3:1353150-1353650:250 & hg38:chr3:1353150-1353650:250      &  12.58979 & 8.864455e-05 & 1\\\\\n\thg38:chr18:37538346-37538846:250 & hg38:chr18:37538346-37538846:250   &  21.94954 & 2.080967e-04 & 1\\\\\n\thg38:chr4:81922206-81922706:250 & hg38:chr4:81922206-81922706:250    &  23.07976 & 2.389770e-04 & 1\\\\\n\thg38:chr5:167694170-167694670:250 & hg38:chr5:167694170-167694670:250  &  15.33658 & 4.385547e-04 & 1\\\\\n\thg38:chr5:178076066-178076566:250 & hg38:chr5:178076066-178076566:250  &  54.89946 & 6.620295e-04 & 1\\\\\n\thg38:chr7:104538106-104538606:250 & hg38:chr7:104538106-104538606:250  & -23.69429 & 7.502267e-04 & 1\\\\\n\thg38:chr7:151759441-151759941:250 & hg38:chr7:151759441-151759941:250  & -17.09407 & 8.756438e-04 & 1\\\\\n\thg38:chr2:122516831-122517331:250 & hg38:chr2:122516831-122517331:250  &  30.08444 & 9.634151e-04 & 1\\\\\n\thg38:chr13:111385333-111385833:250 & hg38:chr13:111385333-111385833:250 &  42.12960 & 1.036529e-03 & 1\\\\\n\thg38:chr6:78910577-78911077:250 & hg38:chr6:78910577-78911077:250    &  13.41414 & 1.053919e-03 & 1\\\\\n\\end{tabular}\n",
            "text/markdown": "\nA data.frame: 10 × 4\n\n| <!--/--> | id &lt;chr&gt; | slope &lt;dbl&gt; | pvalue &lt;dbl&gt; | padj &lt;dbl&gt; |\n|---|---|---|---|---|\n| hg38:chr3:1353150-1353650:250 | hg38:chr3:1353150-1353650:250      |  12.58979 | 8.864455e-05 | 1 |\n| hg38:chr18:37538346-37538846:250 | hg38:chr18:37538346-37538846:250   |  21.94954 | 2.080967e-04 | 1 |\n| hg38:chr4:81922206-81922706:250 | hg38:chr4:81922206-81922706:250    |  23.07976 | 2.389770e-04 | 1 |\n| hg38:chr5:167694170-167694670:250 | hg38:chr5:167694170-167694670:250  |  15.33658 | 4.385547e-04 | 1 |\n| hg38:chr5:178076066-178076566:250 | hg38:chr5:178076066-178076566:250  |  54.89946 | 6.620295e-04 | 1 |\n| hg38:chr7:104538106-104538606:250 | hg38:chr7:104538106-104538606:250  | -23.69429 | 7.502267e-04 | 1 |\n| hg38:chr7:151759441-151759941:250 | hg38:chr7:151759441-151759941:250  | -17.09407 | 8.756438e-04 | 1 |\n| hg38:chr2:122516831-122517331:250 | hg38:chr2:122516831-122517331:250  |  30.08444 | 9.634151e-04 | 1 |\n| hg38:chr13:111385333-111385833:250 | hg38:chr13:111385333-111385833:250 |  42.12960 | 1.036529e-03 | 1 |\n| hg38:chr6:78910577-78911077:250 | hg38:chr6:78910577-78911077:250    |  13.41414 | 1.053919e-03 | 1 |\n\n",
            "text/html": [
              "<table class=\"dataframe\">\n",
              "<caption>A data.frame: 10 × 4</caption>\n",
              "<thead>\n",
              "\t<tr><th></th><th scope=col>id</th><th scope=col>slope</th><th scope=col>pvalue</th><th scope=col>padj</th></tr>\n",
              "\t<tr><th></th><th scope=col>&lt;chr&gt;</th><th scope=col>&lt;dbl&gt;</th><th scope=col>&lt;dbl&gt;</th><th scope=col>&lt;dbl&gt;</th></tr>\n",
              "</thead>\n",
              "<tbody>\n",
              "\t<tr><th scope=row>hg38:chr3:1353150-1353650:250</th><td>hg38:chr3:1353150-1353650:250     </td><td> 12.58979</td><td>8.864455e-05</td><td>1</td></tr>\n",
              "\t<tr><th scope=row>hg38:chr18:37538346-37538846:250</th><td>hg38:chr18:37538346-37538846:250  </td><td> 21.94954</td><td>2.080967e-04</td><td>1</td></tr>\n",
              "\t<tr><th scope=row>hg38:chr4:81922206-81922706:250</th><td>hg38:chr4:81922206-81922706:250   </td><td> 23.07976</td><td>2.389770e-04</td><td>1</td></tr>\n",
              "\t<tr><th scope=row>hg38:chr5:167694170-167694670:250</th><td>hg38:chr5:167694170-167694670:250 </td><td> 15.33658</td><td>4.385547e-04</td><td>1</td></tr>\n",
              "\t<tr><th scope=row>hg38:chr5:178076066-178076566:250</th><td>hg38:chr5:178076066-178076566:250 </td><td> 54.89946</td><td>6.620295e-04</td><td>1</td></tr>\n",
              "\t<tr><th scope=row>hg38:chr7:104538106-104538606:250</th><td>hg38:chr7:104538106-104538606:250 </td><td>-23.69429</td><td>7.502267e-04</td><td>1</td></tr>\n",
              "\t<tr><th scope=row>hg38:chr7:151759441-151759941:250</th><td>hg38:chr7:151759441-151759941:250 </td><td>-17.09407</td><td>8.756438e-04</td><td>1</td></tr>\n",
              "\t<tr><th scope=row>hg38:chr2:122516831-122517331:250</th><td>hg38:chr2:122516831-122517331:250 </td><td> 30.08444</td><td>9.634151e-04</td><td>1</td></tr>\n",
              "\t<tr><th scope=row>hg38:chr13:111385333-111385833:250</th><td>hg38:chr13:111385333-111385833:250</td><td> 42.12960</td><td>1.036529e-03</td><td>1</td></tr>\n",
              "\t<tr><th scope=row>hg38:chr6:78910577-78911077:250</th><td>hg38:chr6:78910577-78911077:250   </td><td> 13.41414</td><td>1.053919e-03</td><td>1</td></tr>\n",
              "</tbody>\n",
              "</table>\n"
            ]
          },
          "metadata": {}
        }
      ]
    },
    {
      "cell_type": "code",
      "metadata": {
        "id": "Ec-1wRCErQJZ",
        "colab": {
          "base_uri": "https://localhost:8080/",
          "height": 857
        },
        "outputId": "f36ddeba-bbf1-46c5-98c8-d597a37b3a17"
      },
      "source": [
        "ggplot(diffResultsF, aes(slope)) + geom_histogram(na.rm = TRUE, bins = 50) + xlim(-50, 50)\n",
        "ggplot(diffResultsF, aes(pvalue)) + geom_histogram(na.rm = TRUE, bins = 50)"
      ],
      "execution_count": null,
      "outputs": [
        {
          "output_type": "display_data",
          "data": {
            "image/png": "[encoded data removed]",
            "text/plain": [
              "plot without title"
            ]
          },
          "metadata": {
            "image/png": {
              "width": 420,
              "height": 420
            }
          }
        },
        {
          "output_type": "display_data",
          "data": {
            "image/png": "[encoded data removed]",
            "text/plain": [
              "plot without title"
            ]
          },
          "metadata": {
            "image/png": {
              "width": 420,
              "height": 420
            }
          }
        }
      ]
    },
    {
      "cell_type": "markdown",
      "metadata": {
        "id": "odn_841ztHyN"
      },
      "source": [
        "**For each cell type, find the peak that is most positively and most negatively associated with the trait (based on un-adjusted p-value).**\n",
        "\n",
        "1. Create a barplot or scatter plot for those peak that show its association with the trait.\n",
        "\n",
        "2. Visualize those peaks in the UCSC browser to find the some of the nearby genes. For each of those peaks, perform a literature search using pubmed for one of the nearby genes. What is the function of that gene and does it relate at all to the trait you are studying?\n",
        "\n",
        "a. The peak that is most positively associated with the trait is located within one intron of CNTN6. Deletions and coding sequence variants in CNTN6 are enriched in individuals with autism spectrum disorders (ASD) compared to non-autistic controls (https://www.ncbi.nlm.nih.gov/pmc/articles/PMC5378808/). CNTN6 encodes a neural cell adhesion protein that promotes neurite outgrowth and synapse formation, and it is especially important for sensory-motor pathway development in mice (https://www.ncbi.nlm.nih.gov/pmc/articles/PMC5378808/). Because ASD is characterized by impaired social behaviors, expression level of CNTN6 can play a role in regulating social behaviors, and hence social group size.\n",
        "\n",
        "b. The peak that is most negatively associated with the trait is located within an intron of LHFPL3, which can also be referred to as LHFPL4 (https://www.ncbi.nlm.nih.gov/gene?Db=gene&Cmd=DetailsSearch&Term=375612). LHFPL4 is found to be essential for binding to post-synaptic GABA A receptors and anchoring them to the post-synaptic membrane, forming to reliable inhibitory synapses (https://www.ncbi.nlm.nih.gov/pmc/articles/PMC5640807/). There has been conflicting reports of the effects of LHFPL4 knockout on behaviors. Davenport et al. (https://www.ncbi.nlm.nih.gov/pmc/articles/PMC5640807/) reported no behavioral changes in LHFPL4-/- mice, whereas Wu et al. (https://www.sciencedirect.com/science/article/pii/S2211124718305448) reported that complete knockout of LHFPL4 led to premature death, and imcomplete knockout of it led to deficits in motor behaviors in mice. Futher assessment of the behavioral consequences of LHFPL4 knockout and potential roles of LHFPL4 in producing animal behaviors, especially social behaviors, is needed. However, based on the function of LHFPL4, we can speculate its impact on social behaviors. Blocking GABA A receptor can lead to impaired sociability in rodents (https://www.ncbi.nlm.nih.gov/pmc/articles/PMC6948928/). Therefore, LHFPL4 expression level could be related to social behaviors as well.\n"
      ]
    },
    {
      "cell_type": "code",
      "metadata": {
        "id": "Tk5irNjxfZq2",
        "colab": {
          "base_uri": "https://localhost:8080/",
          "height": 857
        },
        "outputId": "0817a150-c70c-4f50-d094-8defa7380887"
      },
      "source": [
        "# mostPosPeak = \"hg38:chr1:99332362-99332862:250\"\n",
        "# mostNegPeak = \"hg38:chr12:55064820-55065320:250\"\n",
        "# mostPosPeak = \"hg38:chr3:1353150-1353650:250\"\n",
        "# mostNegPeak = \"hg38:chr10:60611353-60611853:250\"\n",
        "mostPosPeak = \"hg38:chr3:1353150-1353650:250\"\n",
        "mostNegPeak = \"hg38:chr7:104538106-104538606:250\"\n",
        "\n",
        "\n",
        " # set na to 0\n",
        "mostPosAndNegPeaksF <- data.frame(PosPeak = as.double(peaksM[which(row.names(peaksM) == mostPosPeak),]),\n",
        "                    NegPeak = as.double(peaksM[which(row.names(peaksM) == mostNegPeak),]))\n",
        "mostPosAndNegPeaksF[is.na(mostPosAndNegPeaksF)] = 0\n",
        "mostPosAndNegPeaksF$species = colnames(peaksM)\n",
        "mostPosAndNegPeaksF <- merge(mostPosAndNegPeaksF,traitAnnotF,by=\"species\")\n",
        "\n",
        "# mostPosAndNegPeaksF$foreground <- rep(\"background\",length(mostPosAndNegPeaksF[,\"species\"])); \n",
        "# mostPosAndNegPeaksF$foreground[is.element(mostPosAndNegPeaksF$species, foregroundSpeciesV)] = \"foreground\";\n",
        "# mostPosAndNegPeaksF\n",
        "# ggplot(data = mostPosAndNegPeaksF, aes(x = species, y = PosPeak, fill = foreground)) + geom_bar(stat=\"identity\") + theme(axis.text.x = element_text(angle = 45, hjust = 1))\n",
        "# ggplot(data= mostPosAndNegPeaksF, aes(x = species, y = NegPeak, fill = foreground)) + geom_bar(stat=\"identity\") +theme(axis.text.x = element_text(angle = 45, hjust = 1))\n",
        "# ggplot(data = mostPosAndNegPeaksF, aes(x = species, y = PosPeak)) + geom_bar(stat=\"identity\") + theme(axis.text.x = element_text(angle = 45, hjust = 1))\n",
        "# ggplot(data= mostPosAndNegPeaksF, aes(x = species, y = NegPeak)) + geom_bar(stat=\"identity\") +theme(axis.text.x = element_text(angle = 45, hjust = 1))\n",
        "ggplot(data = mostPosAndNegPeaksF, aes(x = traitAnnot, y = PosPeak)) + geom_point() + ggtitle(\"Predicted Open Chromatin Level vs Social Group Size \\n positive correlation with the lowest unadjusted p value\") +\n",
        "  xlab(\"Social Group Size\") + ylab(\"POC level\")\n",
        "ggplot(data= mostPosAndNegPeaksF, aes(x = traitAnnot, y = NegPeak)) + geom_point() + ggtitle(\"Predicted Open Chromatin Level vs Social Group Size \\n negative correlation with the lowest unadjusted p value\") +\n",
        "  xlab(\"Social Group Size\") + ylab(\"POC level\")"
      ],
      "execution_count": null,
      "outputs": [
        {
          "output_type": "display_data",
          "data": {
            "image/png": "[encoded data removed]",
            "text/plain": [
              "plot without title"
            ]
          },
          "metadata": {
            "image/png": {
              "width": 420,
              "height": 420
            }
          }
        },
        {
          "output_type": "display_data",
          "data": {
            "image/png": "[encoded data removed]",
            "text/plain": [
              "plot without title"
            ]
          },
          "metadata": {
            "image/png": {
              "width": 420,
              "height": 420
            }
          }
        }
      ]
    },
    {
      "cell_type": "code",
      "metadata": {
        "id": "OqGKOdp3C3mA"
      },
      "source": [
        ""
      ],
      "execution_count": null,
      "outputs": []
    },
    {
      "cell_type": "code",
      "metadata": {
        "id": "11iCiahsAt96",
        "colab": {
          "base_uri": "https://localhost:8080/",
          "height": 1000
        },
        "outputId": "9315811d-4ef7-4f1e-c178-7c746762d15d"
      },
      "source": [
        "slope_bottom = diffResultsSortPvalueF[diffResultsSortPvalueF$slope<0,] # negatively correlated\n",
        "bottom_200_slope = slope_bottom[1:200,]\n",
        "\n",
        "slope_top = diffResultsSortPvalueF[diffResultsSortPvalueF$slope>0,] # positively correlated\n",
        "top_200_slope = slope_top[1:200,]\n",
        "\n",
        "write.table(bottom_200_slope,file=\"slope_bottomD2.txt\",quote=F,sep=\"\\t\",row.names=F,col.names=F);\n",
        "write.table(top_200_slope,file=\"slope_topD2.txt\",quote=F,sep=\"\\t\",row.names=F,col.names=F);\n",
        "write.table(peakPredM,file=\"all_peaksD2.txt\",quote=F,sep=\"\\t\",row.names=F,col.names=F);\n",
        "top_200_slope"
      ],
      "execution_count": null,
      "outputs": [
        {
          "output_type": "display_data",
          "data": {
            "text/plain": [
              "                                   id                                \n",
              "hg38:chr3:1353150-1353650:250      hg38:chr3:1353150-1353650:250     \n",
              "hg38:chr18:37538346-37538846:250   hg38:chr18:37538346-37538846:250  \n",
              "hg38:chr4:81922206-81922706:250    hg38:chr4:81922206-81922706:250   \n",
              "hg38:chr5:167694170-167694670:250  hg38:chr5:167694170-167694670:250 \n",
              "hg38:chr5:178076066-178076566:250  hg38:chr5:178076066-178076566:250 \n",
              "hg38:chr2:122516831-122517331:250  hg38:chr2:122516831-122517331:250 \n",
              "hg38:chr13:111385333-111385833:250 hg38:chr13:111385333-111385833:250\n",
              "hg38:chr6:78910577-78911077:250    hg38:chr6:78910577-78911077:250   \n",
              "hg38:chr7:14548470-14548970:250    hg38:chr7:14548470-14548970:250   \n",
              "hg38:chr10:101956845-101957345:250 hg38:chr10:101956845-101957345:250\n",
              "hg38:chr2:45790221-45790721:250    hg38:chr2:45790221-45790721:250   \n",
              "hg38:chr7:70645904-70646404:250    hg38:chr7:70645904-70646404:250   \n",
              "hg38:chr11:10122773-10123273:250   hg38:chr11:10122773-10123273:250  \n",
              "hg38:chr15:87497802-87498302:250   hg38:chr15:87497802-87498302:250  \n",
              "hg38:chr4:133452596-133453096:250  hg38:chr4:133452596-133453096:250 \n",
              "hg38:chr3:143897958-143898458:250  hg38:chr3:143897958-143898458:250 \n",
              "hg38:chr4:47270443-47270943:250    hg38:chr4:47270443-47270943:250   \n",
              "hg38:chr6:19289638-19290138:250    hg38:chr6:19289638-19290138:250   \n",
              "hg38:chr7:55073160-55073660:250    hg38:chr7:55073160-55073660:250   \n",
              "hg38:chr1:21324543-21325043:250    hg38:chr1:21324543-21325043:250   \n",
              "hg38:chr10:25219511-25220011:250   hg38:chr10:25219511-25220011:250  \n",
              "hg38:chr5:81128364-81128864:250    hg38:chr5:81128364-81128864:250   \n",
              "hg38:chr4:13967045-13967545:250    hg38:chr4:13967045-13967545:250   \n",
              "hg38:chr11:88741781-88742281:250   hg38:chr11:88741781-88742281:250  \n",
              "hg38:chr6:20575676-20576176:250    hg38:chr6:20575676-20576176:250   \n",
              "hg38:chr2:94669776-94670276:250    hg38:chr2:94669776-94670276:250   \n",
              "hg38:chr6:109869757-109870257:250  hg38:chr6:109869757-109870257:250 \n",
              "hg38:chr8:92502958-92503458:250    hg38:chr8:92502958-92503458:250   \n",
              "hg38:chr6:48398885-48399385:250    hg38:chr6:48398885-48399385:250   \n",
              "hg38:chr3:117355521-117356021:250  hg38:chr3:117355521-117356021:250 \n",
              "⋮                                  ⋮                                 \n",
              "hg38:chr1:210951180-210951680:250  hg38:chr1:210951180-210951680:250 \n",
              "hg38:chr4:101126680-101127180:250  hg38:chr4:101126680-101127180:250 \n",
              "hg38:chr1:5620983-5621483:250      hg38:chr1:5620983-5621483:250     \n",
              "hg38:chr15:55108820-55109320:250   hg38:chr15:55108820-55109320:250  \n",
              "hg38:chr9:89095654-89096154:250    hg38:chr9:89095654-89096154:250   \n",
              "hg38:chr4:47226903-47227403:250    hg38:chr4:47226903-47227403:250   \n",
              "hg38:chr1:236978577-236979077:250  hg38:chr1:236978577-236979077:250 \n",
              "hg38:chr20:19353376-19353876:250   hg38:chr20:19353376-19353876:250  \n",
              "hg38:chr18:48825309-48825809:250   hg38:chr18:48825309-48825809:250  \n",
              "hg38:chr15:49827358-49827858:250   hg38:chr15:49827358-49827858:250  \n",
              "hg38:chr2:80130169-80130669:250    hg38:chr2:80130169-80130669:250   \n",
              "hg38:chr14:47540791-47541291:250   hg38:chr14:47540791-47541291:250  \n",
              "hg38:chr2:104938276-104938776:250  hg38:chr2:104938276-104938776:250 \n",
              "hg38:chr12:66491710-66492210:250   hg38:chr12:66491710-66492210:250  \n",
              "hg38:chr3:56319243-56319743:250    hg38:chr3:56319243-56319743:250   \n",
              "hg38:chr9:24692953-24693453:250    hg38:chr9:24692953-24693453:250   \n",
              "hg38:chr14:38721791-38722291:250   hg38:chr14:38721791-38722291:250  \n",
              "hg38:chr17:79612598-79613098:250   hg38:chr17:79612598-79613098:250  \n",
              "hg38:chr7:70571341-70571841:250    hg38:chr7:70571341-70571841:250   \n",
              "hg38:chr3:74351137-74351637:250    hg38:chr3:74351137-74351637:250   \n",
              "hg38:chr5:131222651-131223151:250  hg38:chr5:131222651-131223151:250 \n",
              "hg38:chr1:22750280-22750780:250    hg38:chr1:22750280-22750780:250   \n",
              "hg38:chr7:22393754-22394254:250    hg38:chr7:22393754-22394254:250   \n",
              "hg38:chr4:107183126-107183626:250  hg38:chr4:107183126-107183626:250 \n",
              "hg38:chr22:44336986-44337486:250   hg38:chr22:44336986-44337486:250  \n",
              "hg38:chr6:12927678-12928178:250    hg38:chr6:12927678-12928178:250   \n",
              "hg38:chr5:14268193-14268693:250    hg38:chr5:14268193-14268693:250   \n",
              "hg38:chr18:46622962-46623462:250   hg38:chr18:46622962-46623462:250  \n",
              "hg38:chr5:107869358-107869858:250  hg38:chr5:107869358-107869858:250 \n",
              "hg38:chr15:79028326-79028826:250   hg38:chr15:79028326-79028826:250  \n",
              "                                   slope      pvalue       padj\n",
              "hg38:chr3:1353150-1353650:250       12.589787 8.864455e-05 1   \n",
              "hg38:chr18:37538346-37538846:250    21.949539 2.080967e-04 1   \n",
              "hg38:chr4:81922206-81922706:250     23.079760 2.389770e-04 1   \n",
              "hg38:chr5:167694170-167694670:250   15.336577 4.385547e-04 1   \n",
              "hg38:chr5:178076066-178076566:250   54.899460 6.620295e-04 1   \n",
              "hg38:chr2:122516831-122517331:250   30.084438 9.634151e-04 1   \n",
              "hg38:chr13:111385333-111385833:250  42.129604 1.036529e-03 1   \n",
              "hg38:chr6:78910577-78911077:250     13.414144 1.053919e-03 1   \n",
              "hg38:chr7:14548470-14548970:250    170.205737 1.171723e-03 1   \n",
              "hg38:chr10:101956845-101957345:250  10.847897 1.218358e-03 1   \n",
              "hg38:chr2:45790221-45790721:250     32.649785 1.315615e-03 1   \n",
              "hg38:chr7:70645904-70646404:250     37.245946 1.451075e-03 1   \n",
              "hg38:chr11:10122773-10123273:250    14.206646 1.528335e-03 1   \n",
              "hg38:chr15:87497802-87498302:250    21.177378 1.801263e-03 1   \n",
              "hg38:chr4:133452596-133453096:250   16.312227 2.037230e-03 1   \n",
              "hg38:chr3:143897958-143898458:250   26.848174 2.490335e-03 1   \n",
              "hg38:chr4:47270443-47270943:250    308.559910 2.567770e-03 1   \n",
              "hg38:chr6:19289638-19290138:250     15.733002 2.631472e-03 1   \n",
              "hg38:chr7:55073160-55073660:250      7.006817 2.698306e-03 1   \n",
              "hg38:chr1:21324543-21325043:250     48.639879 2.704121e-03 1   \n",
              "hg38:chr10:25219511-25220011:250    62.182702 2.803376e-03 1   \n",
              "hg38:chr5:81128364-81128864:250     25.545784 2.875104e-03 1   \n",
              "hg38:chr4:13967045-13967545:250     16.159454 2.991389e-03 1   \n",
              "hg38:chr11:88741781-88742281:250    16.827798 3.154517e-03 1   \n",
              "hg38:chr6:20575676-20576176:250     23.157780 3.327084e-03 1   \n",
              "hg38:chr2:94669776-94670276:250     71.548301 3.730227e-03 1   \n",
              "hg38:chr6:109869757-109870257:250   30.818266 3.783906e-03 1   \n",
              "hg38:chr8:92502958-92503458:250     13.664271 3.810590e-03 1   \n",
              "hg38:chr6:48398885-48399385:250     15.334211 3.864830e-03 1   \n",
              "hg38:chr3:117355521-117356021:250   80.706055 4.047803e-03 1   \n",
              "⋮                                  ⋮          ⋮            ⋮   \n",
              "hg38:chr1:210951180-210951680:250   30.696266 0.02552697   1   \n",
              "hg38:chr4:101126680-101127180:250  110.075783 0.02554252   1   \n",
              "hg38:chr1:5620983-5621483:250       17.020617 0.02561685   1   \n",
              "hg38:chr15:55108820-55109320:250    14.540595 0.02565920   1   \n",
              "hg38:chr9:89095654-89096154:250     12.441371 0.02566546   1   \n",
              "hg38:chr4:47226903-47227403:250     61.428812 0.02589174   1   \n",
              "hg38:chr1:236978577-236979077:250   13.372550 0.02602460   1   \n",
              "hg38:chr20:19353376-19353876:250    25.079204 0.02609894   1   \n",
              "hg38:chr18:48825309-48825809:250    19.970291 0.02611642   1   \n",
              "hg38:chr15:49827358-49827858:250    26.573987 0.02618802   1   \n",
              "hg38:chr2:80130169-80130669:250     20.734646 0.02624119   1   \n",
              "hg38:chr14:47540791-47541291:250     8.122463 0.02625693   1   \n",
              "hg38:chr2:104938276-104938776:250   46.418220 0.02635584   1   \n",
              "hg38:chr12:66491710-66492210:250    21.156717 0.02647356   1   \n",
              "hg38:chr3:56319243-56319743:250     14.003537 0.02648069   1   \n",
              "hg38:chr9:24692953-24693453:250     22.257509 0.02654206   1   \n",
              "hg38:chr14:38721791-38722291:250    18.406261 0.02654625   1   \n",
              "hg38:chr17:79612598-79613098:250    45.861079 0.02655192   1   \n",
              "hg38:chr7:70571341-70571841:250     54.129136 0.02656643   1   \n",
              "hg38:chr3:74351137-74351637:250     43.313235 0.02667785   1   \n",
              "hg38:chr5:131222651-131223151:250   18.602914 0.02669626   1   \n",
              "hg38:chr1:22750280-22750780:250     19.799748 0.02678706   1   \n",
              "hg38:chr7:22393754-22394254:250     32.237072 0.02689526   1   \n",
              "hg38:chr4:107183126-107183626:250   24.695867 0.02691720   1   \n",
              "hg38:chr22:44336986-44337486:250    42.770213 0.02698518   1   \n",
              "hg38:chr6:12927678-12928178:250      9.128186 0.02714400   1   \n",
              "hg38:chr5:14268193-14268693:250     24.706421 0.02717798   1   \n",
              "hg38:chr18:46622962-46623462:250    62.861357 0.02754281   1   \n",
              "hg38:chr5:107869358-107869858:250   53.698369 0.02757755   1   \n",
              "hg38:chr15:79028326-79028826:250    12.513586 0.02757858   1   "
            ],
            "text/latex": "A data.frame: 200 × 4\n\\begin{tabular}{r|llll}\n  & id & slope & pvalue & padj\\\\\n  & <chr> & <dbl> & <dbl> & <dbl>\\\\\n\\hline\n\thg38:chr3:1353150-1353650:250 & hg38:chr3:1353150-1353650:250      &  12.589787 & 8.864455e-05 & 1\\\\\n\thg38:chr18:37538346-37538846:250 & hg38:chr18:37538346-37538846:250   &  21.949539 & 2.080967e-04 & 1\\\\\n\thg38:chr4:81922206-81922706:250 & hg38:chr4:81922206-81922706:250    &  23.079760 & 2.389770e-04 & 1\\\\\n\thg38:chr5:167694170-167694670:250 & hg38:chr5:167694170-167694670:250  &  15.336577 & 4.385547e-04 & 1\\\\\n\thg38:chr5:178076066-178076566:250 & hg38:chr5:178076066-178076566:250  &  54.899460 & 6.620295e-04 & 1\\\\\n\thg38:chr2:122516831-122517331:250 & hg38:chr2:122516831-122517331:250  &  30.084438 & 9.634151e-04 & 1\\\\\n\thg38:chr13:111385333-111385833:250 & hg38:chr13:111385333-111385833:250 &  42.129604 & 1.036529e-03 & 1\\\\\n\thg38:chr6:78910577-78911077:250 & hg38:chr6:78910577-78911077:250    &  13.414144 & 1.053919e-03 & 1\\\\\n\thg38:chr7:14548470-14548970:250 & hg38:chr7:14548470-14548970:250    & 170.205737 & 1.171723e-03 & 1\\\\\n\thg38:chr10:101956845-101957345:250 & hg38:chr10:101956845-101957345:250 &  10.847897 & 1.218358e-03 & 1\\\\\n\thg38:chr2:45790221-45790721:250 & hg38:chr2:45790221-45790721:250    &  32.649785 & 1.315615e-03 & 1\\\\\n\thg38:chr7:70645904-70646404:250 & hg38:chr7:70645904-70646404:250    &  37.245946 & 1.451075e-03 & 1\\\\\n\thg38:chr11:10122773-10123273:250 & hg38:chr11:10122773-10123273:250   &  14.206646 & 1.528335e-03 & 1\\\\\n\thg38:chr15:87497802-87498302:250 & hg38:chr15:87497802-87498302:250   &  21.177378 & 1.801263e-03 & 1\\\\\n\thg38:chr4:133452596-133453096:250 & hg38:chr4:133452596-133453096:250  &  16.312227 & 2.037230e-03 & 1\\\\\n\thg38:chr3:143897958-143898458:250 & hg38:chr3:143897958-143898458:250  &  26.848174 & 2.490335e-03 & 1\\\\\n\thg38:chr4:47270443-47270943:250 & hg38:chr4:47270443-47270943:250    & 308.559910 & 2.567770e-03 & 1\\\\\n\thg38:chr6:19289638-19290138:250 & hg38:chr6:19289638-19290138:250    &  15.733002 & 2.631472e-03 & 1\\\\\n\thg38:chr7:55073160-55073660:250 & hg38:chr7:55073160-55073660:250    &   7.006817 & 2.698306e-03 & 1\\\\\n\thg38:chr1:21324543-21325043:250 & hg38:chr1:21324543-21325043:250    &  48.639879 & 2.704121e-03 & 1\\\\\n\thg38:chr10:25219511-25220011:250 & hg38:chr10:25219511-25220011:250   &  62.182702 & 2.803376e-03 & 1\\\\\n\thg38:chr5:81128364-81128864:250 & hg38:chr5:81128364-81128864:250    &  25.545784 & 2.875104e-03 & 1\\\\\n\thg38:chr4:13967045-13967545:250 & hg38:chr4:13967045-13967545:250    &  16.159454 & 2.991389e-03 & 1\\\\\n\thg38:chr11:88741781-88742281:250 & hg38:chr11:88741781-88742281:250   &  16.827798 & 3.154517e-03 & 1\\\\\n\thg38:chr6:20575676-20576176:250 & hg38:chr6:20575676-20576176:250    &  23.157780 & 3.327084e-03 & 1\\\\\n\thg38:chr2:94669776-94670276:250 & hg38:chr2:94669776-94670276:250    &  71.548301 & 3.730227e-03 & 1\\\\\n\thg38:chr6:109869757-109870257:250 & hg38:chr6:109869757-109870257:250  &  30.818266 & 3.783906e-03 & 1\\\\\n\thg38:chr8:92502958-92503458:250 & hg38:chr8:92502958-92503458:250    &  13.664271 & 3.810590e-03 & 1\\\\\n\thg38:chr6:48398885-48399385:250 & hg38:chr6:48398885-48399385:250    &  15.334211 & 3.864830e-03 & 1\\\\\n\thg38:chr3:117355521-117356021:250 & hg38:chr3:117355521-117356021:250  &  80.706055 & 4.047803e-03 & 1\\\\\n\t⋮ & ⋮ & ⋮ & ⋮ & ⋮\\\\\n\thg38:chr1:210951180-210951680:250 & hg38:chr1:210951180-210951680:250 &  30.696266 & 0.02552697 & 1\\\\\n\thg38:chr4:101126680-101127180:250 & hg38:chr4:101126680-101127180:250 & 110.075783 & 0.02554252 & 1\\\\\n\thg38:chr1:5620983-5621483:250 & hg38:chr1:5620983-5621483:250     &  17.020617 & 0.02561685 & 1\\\\\n\thg38:chr15:55108820-55109320:250 & hg38:chr15:55108820-55109320:250  &  14.540595 & 0.02565920 & 1\\\\\n\thg38:chr9:89095654-89096154:250 & hg38:chr9:89095654-89096154:250   &  12.441371 & 0.02566546 & 1\\\\\n\thg38:chr4:47226903-47227403:250 & hg38:chr4:47226903-47227403:250   &  61.428812 & 0.02589174 & 1\\\\\n\thg38:chr1:236978577-236979077:250 & hg38:chr1:236978577-236979077:250 &  13.372550 & 0.02602460 & 1\\\\\n\thg38:chr20:19353376-19353876:250 & hg38:chr20:19353376-19353876:250  &  25.079204 & 0.02609894 & 1\\\\\n\thg38:chr18:48825309-48825809:250 & hg38:chr18:48825309-48825809:250  &  19.970291 & 0.02611642 & 1\\\\\n\thg38:chr15:49827358-49827858:250 & hg38:chr15:49827358-49827858:250  &  26.573987 & 0.02618802 & 1\\\\\n\thg38:chr2:80130169-80130669:250 & hg38:chr2:80130169-80130669:250   &  20.734646 & 0.02624119 & 1\\\\\n\thg38:chr14:47540791-47541291:250 & hg38:chr14:47540791-47541291:250  &   8.122463 & 0.02625693 & 1\\\\\n\thg38:chr2:104938276-104938776:250 & hg38:chr2:104938276-104938776:250 &  46.418220 & 0.02635584 & 1\\\\\n\thg38:chr12:66491710-66492210:250 & hg38:chr12:66491710-66492210:250  &  21.156717 & 0.02647356 & 1\\\\\n\thg38:chr3:56319243-56319743:250 & hg38:chr3:56319243-56319743:250   &  14.003537 & 0.02648069 & 1\\\\\n\thg38:chr9:24692953-24693453:250 & hg38:chr9:24692953-24693453:250   &  22.257509 & 0.02654206 & 1\\\\\n\thg38:chr14:38721791-38722291:250 & hg38:chr14:38721791-38722291:250  &  18.406261 & 0.02654625 & 1\\\\\n\thg38:chr17:79612598-79613098:250 & hg38:chr17:79612598-79613098:250  &  45.861079 & 0.02655192 & 1\\\\\n\thg38:chr7:70571341-70571841:250 & hg38:chr7:70571341-70571841:250   &  54.129136 & 0.02656643 & 1\\\\\n\thg38:chr3:74351137-74351637:250 & hg38:chr3:74351137-74351637:250   &  43.313235 & 0.02667785 & 1\\\\\n\thg38:chr5:131222651-131223151:250 & hg38:chr5:131222651-131223151:250 &  18.602914 & 0.02669626 & 1\\\\\n\thg38:chr1:22750280-22750780:250 & hg38:chr1:22750280-22750780:250   &  19.799748 & 0.02678706 & 1\\\\\n\thg38:chr7:22393754-22394254:250 & hg38:chr7:22393754-22394254:250   &  32.237072 & 0.02689526 & 1\\\\\n\thg38:chr4:107183126-107183626:250 & hg38:chr4:107183126-107183626:250 &  24.695867 & 0.02691720 & 1\\\\\n\thg38:chr22:44336986-44337486:250 & hg38:chr22:44336986-44337486:250  &  42.770213 & 0.02698518 & 1\\\\\n\thg38:chr6:12927678-12928178:250 & hg38:chr6:12927678-12928178:250   &   9.128186 & 0.02714400 & 1\\\\\n\thg38:chr5:14268193-14268693:250 & hg38:chr5:14268193-14268693:250   &  24.706421 & 0.02717798 & 1\\\\\n\thg38:chr18:46622962-46623462:250 & hg38:chr18:46622962-46623462:250  &  62.861357 & 0.02754281 & 1\\\\\n\thg38:chr5:107869358-107869858:250 & hg38:chr5:107869358-107869858:250 &  53.698369 & 0.02757755 & 1\\\\\n\thg38:chr15:79028326-79028826:250 & hg38:chr15:79028326-79028826:250  &  12.513586 & 0.02757858 & 1\\\\\n\\end{tabular}\n",
            "text/markdown": "\nA data.frame: 200 × 4\n\n| <!--/--> | id &lt;chr&gt; | slope &lt;dbl&gt; | pvalue &lt;dbl&gt; | padj &lt;dbl&gt; |\n|---|---|---|---|---|\n| hg38:chr3:1353150-1353650:250 | hg38:chr3:1353150-1353650:250      |  12.589787 | 8.864455e-05 | 1 |\n| hg38:chr18:37538346-37538846:250 | hg38:chr18:37538346-37538846:250   |  21.949539 | 2.080967e-04 | 1 |\n| hg38:chr4:81922206-81922706:250 | hg38:chr4:81922206-81922706:250    |  23.079760 | 2.389770e-04 | 1 |\n| hg38:chr5:167694170-167694670:250 | hg38:chr5:167694170-167694670:250  |  15.336577 | 4.385547e-04 | 1 |\n| hg38:chr5:178076066-178076566:250 | hg38:chr5:178076066-178076566:250  |  54.899460 | 6.620295e-04 | 1 |\n| hg38:chr2:122516831-122517331:250 | hg38:chr2:122516831-122517331:250  |  30.084438 | 9.634151e-04 | 1 |\n| hg38:chr13:111385333-111385833:250 | hg38:chr13:111385333-111385833:250 |  42.129604 | 1.036529e-03 | 1 |\n| hg38:chr6:78910577-78911077:250 | hg38:chr6:78910577-78911077:250    |  13.414144 | 1.053919e-03 | 1 |\n| hg38:chr7:14548470-14548970:250 | hg38:chr7:14548470-14548970:250    | 170.205737 | 1.171723e-03 | 1 |\n| hg38:chr10:101956845-101957345:250 | hg38:chr10:101956845-101957345:250 |  10.847897 | 1.218358e-03 | 1 |\n| hg38:chr2:45790221-45790721:250 | hg38:chr2:45790221-45790721:250    |  32.649785 | 1.315615e-03 | 1 |\n| hg38:chr7:70645904-70646404:250 | hg38:chr7:70645904-70646404:250    |  37.245946 | 1.451075e-03 | 1 |\n| hg38:chr11:10122773-10123273:250 | hg38:chr11:10122773-10123273:250   |  14.206646 | 1.528335e-03 | 1 |\n| hg38:chr15:87497802-87498302:250 | hg38:chr15:87497802-87498302:250   |  21.177378 | 1.801263e-03 | 1 |\n| hg38:chr4:133452596-133453096:250 | hg38:chr4:133452596-133453096:250  |  16.312227 | 2.037230e-03 | 1 |\n| hg38:chr3:143897958-143898458:250 | hg38:chr3:143897958-143898458:250  |  26.848174 | 2.490335e-03 | 1 |\n| hg38:chr4:47270443-47270943:250 | hg38:chr4:47270443-47270943:250    | 308.559910 | 2.567770e-03 | 1 |\n| hg38:chr6:19289638-19290138:250 | hg38:chr6:19289638-19290138:250    |  15.733002 | 2.631472e-03 | 1 |\n| hg38:chr7:55073160-55073660:250 | hg38:chr7:55073160-55073660:250    |   7.006817 | 2.698306e-03 | 1 |\n| hg38:chr1:21324543-21325043:250 | hg38:chr1:21324543-21325043:250    |  48.639879 | 2.704121e-03 | 1 |\n| hg38:chr10:25219511-25220011:250 | hg38:chr10:25219511-25220011:250   |  62.182702 | 2.803376e-03 | 1 |\n| hg38:chr5:81128364-81128864:250 | hg38:chr5:81128364-81128864:250    |  25.545784 | 2.875104e-03 | 1 |\n| hg38:chr4:13967045-13967545:250 | hg38:chr4:13967045-13967545:250    |  16.159454 | 2.991389e-03 | 1 |\n| hg38:chr11:88741781-88742281:250 | hg38:chr11:88741781-88742281:250   |  16.827798 | 3.154517e-03 | 1 |\n| hg38:chr6:20575676-20576176:250 | hg38:chr6:20575676-20576176:250    |  23.157780 | 3.327084e-03 | 1 |\n| hg38:chr2:94669776-94670276:250 | hg38:chr2:94669776-94670276:250    |  71.548301 | 3.730227e-03 | 1 |\n| hg38:chr6:109869757-109870257:250 | hg38:chr6:109869757-109870257:250  |  30.818266 | 3.783906e-03 | 1 |\n| hg38:chr8:92502958-92503458:250 | hg38:chr8:92502958-92503458:250    |  13.664271 | 3.810590e-03 | 1 |\n| hg38:chr6:48398885-48399385:250 | hg38:chr6:48398885-48399385:250    |  15.334211 | 3.864830e-03 | 1 |\n| hg38:chr3:117355521-117356021:250 | hg38:chr3:117355521-117356021:250  |  80.706055 | 4.047803e-03 | 1 |\n| ⋮ | ⋮ | ⋮ | ⋮ | ⋮ |\n| hg38:chr1:210951180-210951680:250 | hg38:chr1:210951180-210951680:250 |  30.696266 | 0.02552697 | 1 |\n| hg38:chr4:101126680-101127180:250 | hg38:chr4:101126680-101127180:250 | 110.075783 | 0.02554252 | 1 |\n| hg38:chr1:5620983-5621483:250 | hg38:chr1:5620983-5621483:250     |  17.020617 | 0.02561685 | 1 |\n| hg38:chr15:55108820-55109320:250 | hg38:chr15:55108820-55109320:250  |  14.540595 | 0.02565920 | 1 |\n| hg38:chr9:89095654-89096154:250 | hg38:chr9:89095654-89096154:250   |  12.441371 | 0.02566546 | 1 |\n| hg38:chr4:47226903-47227403:250 | hg38:chr4:47226903-47227403:250   |  61.428812 | 0.02589174 | 1 |\n| hg38:chr1:236978577-236979077:250 | hg38:chr1:236978577-236979077:250 |  13.372550 | 0.02602460 | 1 |\n| hg38:chr20:19353376-19353876:250 | hg38:chr20:19353376-19353876:250  |  25.079204 | 0.02609894 | 1 |\n| hg38:chr18:48825309-48825809:250 | hg38:chr18:48825309-48825809:250  |  19.970291 | 0.02611642 | 1 |\n| hg38:chr15:49827358-49827858:250 | hg38:chr15:49827358-49827858:250  |  26.573987 | 0.02618802 | 1 |\n| hg38:chr2:80130169-80130669:250 | hg38:chr2:80130169-80130669:250   |  20.734646 | 0.02624119 | 1 |\n| hg38:chr14:47540791-47541291:250 | hg38:chr14:47540791-47541291:250  |   8.122463 | 0.02625693 | 1 |\n| hg38:chr2:104938276-104938776:250 | hg38:chr2:104938276-104938776:250 |  46.418220 | 0.02635584 | 1 |\n| hg38:chr12:66491710-66492210:250 | hg38:chr12:66491710-66492210:250  |  21.156717 | 0.02647356 | 1 |\n| hg38:chr3:56319243-56319743:250 | hg38:chr3:56319243-56319743:250   |  14.003537 | 0.02648069 | 1 |\n| hg38:chr9:24692953-24693453:250 | hg38:chr9:24692953-24693453:250   |  22.257509 | 0.02654206 | 1 |\n| hg38:chr14:38721791-38722291:250 | hg38:chr14:38721791-38722291:250  |  18.406261 | 0.02654625 | 1 |\n| hg38:chr17:79612598-79613098:250 | hg38:chr17:79612598-79613098:250  |  45.861079 | 0.02655192 | 1 |\n| hg38:chr7:70571341-70571841:250 | hg38:chr7:70571341-70571841:250   |  54.129136 | 0.02656643 | 1 |\n| hg38:chr3:74351137-74351637:250 | hg38:chr3:74351137-74351637:250   |  43.313235 | 0.02667785 | 1 |\n| hg38:chr5:131222651-131223151:250 | hg38:chr5:131222651-131223151:250 |  18.602914 | 0.02669626 | 1 |\n| hg38:chr1:22750280-22750780:250 | hg38:chr1:22750280-22750780:250   |  19.799748 | 0.02678706 | 1 |\n| hg38:chr7:22393754-22394254:250 | hg38:chr7:22393754-22394254:250   |  32.237072 | 0.02689526 | 1 |\n| hg38:chr4:107183126-107183626:250 | hg38:chr4:107183126-107183626:250 |  24.695867 | 0.02691720 | 1 |\n| hg38:chr22:44336986-44337486:250 | hg38:chr22:44336986-44337486:250  |  42.770213 | 0.02698518 | 1 |\n| hg38:chr6:12927678-12928178:250 | hg38:chr6:12927678-12928178:250   |   9.128186 | 0.02714400 | 1 |\n| hg38:chr5:14268193-14268693:250 | hg38:chr5:14268193-14268693:250   |  24.706421 | 0.02717798 | 1 |\n| hg38:chr18:46622962-46623462:250 | hg38:chr18:46622962-46623462:250  |  62.861357 | 0.02754281 | 1 |\n| hg38:chr5:107869358-107869858:250 | hg38:chr5:107869358-107869858:250 |  53.698369 | 0.02757755 | 1 |\n| hg38:chr15:79028326-79028826:250 | hg38:chr15:79028326-79028826:250  |  12.513586 | 0.02757858 | 1 |\n\n",
            "text/html": [
              "<table class=\"dataframe\">\n",
              "<caption>A data.frame: 200 × 4</caption>\n",
              "<thead>\n",
              "\t<tr><th></th><th scope=col>id</th><th scope=col>slope</th><th scope=col>pvalue</th><th scope=col>padj</th></tr>\n",
              "\t<tr><th></th><th scope=col>&lt;chr&gt;</th><th scope=col>&lt;dbl&gt;</th><th scope=col>&lt;dbl&gt;</th><th scope=col>&lt;dbl&gt;</th></tr>\n",
              "</thead>\n",
              "<tbody>\n",
              "\t<tr><th scope=row>hg38:chr3:1353150-1353650:250</th><td>hg38:chr3:1353150-1353650:250     </td><td> 12.589787</td><td>8.864455e-05</td><td>1</td></tr>\n",
              "\t<tr><th scope=row>hg38:chr18:37538346-37538846:250</th><td>hg38:chr18:37538346-37538846:250  </td><td> 21.949539</td><td>2.080967e-04</td><td>1</td></tr>\n",
              "\t<tr><th scope=row>hg38:chr4:81922206-81922706:250</th><td>hg38:chr4:81922206-81922706:250   </td><td> 23.079760</td><td>2.389770e-04</td><td>1</td></tr>\n",
              "\t<tr><th scope=row>hg38:chr5:167694170-167694670:250</th><td>hg38:chr5:167694170-167694670:250 </td><td> 15.336577</td><td>4.385547e-04</td><td>1</td></tr>\n",
              "\t<tr><th scope=row>hg38:chr5:178076066-178076566:250</th><td>hg38:chr5:178076066-178076566:250 </td><td> 54.899460</td><td>6.620295e-04</td><td>1</td></tr>\n",
              "\t<tr><th scope=row>hg38:chr2:122516831-122517331:250</th><td>hg38:chr2:122516831-122517331:250 </td><td> 30.084438</td><td>9.634151e-04</td><td>1</td></tr>\n",
              "\t<tr><th scope=row>hg38:chr13:111385333-111385833:250</th><td>hg38:chr13:111385333-111385833:250</td><td> 42.129604</td><td>1.036529e-03</td><td>1</td></tr>\n",
              "\t<tr><th scope=row>hg38:chr6:78910577-78911077:250</th><td>hg38:chr6:78910577-78911077:250   </td><td> 13.414144</td><td>1.053919e-03</td><td>1</td></tr>\n",
              "\t<tr><th scope=row>hg38:chr7:14548470-14548970:250</th><td>hg38:chr7:14548470-14548970:250   </td><td>170.205737</td><td>1.171723e-03</td><td>1</td></tr>\n",
              "\t<tr><th scope=row>hg38:chr10:101956845-101957345:250</th><td>hg38:chr10:101956845-101957345:250</td><td> 10.847897</td><td>1.218358e-03</td><td>1</td></tr>\n",
              "\t<tr><th scope=row>hg38:chr2:45790221-45790721:250</th><td>hg38:chr2:45790221-45790721:250   </td><td> 32.649785</td><td>1.315615e-03</td><td>1</td></tr>\n",
              "\t<tr><th scope=row>hg38:chr7:70645904-70646404:250</th><td>hg38:chr7:70645904-70646404:250   </td><td> 37.245946</td><td>1.451075e-03</td><td>1</td></tr>\n",
              "\t<tr><th scope=row>hg38:chr11:10122773-10123273:250</th><td>hg38:chr11:10122773-10123273:250  </td><td> 14.206646</td><td>1.528335e-03</td><td>1</td></tr>\n",
              "\t<tr><th scope=row>hg38:chr15:87497802-87498302:250</th><td>hg38:chr15:87497802-87498302:250  </td><td> 21.177378</td><td>1.801263e-03</td><td>1</td></tr>\n",
              "\t<tr><th scope=row>hg38:chr4:133452596-133453096:250</th><td>hg38:chr4:133452596-133453096:250 </td><td> 16.312227</td><td>2.037230e-03</td><td>1</td></tr>\n",
              "\t<tr><th scope=row>hg38:chr3:143897958-143898458:250</th><td>hg38:chr3:143897958-143898458:250 </td><td> 26.848174</td><td>2.490335e-03</td><td>1</td></tr>\n",
              "\t<tr><th scope=row>hg38:chr4:47270443-47270943:250</th><td>hg38:chr4:47270443-47270943:250   </td><td>308.559910</td><td>2.567770e-03</td><td>1</td></tr>\n",
              "\t<tr><th scope=row>hg38:chr6:19289638-19290138:250</th><td>hg38:chr6:19289638-19290138:250   </td><td> 15.733002</td><td>2.631472e-03</td><td>1</td></tr>\n",
              "\t<tr><th scope=row>hg38:chr7:55073160-55073660:250</th><td>hg38:chr7:55073160-55073660:250   </td><td>  7.006817</td><td>2.698306e-03</td><td>1</td></tr>\n",
              "\t<tr><th scope=row>hg38:chr1:21324543-21325043:250</th><td>hg38:chr1:21324543-21325043:250   </td><td> 48.639879</td><td>2.704121e-03</td><td>1</td></tr>\n",
              "\t<tr><th scope=row>hg38:chr10:25219511-25220011:250</th><td>hg38:chr10:25219511-25220011:250  </td><td> 62.182702</td><td>2.803376e-03</td><td>1</td></tr>\n",
              "\t<tr><th scope=row>hg38:chr5:81128364-81128864:250</th><td>hg38:chr5:81128364-81128864:250   </td><td> 25.545784</td><td>2.875104e-03</td><td>1</td></tr>\n",
              "\t<tr><th scope=row>hg38:chr4:13967045-13967545:250</th><td>hg38:chr4:13967045-13967545:250   </td><td> 16.159454</td><td>2.991389e-03</td><td>1</td></tr>\n",
              "\t<tr><th scope=row>hg38:chr11:88741781-88742281:250</th><td>hg38:chr11:88741781-88742281:250  </td><td> 16.827798</td><td>3.154517e-03</td><td>1</td></tr>\n",
              "\t<tr><th scope=row>hg38:chr6:20575676-20576176:250</th><td>hg38:chr6:20575676-20576176:250   </td><td> 23.157780</td><td>3.327084e-03</td><td>1</td></tr>\n",
              "\t<tr><th scope=row>hg38:chr2:94669776-94670276:250</th><td>hg38:chr2:94669776-94670276:250   </td><td> 71.548301</td><td>3.730227e-03</td><td>1</td></tr>\n",
              "\t<tr><th scope=row>hg38:chr6:109869757-109870257:250</th><td>hg38:chr6:109869757-109870257:250 </td><td> 30.818266</td><td>3.783906e-03</td><td>1</td></tr>\n",
              "\t<tr><th scope=row>hg38:chr8:92502958-92503458:250</th><td>hg38:chr8:92502958-92503458:250   </td><td> 13.664271</td><td>3.810590e-03</td><td>1</td></tr>\n",
              "\t<tr><th scope=row>hg38:chr6:48398885-48399385:250</th><td>hg38:chr6:48398885-48399385:250   </td><td> 15.334211</td><td>3.864830e-03</td><td>1</td></tr>\n",
              "\t<tr><th scope=row>hg38:chr3:117355521-117356021:250</th><td>hg38:chr3:117355521-117356021:250 </td><td> 80.706055</td><td>4.047803e-03</td><td>1</td></tr>\n",
              "\t<tr><th scope=row>⋮</th><td>⋮</td><td>⋮</td><td>⋮</td><td>⋮</td></tr>\n",
              "\t<tr><th scope=row>hg38:chr1:210951180-210951680:250</th><td>hg38:chr1:210951180-210951680:250</td><td> 30.696266</td><td>0.02552697</td><td>1</td></tr>\n",
              "\t<tr><th scope=row>hg38:chr4:101126680-101127180:250</th><td>hg38:chr4:101126680-101127180:250</td><td>110.075783</td><td>0.02554252</td><td>1</td></tr>\n",
              "\t<tr><th scope=row>hg38:chr1:5620983-5621483:250</th><td>hg38:chr1:5620983-5621483:250    </td><td> 17.020617</td><td>0.02561685</td><td>1</td></tr>\n",
              "\t<tr><th scope=row>hg38:chr15:55108820-55109320:250</th><td>hg38:chr15:55108820-55109320:250 </td><td> 14.540595</td><td>0.02565920</td><td>1</td></tr>\n",
              "\t<tr><th scope=row>hg38:chr9:89095654-89096154:250</th><td>hg38:chr9:89095654-89096154:250  </td><td> 12.441371</td><td>0.02566546</td><td>1</td></tr>\n",
              "\t<tr><th scope=row>hg38:chr4:47226903-47227403:250</th><td>hg38:chr4:47226903-47227403:250  </td><td> 61.428812</td><td>0.02589174</td><td>1</td></tr>\n",
              "\t<tr><th scope=row>hg38:chr1:236978577-236979077:250</th><td>hg38:chr1:236978577-236979077:250</td><td> 13.372550</td><td>0.02602460</td><td>1</td></tr>\n",
              "\t<tr><th scope=row>hg38:chr20:19353376-19353876:250</th><td>hg38:chr20:19353376-19353876:250 </td><td> 25.079204</td><td>0.02609894</td><td>1</td></tr>\n",
              "\t<tr><th scope=row>hg38:chr18:48825309-48825809:250</th><td>hg38:chr18:48825309-48825809:250 </td><td> 19.970291</td><td>0.02611642</td><td>1</td></tr>\n",
              "\t<tr><th scope=row>hg38:chr15:49827358-49827858:250</th><td>hg38:chr15:49827358-49827858:250 </td><td> 26.573987</td><td>0.02618802</td><td>1</td></tr>\n",
              "\t<tr><th scope=row>hg38:chr2:80130169-80130669:250</th><td>hg38:chr2:80130169-80130669:250  </td><td> 20.734646</td><td>0.02624119</td><td>1</td></tr>\n",
              "\t<tr><th scope=row>hg38:chr14:47540791-47541291:250</th><td>hg38:chr14:47540791-47541291:250 </td><td>  8.122463</td><td>0.02625693</td><td>1</td></tr>\n",
              "\t<tr><th scope=row>hg38:chr2:104938276-104938776:250</th><td>hg38:chr2:104938276-104938776:250</td><td> 46.418220</td><td>0.02635584</td><td>1</td></tr>\n",
              "\t<tr><th scope=row>hg38:chr12:66491710-66492210:250</th><td>hg38:chr12:66491710-66492210:250 </td><td> 21.156717</td><td>0.02647356</td><td>1</td></tr>\n",
              "\t<tr><th scope=row>hg38:chr3:56319243-56319743:250</th><td>hg38:chr3:56319243-56319743:250  </td><td> 14.003537</td><td>0.02648069</td><td>1</td></tr>\n",
              "\t<tr><th scope=row>hg38:chr9:24692953-24693453:250</th><td>hg38:chr9:24692953-24693453:250  </td><td> 22.257509</td><td>0.02654206</td><td>1</td></tr>\n",
              "\t<tr><th scope=row>hg38:chr14:38721791-38722291:250</th><td>hg38:chr14:38721791-38722291:250 </td><td> 18.406261</td><td>0.02654625</td><td>1</td></tr>\n",
              "\t<tr><th scope=row>hg38:chr17:79612598-79613098:250</th><td>hg38:chr17:79612598-79613098:250 </td><td> 45.861079</td><td>0.02655192</td><td>1</td></tr>\n",
              "\t<tr><th scope=row>hg38:chr7:70571341-70571841:250</th><td>hg38:chr7:70571341-70571841:250  </td><td> 54.129136</td><td>0.02656643</td><td>1</td></tr>\n",
              "\t<tr><th scope=row>hg38:chr3:74351137-74351637:250</th><td>hg38:chr3:74351137-74351637:250  </td><td> 43.313235</td><td>0.02667785</td><td>1</td></tr>\n",
              "\t<tr><th scope=row>hg38:chr5:131222651-131223151:250</th><td>hg38:chr5:131222651-131223151:250</td><td> 18.602914</td><td>0.02669626</td><td>1</td></tr>\n",
              "\t<tr><th scope=row>hg38:chr1:22750280-22750780:250</th><td>hg38:chr1:22750280-22750780:250  </td><td> 19.799748</td><td>0.02678706</td><td>1</td></tr>\n",
              "\t<tr><th scope=row>hg38:chr7:22393754-22394254:250</th><td>hg38:chr7:22393754-22394254:250  </td><td> 32.237072</td><td>0.02689526</td><td>1</td></tr>\n",
              "\t<tr><th scope=row>hg38:chr4:107183126-107183626:250</th><td>hg38:chr4:107183126-107183626:250</td><td> 24.695867</td><td>0.02691720</td><td>1</td></tr>\n",
              "\t<tr><th scope=row>hg38:chr22:44336986-44337486:250</th><td>hg38:chr22:44336986-44337486:250 </td><td> 42.770213</td><td>0.02698518</td><td>1</td></tr>\n",
              "\t<tr><th scope=row>hg38:chr6:12927678-12928178:250</th><td>hg38:chr6:12927678-12928178:250  </td><td>  9.128186</td><td>0.02714400</td><td>1</td></tr>\n",
              "\t<tr><th scope=row>hg38:chr5:14268193-14268693:250</th><td>hg38:chr5:14268193-14268693:250  </td><td> 24.706421</td><td>0.02717798</td><td>1</td></tr>\n",
              "\t<tr><th scope=row>hg38:chr18:46622962-46623462:250</th><td>hg38:chr18:46622962-46623462:250 </td><td> 62.861357</td><td>0.02754281</td><td>1</td></tr>\n",
              "\t<tr><th scope=row>hg38:chr5:107869358-107869858:250</th><td>hg38:chr5:107869358-107869858:250</td><td> 53.698369</td><td>0.02757755</td><td>1</td></tr>\n",
              "\t<tr><th scope=row>hg38:chr15:79028326-79028826:250</th><td>hg38:chr15:79028326-79028826:250 </td><td> 12.513586</td><td>0.02757858</td><td>1</td></tr>\n",
              "</tbody>\n",
              "</table>\n"
            ]
          },
          "metadata": {}
        }
      ]
    },
    {
      "cell_type": "code",
      "metadata": {
        "id": "t2ED07kVjNFJ"
      },
      "source": [
        "### See Python code: main.py for further analysis and generation of .bed files ###"
      ],
      "execution_count": 1,
      "outputs": []
    },
    {
      "cell_type": "markdown",
      "metadata": {
        "id": "ZJCeqWORbQX3"
      },
      "source": [
        "**200 Positively Correlated:**\n",
        "\n",
        "**Whole Genome** -\n",
        "One significant GO biological process is identified: neuron development. One signficant GO cellular component is synaptic membrane.\n",
        "\n",
        "**All Relative Peaks** -\n",
        "There were no results for the relative peaks compared to the top positively correlated peaks.\n",
        "\n",
        "''''''''''''''''''\n",
        "\n",
        "**200 Negatively Correlated:** \n",
        "\n",
        "**Whole Genome**-\n",
        "For negatively correlated peaks, there was no results.\n",
        "\n",
        "**All Relative Peaks** -\n",
        "For negatively correlated peaks, there was also no results.\n",
        "\n",
        "\n",
        "\n",
        "**Conclusion:**\n",
        "The only significant giological process found in the peaks is neuron deveoplment, when the positively correlated peaks in D1 ATAC-seq were compared to whole genome background. Neuron development is a general and broad term that is not a feature specific about MSN D1 cells. However, it is related to functions of the genes regulated by the two most correlated peaks, neurite outgrowth (CNTN6) and postsynaptic receptor anchoring (LHFPL3)."
      ]
    },
    {
      "cell_type": "code",
      "metadata": {
        "id": "P99V8V_G57Rr"
      },
      "source": [
        ""
      ],
      "execution_count": null,
      "outputs": []
    }
  ]
}