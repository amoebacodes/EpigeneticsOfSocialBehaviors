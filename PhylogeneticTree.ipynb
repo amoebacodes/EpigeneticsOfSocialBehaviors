{
  "nbformat": 4,
  "nbformat_minor": 0,
  "metadata": {
    "colab": {
      "name": "CellType.ipynb",
      "provenance": [],
      "collapsed_sections": []
    },
    "kernelspec": {
      "name": "ir",
      "display_name": "R"
    },
    "language_info": {
      "name": "R"
    }
  },
  "cells": [
    {
      "cell_type": "code",
      "metadata": {
        "colab": {
          "base_uri": "https://localhost:8080/"
        },
        "id": "R_1xA6uRjk8E",
        "outputId": "3ba87659-ddf5-48eb-961a-e9bda427d216"
      },
      "source": [
        "##########################################\n",
        "##### Install the relevant packages #####\n",
        "##########################################\n",
        "#This will take several minutes\n",
        "\n",
        "if (!requireNamespace(\"BiocManager\", quietly = TRUE)) #Install bioconductor, repository of bioinformatics packages in R\n",
        "    install.packages(\"BiocManager\")\n",
        "\n",
        "BiocManager::install(\"edgeR\"); #Install the EdgeR package\n",
        "install.packages(\"gplots\");\n",
        "install.packages(\"ggplot2\");\n",
        "install.packages('ape');\n",
        "library(edgeR);\n",
        "library(gplots);\n",
        "library(ggplot2);\n",
        "library(ape);"
      ],
      "execution_count": null,
      "outputs": [
        {
          "output_type": "stream",
          "name": "stderr",
          "text": [
            "Installing package into ‘/usr/local/lib/R/site-library’\n",
            "(as ‘lib’ is unspecified)\n",
            "\n",
            "'getOption(\"repos\")' replaces Bioconductor standard repositories, see\n",
            "'?repositories' for details\n",
            "\n",
            "replacement repositories:\n",
            "    CRAN: https://cran.rstudio.com\n",
            "\n",
            "\n",
            "Bioconductor version 3.13 (BiocManager 1.30.16), R 4.1.1 (2021-08-10)\n",
            "\n",
            "Installing package(s) 'BiocVersion', 'edgeR'\n",
            "\n",
            "also installing the dependencies ‘limma’, ‘locfit’\n",
            "\n",
            "\n",
            "Old packages: 'cpp11', 'data.table', 'desc', 'diffobj', 'digest', 'hms',\n",
            "  'knitr', 'lifecycle', 'mime', 'openssl', 'pillar', 'rcmdcheck', 'readr',\n",
            "  'remotes', 'stringi', 'testthat', 'tibble', 'tidyr', 'tinytex', 'mgcv',\n",
            "  'nlme'\n",
            "\n",
            "Installing package into ‘/usr/local/lib/R/site-library’\n",
            "(as ‘lib’ is unspecified)\n",
            "\n",
            "also installing the dependencies ‘bitops’, ‘gtools’, ‘caTools’\n",
            "\n",
            "\n",
            "Installing package into ‘/usr/local/lib/R/site-library’\n",
            "(as ‘lib’ is unspecified)\n",
            "\n",
            "Installing package into ‘/usr/local/lib/R/site-library’\n",
            "(as ‘lib’ is unspecified)\n",
            "\n",
            "Loading required package: limma\n",
            "\n",
            "\n",
            "Attaching package: ‘gplots’\n",
            "\n",
            "\n",
            "The following object is masked from ‘package:stats’:\n",
            "\n",
            "    lowess\n",
            "\n",
            "\n"
          ]
        }
      ]
    },
    {
      "cell_type": "code",
      "metadata": {
        "id": "_9Y0NJCTjm_4"
      },
      "source": [
        "speciesListDF = read.csv(file=\"https://www.andrew.cmu.edu/user/apfennin/2021_Fall_GEB/project/zoonomiaSpeciesList.txt\", sep = \"\\t\",header=T);"
      ],
      "execution_count": null,
      "outputs": []
    },
    {
      "cell_type": "code",
      "metadata": {
        "colab": {
          "base_uri": "https://localhost:8080/",
          "height": 34
        },
        "id": "fQtus9KIjuPS",
        "outputId": "d67feb1e-ade5-4433-b5f6-c75c672fa5bd"
      },
      "source": [
        "speciesList = colnames(speciesListDF)\n",
        "speciesList = speciesList[2:length(speciesList)]\n",
        "speciesList[1:5]"
      ],
      "execution_count": null,
      "outputs": [
        {
          "output_type": "display_data",
          "data": {
            "text/plain": [
              "[1] \"Acinonyx_jubatus\"       \"Acomys_cahirinus\"       \"Ailuropoda_melanoleuca\"\n",
              "[4] \"Ailurus_fulgens\"        \"Allactaga_bullata\"     "
            ],
            "text/latex": "\\begin{enumerate*}\n\\item 'Acinonyx\\_jubatus'\n\\item 'Acomys\\_cahirinus'\n\\item 'Ailuropoda\\_melanoleuca'\n\\item 'Ailurus\\_fulgens'\n\\item 'Allactaga\\_bullata'\n\\end{enumerate*}\n",
            "text/markdown": "1. 'Acinonyx_jubatus'\n2. 'Acomys_cahirinus'\n3. 'Ailuropoda_melanoleuca'\n4. 'Ailurus_fulgens'\n5. 'Allactaga_bullata'\n\n\n",
            "text/html": [
              "<style>\n",
              ".list-inline {list-style: none; margin:0; padding: 0}\n",
              ".list-inline>li {display: inline-block}\n",
              ".list-inline>li:not(:last-child)::after {content: \"\\00b7\"; padding: 0 .5ex}\n",
              "</style>\n",
              "<ol class=list-inline><li>'Acinonyx_jubatus'</li><li>'Acomys_cahirinus'</li><li>'Ailuropoda_melanoleuca'</li><li>'Ailurus_fulgens'</li><li>'Allactaga_bullata'</li></ol>\n"
            ]
          },
          "metadata": {}
        }
      ]
    },
    {
      "cell_type": "code",
      "metadata": {
        "id": "VnbbKsphkl47"
      },
      "source": [
        "speciesInfoDF = read.csv(file = \"https://www.andrew.cmu.edu/user/apfennin/2021_Fall_GEB/hw2/ZoonomiaGenomeInfo_3.csv\", header = T,stringsAsFactors=F, encoding = \"latin1\")\n",
        "rownames(speciesInfoDF) <- speciesInfoDF$Species\n",
        "speciesInfoDF = speciesInfoDF[speciesList,]"
      ],
      "execution_count": null,
      "outputs": []
    },
    {
      "cell_type": "code",
      "metadata": {
        "id": "3wGctgeYmVnS"
      },
      "source": [
        "# speciesInfoDF is not ordered in the same order as speciesList\n",
        "# Now pulling out target species\n",
        "targetSpecies = c(\"Eulemur_flavifrons\", \"Propithecus_coquereli\", \"Microcebus_murinus\", \"Nomascus_leucogenys\",\"Homo_sapiens\",\"Piliocolobus_tephrosceles\")\n",
        "targetSpeciesInfoDF = speciesInfoDF[targetSpecies,]"
      ],
      "execution_count": null,
      "outputs": []
    },
    {
      "cell_type": "code",
      "metadata": {
        "colab": {
          "base_uri": "https://localhost:8080/",
          "height": 428
        },
        "id": "rlGCXvsAmZ-C",
        "outputId": "88c22a51-92b2-4f69-ec95-0547a6677fdd"
      },
      "source": [
        "targetSpeciesInfoDF$SocialGroupSize = c(1, 9.15, 5, 8.55, 5.75, 4)\n",
        "targetSpeciesInfoDF"
      ],
      "execution_count": null,
      "outputs": [
        {
          "output_type": "display_data",
          "data": {
            "text/plain": [
              "                          ZoonomiaIndex Species                  \n",
              "Eulemur_flavifrons         48           Eulemur_flavifrons       \n",
              "Propithecus_coquereli     103           Propithecus_coquereli    \n",
              "Microcebus_murinus         70           Microcebus_murinus       \n",
              "Nomascus_leucogenys        84           Nomascus_leucogenys      \n",
              "Homo_sapiens               55           Homo_sapiens             \n",
              "Piliocolobus_tephrosceles 101           Piliocolobus_tephrosceles\n",
              "                          CommonName                    Clade     \n",
              "Eulemur_flavifrons        Blue-eyed Black Lemur         Euarchonta\n",
              "Propithecus_coquereli     CoquerelÕs Sifaka             Euarchonta\n",
              "Microcebus_murinus        Gray Mouse Lemur              Euarchonta\n",
              "Nomascus_leucogenys       Northern White-cheeked Gibbon Euarchonta\n",
              "Homo_sapiens              Human                         Euarchonta\n",
              "Piliocolobus_tephrosceles Ugandan Red Colobus           Euarchonta\n",
              "                          MouseSplit_Cactus MouseSplit_MYA HumanSplit_MYA\n",
              "Eulemur_flavifrons        0.81823           90             74.10         \n",
              "Propithecus_coquereli     0.82002           90             74.10         \n",
              "Microcebus_murinus        0.83035           90             74.10         \n",
              "Nomascus_leucogenys       0.73678           90             19.80         \n",
              "Homo_sapiens              0.73560           90              0.00         \n",
              "Piliocolobus_tephrosceles 0.75168           90             28.81         \n",
              "                          CN50_kb  Scaffold.N50 Scaffold.L50 Contig.N50\n",
              "Eulemur_flavifrons           27331 413352       1495         27331     \n",
              "Propithecus_coquereli        28129 5604909      149          28129     \n",
              "Microcebus_murinus          210702 108171978    10           210702    \n",
              "Nomascus_leucogenys          35148 52956880     21           35148     \n",
              "Homo_sapiens              56413054 67794873     16           56413054  \n",
              "Piliocolobus_tephrosceles    70213 10172280     82           70213     \n",
              "                          Contig.L50 Assembly         SocialGroupSize\n",
              "Eulemur_flavifrons        22560      GCA_001262665.1  1.00           \n",
              "Propithecus_coquereli     18523      GCF_000956105.1  9.15           \n",
              "Microcebus_murinus        2987       GCA_000165445.3  5.00           \n",
              "Nomascus_leucogenys       21558      GCF_000146795.2  8.55           \n",
              "Homo_sapiens              19         GCA_000001405.27 5.75           \n",
              "Piliocolobus_tephrosceles 11545      GCA_002776525.1  4.00           "
            ],
            "text/latex": "A data.frame: 6 × 14\n\\begin{tabular}{r|llllllllllllll}\n  & ZoonomiaIndex & Species & CommonName & Clade & MouseSplit\\_Cactus & MouseSplit\\_MYA & HumanSplit\\_MYA & CN50\\_kb & Scaffold.N50 & Scaffold.L50 & Contig.N50 & Contig.L50 & Assembly & SocialGroupSize\\\\\n  & <int> & <chr> & <chr> & <chr> & <dbl> & <dbl> & <dbl> & <int> & <chr> & <chr> & <chr> & <chr> & <chr> & <dbl>\\\\\n\\hline\n\tEulemur\\_flavifrons &  48 & Eulemur\\_flavifrons        & Blue-eyed Black Lemur         & Euarchonta & 0.81823 & 90 & 74.10 &    27331 & 413352    & 1495 & 27331    & 22560 & GCA\\_001262665.1  & 1.00\\\\\n\tPropithecus\\_coquereli & 103 & Propithecus\\_coquereli     & CoquerelÕs Sifaka             & Euarchonta & 0.82002 & 90 & 74.10 &    28129 & 5604909   & 149  & 28129    & 18523 & GCF\\_000956105.1  & 9.15\\\\\n\tMicrocebus\\_murinus &  70 & Microcebus\\_murinus        & Gray Mouse Lemur              & Euarchonta & 0.83035 & 90 & 74.10 &   210702 & 108171978 & 10   & 210702   & 2987  & GCA\\_000165445.3  & 5.00\\\\\n\tNomascus\\_leucogenys &  84 & Nomascus\\_leucogenys       & Northern White-cheeked Gibbon & Euarchonta & 0.73678 & 90 & 19.80 &    35148 & 52956880  & 21   & 35148    & 21558 & GCF\\_000146795.2  & 8.55\\\\\n\tHomo\\_sapiens &  55 & Homo\\_sapiens              & Human                         & Euarchonta & 0.73560 & 90 &  0.00 & 56413054 & 67794873  & 16   & 56413054 & 19    & GCA\\_000001405.27 & 5.75\\\\\n\tPiliocolobus\\_tephrosceles & 101 & Piliocolobus\\_tephrosceles & Ugandan Red Colobus           & Euarchonta & 0.75168 & 90 & 28.81 &    70213 & 10172280  & 82   & 70213    & 11545 & GCA\\_002776525.1  & 4.00\\\\\n\\end{tabular}\n",
            "text/markdown": "\nA data.frame: 6 × 14\n\n| <!--/--> | ZoonomiaIndex &lt;int&gt; | Species &lt;chr&gt; | CommonName &lt;chr&gt; | Clade &lt;chr&gt; | MouseSplit_Cactus &lt;dbl&gt; | MouseSplit_MYA &lt;dbl&gt; | HumanSplit_MYA &lt;dbl&gt; | CN50_kb &lt;int&gt; | Scaffold.N50 &lt;chr&gt; | Scaffold.L50 &lt;chr&gt; | Contig.N50 &lt;chr&gt; | Contig.L50 &lt;chr&gt; | Assembly &lt;chr&gt; | SocialGroupSize &lt;dbl&gt; |\n|---|---|---|---|---|---|---|---|---|---|---|---|---|---|---|\n| Eulemur_flavifrons |  48 | Eulemur_flavifrons        | Blue-eyed Black Lemur         | Euarchonta | 0.81823 | 90 | 74.10 |    27331 | 413352    | 1495 | 27331    | 22560 | GCA_001262665.1  | 1.00 |\n| Propithecus_coquereli | 103 | Propithecus_coquereli     | CoquerelÕs Sifaka             | Euarchonta | 0.82002 | 90 | 74.10 |    28129 | 5604909   | 149  | 28129    | 18523 | GCF_000956105.1  | 9.15 |\n| Microcebus_murinus |  70 | Microcebus_murinus        | Gray Mouse Lemur              | Euarchonta | 0.83035 | 90 | 74.10 |   210702 | 108171978 | 10   | 210702   | 2987  | GCA_000165445.3  | 5.00 |\n| Nomascus_leucogenys |  84 | Nomascus_leucogenys       | Northern White-cheeked Gibbon | Euarchonta | 0.73678 | 90 | 19.80 |    35148 | 52956880  | 21   | 35148    | 21558 | GCF_000146795.2  | 8.55 |\n| Homo_sapiens |  55 | Homo_sapiens              | Human                         | Euarchonta | 0.73560 | 90 |  0.00 | 56413054 | 67794873  | 16   | 56413054 | 19    | GCA_000001405.27 | 5.75 |\n| Piliocolobus_tephrosceles | 101 | Piliocolobus_tephrosceles | Ugandan Red Colobus           | Euarchonta | 0.75168 | 90 | 28.81 |    70213 | 10172280  | 82   | 70213    | 11545 | GCA_002776525.1  | 4.00 |\n\n",
            "text/html": [
              "<table class=\"dataframe\">\n",
              "<caption>A data.frame: 6 × 14</caption>\n",
              "<thead>\n",
              "\t<tr><th></th><th scope=col>ZoonomiaIndex</th><th scope=col>Species</th><th scope=col>CommonName</th><th scope=col>Clade</th><th scope=col>MouseSplit_Cactus</th><th scope=col>MouseSplit_MYA</th><th scope=col>HumanSplit_MYA</th><th scope=col>CN50_kb</th><th scope=col>Scaffold.N50</th><th scope=col>Scaffold.L50</th><th scope=col>Contig.N50</th><th scope=col>Contig.L50</th><th scope=col>Assembly</th><th scope=col>SocialGroupSize</th></tr>\n",
              "\t<tr><th></th><th scope=col>&lt;int&gt;</th><th scope=col>&lt;chr&gt;</th><th scope=col>&lt;chr&gt;</th><th scope=col>&lt;chr&gt;</th><th scope=col>&lt;dbl&gt;</th><th scope=col>&lt;dbl&gt;</th><th scope=col>&lt;dbl&gt;</th><th scope=col>&lt;int&gt;</th><th scope=col>&lt;chr&gt;</th><th scope=col>&lt;chr&gt;</th><th scope=col>&lt;chr&gt;</th><th scope=col>&lt;chr&gt;</th><th scope=col>&lt;chr&gt;</th><th scope=col>&lt;dbl&gt;</th></tr>\n",
              "</thead>\n",
              "<tbody>\n",
              "\t<tr><th scope=row>Eulemur_flavifrons</th><td> 48</td><td>Eulemur_flavifrons       </td><td>Blue-eyed Black Lemur        </td><td>Euarchonta</td><td>0.81823</td><td>90</td><td>74.10</td><td>   27331</td><td>413352   </td><td>1495</td><td>27331   </td><td>22560</td><td>GCA_001262665.1 </td><td>1.00</td></tr>\n",
              "\t<tr><th scope=row>Propithecus_coquereli</th><td>103</td><td>Propithecus_coquereli    </td><td>CoquerelÕs Sifaka            </td><td>Euarchonta</td><td>0.82002</td><td>90</td><td>74.10</td><td>   28129</td><td>5604909  </td><td>149 </td><td>28129   </td><td>18523</td><td>GCF_000956105.1 </td><td>9.15</td></tr>\n",
              "\t<tr><th scope=row>Microcebus_murinus</th><td> 70</td><td>Microcebus_murinus       </td><td>Gray Mouse Lemur             </td><td>Euarchonta</td><td>0.83035</td><td>90</td><td>74.10</td><td>  210702</td><td>108171978</td><td>10  </td><td>210702  </td><td>2987 </td><td>GCA_000165445.3 </td><td>5.00</td></tr>\n",
              "\t<tr><th scope=row>Nomascus_leucogenys</th><td> 84</td><td>Nomascus_leucogenys      </td><td>Northern White-cheeked Gibbon</td><td>Euarchonta</td><td>0.73678</td><td>90</td><td>19.80</td><td>   35148</td><td>52956880 </td><td>21  </td><td>35148   </td><td>21558</td><td>GCF_000146795.2 </td><td>8.55</td></tr>\n",
              "\t<tr><th scope=row>Homo_sapiens</th><td> 55</td><td>Homo_sapiens             </td><td>Human                        </td><td>Euarchonta</td><td>0.73560</td><td>90</td><td> 0.00</td><td>56413054</td><td>67794873 </td><td>16  </td><td>56413054</td><td>19   </td><td>GCA_000001405.27</td><td>5.75</td></tr>\n",
              "\t<tr><th scope=row>Piliocolobus_tephrosceles</th><td>101</td><td>Piliocolobus_tephrosceles</td><td>Ugandan Red Colobus          </td><td>Euarchonta</td><td>0.75168</td><td>90</td><td>28.81</td><td>   70213</td><td>10172280 </td><td>82  </td><td>70213   </td><td>11545</td><td>GCA_002776525.1 </td><td>4.00</td></tr>\n",
              "</tbody>\n",
              "</table>\n"
            ]
          },
          "metadata": {}
        }
      ]
    },
    {
      "cell_type": "code",
      "metadata": {
        "id": "H90ziDIXqMgz"
      },
      "source": [
        "zoonomiaTree = read.tree(\"https://www.andrew.cmu.edu/user/apfennin/2021_Fall_GEB/hw2/Zoonomia_ChrX_lessGC40_241species_30Consensus.tree\")\n",
        "\n",
        "removeSpecV <- setdiff(zoonomiaTree$tip.label,targetSpecies); #The set of species to remove from the tree\n",
        "filteredZoonomiaTree = drop.tip(zoonomiaTree, removeSpecV)\n",
        "\n",
        "targetSpeciesInfoDF$NormalizedSocialGroupSize <- targetSpeciesInfoDF$SocialGroupSize /max(targetSpeciesInfoDF$SocialGroupSize);\n",
        "tipColorsM <- colorRamp(c(\"blue\",\"red\"),space= \"rgb\")(targetSpeciesInfoDF[filteredZoonomiaTree$tip.label,\"NormalizedSocialGroupSize\"])\n",
        "tipColorsV <- apply(tipColorsM,1,function(x) rgb(x[1],x[2],x[3],maxColorValue=255)); #color ramp (0 = blue - 1 = red, so 0.5 is purple)"
      ],
      "execution_count": null,
      "outputs": []
    },
    {
      "cell_type": "code",
      "metadata": {
        "id": "YqBuJ9WRvR_Y"
      },
      "source": [
        "sortedSocialGroupSize = targetSpeciesInfoDF[filteredZoonomiaTree$tip.label[order(tipColorsM[,1])],\"SocialGroupSize\"]\n",
        "\n",
        "filteredZoonomiaTree$tip.label = targetSpeciesInfoDF[filteredZoonomiaTree$tip.label, \"CommonName\"]"
      ],
      "execution_count": null,
      "outputs": []
    },
    {
      "cell_type": "code",
      "metadata": {
        "colab": {
          "base_uri": "https://localhost:8080/",
          "height": 437
        },
        "id": "ha7Mt_L8v3FD",
        "outputId": "2fd7ddce-ae90-4ffa-be97-7a748345bd46"
      },
      "source": [
        "layout(matrix(c(1,2), 2, 1, byrow = TRUE), heights = c(11, 8))\n",
        "plot(filteredZoonomiaTree,type = \"phylogram\", show.tip.label = TRUE,\n",
        "     edge.color = \"black\", edge.width = 1, edge.lty = 1,\n",
        "     tip.color = tipColorsV)\n",
        "plot.new()\n",
        "sortedTipColorsM = tipColorsM[order(tipColorsM[,1]),]\n",
        "sortedTipColorsV = apply(sortedTipColorsM,1,function(x) rgb(x[1],x[2],x[3],maxColorValue=255)); #color ramp (0 = blue - 1 = red, so 0.5 is purple)\n",
        "legend(x = 0, y = 1,\n",
        "       legend = sortedSocialGroupSize,\n",
        "       fill = sortedTipColorsV,\n",
        "       border = NA,text.font = 0.5,\n",
        "       horiz = TRUE, title = 'SocialGroupSize')"
      ],
      "execution_count": null,
      "outputs": [
        {
          "output_type": "display_data",
          "data": {
            "image/png": "[encoded data removed]",
            "text/plain": [
              "plot without title"
            ]
          },
          "metadata": {
            "image/png": {
              "width": 420,
              "height": 420
            }
          }
        }
      ]
    },
    {
      "cell_type": "code",
      "metadata": {
        "colab": {
          "base_uri": "https://localhost:8080/",
          "height": 1000
        },
        "id": "YEPBGuew2bRY",
        "outputId": "bd514dc4-669a-47a1-baf6-b3d470f8ce2c"
      },
      "source": [
        "speciesUrl <- \"http://www.andrew.cmu.edu/user/apfennin/2021_Fall_GEB/hw2/ZoonomiaGenomeInfo_3.csv\"; #The the URL of the zoonomia species file\n",
        "speciesInfoF <- read.csv(file=speciesUrl,stringsAsFactors=F,header=T); #Read the file into a data frame\n",
        "rownames(speciesInfoF) <- speciesInfoF$Species\n",
        "speciesInfoF = speciesInfoF[speciesList,]\n",
        "speciesInfoF[1:5,]\n",
        "speciesInfoF[targetSpecies,]"
      ],
      "execution_count": null,
      "outputs": [
        {
          "output_type": "display_data",
          "data": {
            "text/plain": [
              "                       ZoonomiaIndex Species                CommonName       \n",
              "Acinonyx_jubatus         1           Acinonyx_jubatus       Cheetah          \n",
              "Acomys_cahirinus       122           Acomys_cahirinus       Cairo Spiny Mouse\n",
              "Ailuropoda_melanoleuca   2           Ailuropoda_melanoleuca Giant Panda      \n",
              "Ailurus_fulgens          3           Ailurus_fulgens        Red Panda        \n",
              "Allactaga_bullata      123           Allactaga_bullata      Gobi Jerboa      \n",
              "                       Clade          MouseSplit_Cactus MouseSplit_MYA\n",
              "Acinonyx_jubatus       Laurasiatheria 0.77159           96.0          \n",
              "Acomys_cahirinus       Glires         0.12066           28.6          \n",
              "Ailuropoda_melanoleuca Laurasiatheria 0.81346           96.0          \n",
              "Ailurus_fulgens        Laurasiatheria 0.78542           96.0          \n",
              "Allactaga_bullata      Glires         0.62434           55.0          \n",
              "                       HumanSplit_MYA CN50_kb Scaffold.N50 Scaffold.L50\n",
              "Acinonyx_jubatus       94              35120  3122036      232         \n",
              "Acomys_cahirinus       89              44337  65411        10134       \n",
              "Ailuropoda_melanoleuca 94             128604  9947519      75          \n",
              "Ailurus_fulgens        94              99577  9947519      75          \n",
              "Allactaga_bullata      89              37276  36308        21056       \n",
              "                       Contig.N50 Contig.L50 Assembly                  \n",
              "Acinonyx_jubatus       35120      19059      GCF_001443585.1           \n",
              "Acomys_cahirinus       42476      15859      DISCOVAR (GCA_004027535.1)\n",
              "Ailuropoda_melanoleuca 128604     5279       GCA_002007445.1           \n",
              "Ailurus_fulgens        99577      6772       GCA_002007465.1           \n",
              "Allactaga_bullata      30651      25318      DISCOVAR (GCA_004027895.1)"
            ],
            "text/latex": "A data.frame: 5 × 13\n\\begin{tabular}{r|lllllllllllll}\n  & ZoonomiaIndex & Species & CommonName & Clade & MouseSplit\\_Cactus & MouseSplit\\_MYA & HumanSplit\\_MYA & CN50\\_kb & Scaffold.N50 & Scaffold.L50 & Contig.N50 & Contig.L50 & Assembly\\\\\n  & <int> & <chr> & <chr> & <chr> & <dbl> & <dbl> & <dbl> & <int> & <chr> & <chr> & <chr> & <chr> & <chr>\\\\\n\\hline\n\tAcinonyx\\_jubatus &   1 & Acinonyx\\_jubatus       & Cheetah           & Laurasiatheria & 0.77159 & 96.0 & 94 &  35120 & 3122036 & 232   & 35120  & 19059 & GCF\\_001443585.1           \\\\\n\tAcomys\\_cahirinus & 122 & Acomys\\_cahirinus       & Cairo Spiny Mouse & Glires         & 0.12066 & 28.6 & 89 &  44337 & 65411   & 10134 & 42476  & 15859 & DISCOVAR (GCA\\_004027535.1)\\\\\n\tAiluropoda\\_melanoleuca &   2 & Ailuropoda\\_melanoleuca & Giant Panda       & Laurasiatheria & 0.81346 & 96.0 & 94 & 128604 & 9947519 & 75    & 128604 & 5279  & GCA\\_002007445.1           \\\\\n\tAilurus\\_fulgens &   3 & Ailurus\\_fulgens        & Red Panda         & Laurasiatheria & 0.78542 & 96.0 & 94 &  99577 & 9947519 & 75    & 99577  & 6772  & GCA\\_002007465.1           \\\\\n\tAllactaga\\_bullata & 123 & Allactaga\\_bullata      & Gobi Jerboa       & Glires         & 0.62434 & 55.0 & 89 &  37276 & 36308   & 21056 & 30651  & 25318 & DISCOVAR (GCA\\_004027895.1)\\\\\n\\end{tabular}\n",
            "text/markdown": "\nA data.frame: 5 × 13\n\n| <!--/--> | ZoonomiaIndex &lt;int&gt; | Species &lt;chr&gt; | CommonName &lt;chr&gt; | Clade &lt;chr&gt; | MouseSplit_Cactus &lt;dbl&gt; | MouseSplit_MYA &lt;dbl&gt; | HumanSplit_MYA &lt;dbl&gt; | CN50_kb &lt;int&gt; | Scaffold.N50 &lt;chr&gt; | Scaffold.L50 &lt;chr&gt; | Contig.N50 &lt;chr&gt; | Contig.L50 &lt;chr&gt; | Assembly &lt;chr&gt; |\n|---|---|---|---|---|---|---|---|---|---|---|---|---|---|\n| Acinonyx_jubatus |   1 | Acinonyx_jubatus       | Cheetah           | Laurasiatheria | 0.77159 | 96.0 | 94 |  35120 | 3122036 | 232   | 35120  | 19059 | GCF_001443585.1            |\n| Acomys_cahirinus | 122 | Acomys_cahirinus       | Cairo Spiny Mouse | Glires         | 0.12066 | 28.6 | 89 |  44337 | 65411   | 10134 | 42476  | 15859 | DISCOVAR (GCA_004027535.1) |\n| Ailuropoda_melanoleuca |   2 | Ailuropoda_melanoleuca | Giant Panda       | Laurasiatheria | 0.81346 | 96.0 | 94 | 128604 | 9947519 | 75    | 128604 | 5279  | GCA_002007445.1            |\n| Ailurus_fulgens |   3 | Ailurus_fulgens        | Red Panda         | Laurasiatheria | 0.78542 | 96.0 | 94 |  99577 | 9947519 | 75    | 99577  | 6772  | GCA_002007465.1            |\n| Allactaga_bullata | 123 | Allactaga_bullata      | Gobi Jerboa       | Glires         | 0.62434 | 55.0 | 89 |  37276 | 36308   | 21056 | 30651  | 25318 | DISCOVAR (GCA_004027895.1) |\n\n",
            "text/html": [
              "<table class=\"dataframe\">\n",
              "<caption>A data.frame: 5 × 13</caption>\n",
              "<thead>\n",
              "\t<tr><th></th><th scope=col>ZoonomiaIndex</th><th scope=col>Species</th><th scope=col>CommonName</th><th scope=col>Clade</th><th scope=col>MouseSplit_Cactus</th><th scope=col>MouseSplit_MYA</th><th scope=col>HumanSplit_MYA</th><th scope=col>CN50_kb</th><th scope=col>Scaffold.N50</th><th scope=col>Scaffold.L50</th><th scope=col>Contig.N50</th><th scope=col>Contig.L50</th><th scope=col>Assembly</th></tr>\n",
              "\t<tr><th></th><th scope=col>&lt;int&gt;</th><th scope=col>&lt;chr&gt;</th><th scope=col>&lt;chr&gt;</th><th scope=col>&lt;chr&gt;</th><th scope=col>&lt;dbl&gt;</th><th scope=col>&lt;dbl&gt;</th><th scope=col>&lt;dbl&gt;</th><th scope=col>&lt;int&gt;</th><th scope=col>&lt;chr&gt;</th><th scope=col>&lt;chr&gt;</th><th scope=col>&lt;chr&gt;</th><th scope=col>&lt;chr&gt;</th><th scope=col>&lt;chr&gt;</th></tr>\n",
              "</thead>\n",
              "<tbody>\n",
              "\t<tr><th scope=row>Acinonyx_jubatus</th><td>  1</td><td>Acinonyx_jubatus      </td><td>Cheetah          </td><td>Laurasiatheria</td><td>0.77159</td><td>96.0</td><td>94</td><td> 35120</td><td>3122036</td><td>232  </td><td>35120 </td><td>19059</td><td>GCF_001443585.1           </td></tr>\n",
              "\t<tr><th scope=row>Acomys_cahirinus</th><td>122</td><td>Acomys_cahirinus      </td><td>Cairo Spiny Mouse</td><td>Glires        </td><td>0.12066</td><td>28.6</td><td>89</td><td> 44337</td><td>65411  </td><td>10134</td><td>42476 </td><td>15859</td><td>DISCOVAR (GCA_004027535.1)</td></tr>\n",
              "\t<tr><th scope=row>Ailuropoda_melanoleuca</th><td>  2</td><td>Ailuropoda_melanoleuca</td><td>Giant Panda      </td><td>Laurasiatheria</td><td>0.81346</td><td>96.0</td><td>94</td><td>128604</td><td>9947519</td><td>75   </td><td>128604</td><td>5279 </td><td>GCA_002007445.1           </td></tr>\n",
              "\t<tr><th scope=row>Ailurus_fulgens</th><td>  3</td><td>Ailurus_fulgens       </td><td>Red Panda        </td><td>Laurasiatheria</td><td>0.78542</td><td>96.0</td><td>94</td><td> 99577</td><td>9947519</td><td>75   </td><td>99577 </td><td>6772 </td><td>GCA_002007465.1           </td></tr>\n",
              "\t<tr><th scope=row>Allactaga_bullata</th><td>123</td><td>Allactaga_bullata     </td><td>Gobi Jerboa      </td><td>Glires        </td><td>0.62434</td><td>55.0</td><td>89</td><td> 37276</td><td>36308  </td><td>21056</td><td>30651 </td><td>25318</td><td>DISCOVAR (GCA_004027895.1)</td></tr>\n",
              "</tbody>\n",
              "</table>\n"
            ]
          },
          "metadata": {}
        },
        {
          "output_type": "stream",
          "name": "stderr",
          "text": [
            "Warning message in FUN(X[[i]], ...):\n",
            "“input string 3 is invalid in this locale”\n",
            "Warning message in FUN(X[[i]], ...):\n",
            "“input string 3 is invalid in this locale”\n",
            "Warning message in FUN(X[[i]], ...):\n",
            "“input string 3 is invalid in this locale”\n",
            "ERROR while rich displaying an object: Error in gsub(chr, html_specials[[chr]], text, fixed = TRUE): input string 3 is invalid in this locale\n",
            "\n",
            "Traceback:\n",
            "1. FUN(X[[i]], ...)\n",
            "2. tryCatch(withCallingHandlers({\n",
            " .     if (!mime %in% names(repr::mime2repr)) \n",
            " .         stop(\"No repr_* for mimetype \", mime, \" in repr::mime2repr\")\n",
            " .     rpr <- repr::mime2repr[[mime]](obj)\n",
            " .     if (is.null(rpr)) \n",
            " .         return(NULL)\n",
            " .     prepare_content(is.raw(rpr), rpr)\n",
            " . }, error = error_handler), error = outer_handler)\n",
            "3. tryCatchList(expr, classes, parentenv, handlers)\n",
            "4. tryCatchOne(expr, names, parentenv, handlers[[1L]])\n",
            "5. doTryCatch(return(expr), name, parentenv, handler)\n",
            "6. withCallingHandlers({\n",
            " .     if (!mime %in% names(repr::mime2repr)) \n",
            " .         stop(\"No repr_* for mimetype \", mime, \" in repr::mime2repr\")\n",
            " .     rpr <- repr::mime2repr[[mime]](obj)\n",
            " .     if (is.null(rpr)) \n",
            " .         return(NULL)\n",
            " .     prepare_content(is.raw(rpr), rpr)\n",
            " . }, error = error_handler)\n",
            "7. repr::mime2repr[[mime]](obj)\n",
            "8. repr_markdown.data.frame(obj)\n",
            "9. repr_matrix_generic(obj, \"\\n%s\\n\\n%s%s\\n\", sprintf(\"|%%s\\n|%s|\\n\", \n",
            " .     underline), NULL, \" <!--/--> |\", \" %s |\", \"%s\", \"|%s\\n\", \n",
            " .     \" %s |\", \" %s |\", escape_fun = markdown_escape, rows = rows, \n",
            " .     cols = cols, ...)\n",
            "10. lapply(seq_len(nrow(x)), function(r) {\n",
            "  .     row <- escape_fun(slice_row(x, r))\n",
            "  .     cells <- sprintf(cell, row)\n",
            "  .     if (has_rownames) {\n",
            "  .         row_head <- sprintf(row_head, escape_fun(rownames(x)[[r]]))\n",
            "  .         cells <- c(row_head, cells)\n",
            "  .     }\n",
            "  .     sprintf(row_wrap, paste(cells, collapse = \"\"))\n",
            "  . })\n",
            "11. FUN(X[[i]], ...)\n",
            "12. escape_fun(slice_row(x, r))\n",
            "13. html_escape(values, do_spaces = FALSE)\n",
            "14. gsub(chr, html_specials[[chr]], text, fixed = TRUE)\n",
            "Warning message in FUN(X[[i]], ...):\n",
            "“input string 3 is invalid in this locale”\n",
            "Warning message in FUN(X[[i]], ...):\n",
            "“input string 3 is invalid in this locale”\n",
            "Warning message in FUN(X[[i]], ...):\n",
            "“input string 3 is invalid in this locale”\n",
            "Warning message in FUN(X[[i]], ...):\n",
            "“input string 3 is invalid in this locale”\n",
            "Warning message in FUN(X[[i]], ...):\n",
            "“input string 3 is invalid in this locale”\n",
            "Warning message in FUN(X[[i]], ...):\n",
            "“input string 3 is invalid in this locale”\n",
            "Warning message in FUN(X[[i]], ...):\n",
            "“input string 3 is invalid in this locale”\n",
            "Warning message in FUN(X[[i]], ...):\n",
            "“input string 3 is invalid in this locale”\n",
            "Warning message in FUN(X[[i]], ...):\n",
            "“input string 3 is invalid in this locale”\n",
            "Warning message in FUN(X[[i]], ...):\n",
            "“input string 3 is invalid in this locale”\n",
            "Warning message in FUN(X[[i]], ...):\n",
            "“input string 3 is invalid in this locale”\n",
            "Warning message in FUN(X[[i]], ...):\n",
            "“input string 3 is invalid in this locale”\n",
            "Warning message in FUN(X[[i]], ...):\n",
            "“input string 3 is invalid in this locale”\n",
            "ERROR while rich displaying an object: Error in gsub(chr, latex_specials[[chr]], text, fixed = TRUE): input string 3 is invalid in this locale\n",
            "\n",
            "Traceback:\n",
            "1. FUN(X[[i]], ...)\n",
            "2. tryCatch(withCallingHandlers({\n",
            " .     if (!mime %in% names(repr::mime2repr)) \n",
            " .         stop(\"No repr_* for mimetype \", mime, \" in repr::mime2repr\")\n",
            " .     rpr <- repr::mime2repr[[mime]](obj)\n",
            " .     if (is.null(rpr)) \n",
            " .         return(NULL)\n",
            " .     prepare_content(is.raw(rpr), rpr)\n",
            " . }, error = error_handler), error = outer_handler)\n",
            "3. tryCatchList(expr, classes, parentenv, handlers)\n",
            "4. tryCatchOne(expr, names, parentenv, handlers[[1L]])\n",
            "5. doTryCatch(return(expr), name, parentenv, handler)\n",
            "6. withCallingHandlers({\n",
            " .     if (!mime %in% names(repr::mime2repr)) \n",
            " .         stop(\"No repr_* for mimetype \", mime, \" in repr::mime2repr\")\n",
            " .     rpr <- repr::mime2repr[[mime]](obj)\n",
            " .     if (is.null(rpr)) \n",
            " .         return(NULL)\n",
            " .     prepare_content(is.raw(rpr), rpr)\n",
            " . }, error = error_handler)\n",
            "7. repr::mime2repr[[mime]](obj)\n",
            "8. repr_latex.data.frame(obj)\n",
            "9. repr_matrix_generic(obj, sprintf(\"%%s\\n\\\\begin{tabular}{%s}\\n%%s%%s\\\\end{tabular}\\n\", \n",
            " .     cols_spec), \"%s\\\\hline\\n\", \"%s\\\\\\\\\\n\", \"  &\", \" %s &\", \"%s\", \n",
            " .     \"\\t%s\\\\\\\\\\n\", \"%s &\", \" %s &\", escape_fun = latex_escape_vec, \n",
            " .     rows = rows, cols = cols, ...)\n",
            "10. lapply(seq_len(nrow(x)), function(r) {\n",
            "  .     row <- escape_fun(slice_row(x, r))\n",
            "  .     cells <- sprintf(cell, row)\n",
            "  .     if (has_rownames) {\n",
            "  .         row_head <- sprintf(row_head, escape_fun(rownames(x)[[r]]))\n",
            "  .         cells <- c(row_head, cells)\n",
            "  .     }\n",
            "  .     sprintf(row_wrap, paste(cells, collapse = \"\"))\n",
            "  . })\n",
            "11. FUN(X[[i]], ...)\n",
            "12. escape_fun(slice_row(x, r))\n",
            "13. .escape_vec(vec, \"latex\")\n",
            "14. escape_specials(vec)\n",
            "15. gsub(chr, latex_specials[[chr]], text, fixed = TRUE)\n"
          ]
        },
        {
          "output_type": "display_data",
          "data": {
            "text/plain": [
              "                          ZoonomiaIndex Species                  \n",
              "Eulemur_flavifrons         48           Eulemur_flavifrons       \n",
              "Propithecus_coquereli     103           Propithecus_coquereli    \n",
              "Microcebus_murinus         70           Microcebus_murinus       \n",
              "Nomascus_leucogenys        84           Nomascus_leucogenys      \n",
              "Homo_sapiens               55           Homo_sapiens             \n",
              "Piliocolobus_tephrosceles 101           Piliocolobus_tephrosceles\n",
              "                          CommonName                    Clade     \n",
              "Eulemur_flavifrons        Blue-eyed Black Lemur         Euarchonta\n",
              "Propithecus_coquereli     Coquerel\\xd5s Sifaka          Euarchonta\n",
              "Microcebus_murinus        Gray Mouse Lemur              Euarchonta\n",
              "Nomascus_leucogenys       Northern White-cheeked Gibbon Euarchonta\n",
              "Homo_sapiens              Human                         Euarchonta\n",
              "Piliocolobus_tephrosceles Ugandan Red Colobus           Euarchonta\n",
              "                          MouseSplit_Cactus MouseSplit_MYA HumanSplit_MYA\n",
              "Eulemur_flavifrons        0.81823           90             74.10         \n",
              "Propithecus_coquereli     0.82002           90             74.10         \n",
              "Microcebus_murinus        0.83035           90             74.10         \n",
              "Nomascus_leucogenys       0.73678           90             19.80         \n",
              "Homo_sapiens              0.73560           90              0.00         \n",
              "Piliocolobus_tephrosceles 0.75168           90             28.81         \n",
              "                          CN50_kb  Scaffold.N50 Scaffold.L50 Contig.N50\n",
              "Eulemur_flavifrons           27331 413352       1495         27331     \n",
              "Propithecus_coquereli        28129 5604909      149          28129     \n",
              "Microcebus_murinus          210702 108171978    10           210702    \n",
              "Nomascus_leucogenys          35148 52956880     21           35148     \n",
              "Homo_sapiens              56413054 67794873     16           56413054  \n",
              "Piliocolobus_tephrosceles    70213 10172280     82           70213     \n",
              "                          Contig.L50 Assembly        \n",
              "Eulemur_flavifrons        22560      GCA_001262665.1 \n",
              "Propithecus_coquereli     18523      GCF_000956105.1 \n",
              "Microcebus_murinus        2987       GCA_000165445.3 \n",
              "Nomascus_leucogenys       21558      GCF_000146795.2 \n",
              "Homo_sapiens              19         GCA_000001405.27\n",
              "Piliocolobus_tephrosceles 11545      GCA_002776525.1 "
            ],
            "text/html": [
              "<table class=\"dataframe\">\n",
              "<caption>A data.frame: 6 × 13</caption>\n",
              "<thead>\n",
              "\t<tr><th></th><th scope=col>ZoonomiaIndex</th><th scope=col>Species</th><th scope=col>CommonName</th><th scope=col>Clade</th><th scope=col>MouseSplit_Cactus</th><th scope=col>MouseSplit_MYA</th><th scope=col>HumanSplit_MYA</th><th scope=col>CN50_kb</th><th scope=col>Scaffold.N50</th><th scope=col>Scaffold.L50</th><th scope=col>Contig.N50</th><th scope=col>Contig.L50</th><th scope=col>Assembly</th></tr>\n",
              "\t<tr><th></th><th scope=col>&lt;int&gt;</th><th scope=col>&lt;chr&gt;</th><th scope=col>&lt;chr&gt;</th><th scope=col>&lt;chr&gt;</th><th scope=col>&lt;dbl&gt;</th><th scope=col>&lt;dbl&gt;</th><th scope=col>&lt;dbl&gt;</th><th scope=col>&lt;int&gt;</th><th scope=col>&lt;chr&gt;</th><th scope=col>&lt;chr&gt;</th><th scope=col>&lt;chr&gt;</th><th scope=col>&lt;chr&gt;</th><th scope=col>&lt;chr&gt;</th></tr>\n",
              "</thead>\n",
              "<tbody>\n",
              "\t<tr><th scope=row>Eulemur_flavifrons</th><td> 48</td><td>Eulemur_flavifrons       </td><td>Blue-eyed Black Lemur        </td><td>Euarchonta</td><td>0.81823</td><td>90</td><td>74.10</td><td>   27331</td><td>413352   </td><td>1495</td><td>27331   </td><td>22560</td><td>GCA_001262665.1 </td></tr>\n",
              "\t<tr><th scope=row>Propithecus_coquereli</th><td>103</td><td>Propithecus_coquereli    </td><td>Coquerel<d5>s Sifaka         </td><td>Euarchonta</td><td>0.82002</td><td>90</td><td>74.10</td><td>   28129</td><td>5604909  </td><td>149 </td><td>28129   </td><td>18523</td><td>GCF_000956105.1 </td></tr>\n",
              "\t<tr><th scope=row>Microcebus_murinus</th><td> 70</td><td>Microcebus_murinus       </td><td>Gray Mouse Lemur             </td><td>Euarchonta</td><td>0.83035</td><td>90</td><td>74.10</td><td>  210702</td><td>108171978</td><td>10  </td><td>210702  </td><td>2987 </td><td>GCA_000165445.3 </td></tr>\n",
              "\t<tr><th scope=row>Nomascus_leucogenys</th><td> 84</td><td>Nomascus_leucogenys      </td><td>Northern White-cheeked Gibbon</td><td>Euarchonta</td><td>0.73678</td><td>90</td><td>19.80</td><td>   35148</td><td>52956880 </td><td>21  </td><td>35148   </td><td>21558</td><td>GCF_000146795.2 </td></tr>\n",
              "\t<tr><th scope=row>Homo_sapiens</th><td> 55</td><td>Homo_sapiens             </td><td>Human                        </td><td>Euarchonta</td><td>0.73560</td><td>90</td><td> 0.00</td><td>56413054</td><td>67794873 </td><td>16  </td><td>56413054</td><td>19   </td><td>GCA_000001405.27</td></tr>\n",
              "\t<tr><th scope=row>Piliocolobus_tephrosceles</th><td>101</td><td>Piliocolobus_tephrosceles</td><td>Ugandan Red Colobus          </td><td>Euarchonta</td><td>0.75168</td><td>90</td><td>28.81</td><td>   70213</td><td>10172280 </td><td>82  </td><td>70213   </td><td>11545</td><td>GCA_002776525.1 </td></tr>\n",
              "</tbody>\n",
              "</table>\n"
            ]
          },
          "metadata": {}
        }
      ]
    },
    {
      "cell_type": "code",
      "metadata": {
        "colab": {
          "base_uri": "https://localhost:8080/",
          "height": 52
        },
        "id": "6CsQjJZz2cOd",
        "outputId": "581febd4-33a5-43ee-82bd-c41ec5e9c5f0"
      },
      "source": [
        ""
      ],
      "execution_count": null,
      "outputs": [
        {
          "output_type": "display_data",
          "data": {
            "text/plain": [
              "[1] NA NA NA NA NA NA"
            ],
            "text/latex": "\\begin{enumerate*}\n\\item <NA>\n\\item <NA>\n\\item <NA>\n\\item <NA>\n\\item <NA>\n\\item <NA>\n\\end{enumerate*}\n",
            "text/markdown": "1. &lt;NA&gt;\n2. &lt;NA&gt;\n3. &lt;NA&gt;\n4. &lt;NA&gt;\n5. &lt;NA&gt;\n6. &lt;NA&gt;\n\n\n",
            "text/html": [
              "<style>\n",
              ".list-inline {list-style: none; margin:0; padding: 0}\n",
              ".list-inline>li {display: inline-block}\n",
              ".list-inline>li:not(:last-child)::after {content: \"\\00b7\"; padding: 0 .5ex}\n",
              "</style>\n",
              "<ol class=list-inline><li>&lt;NA&gt;</li><li>&lt;NA&gt;</li><li>&lt;NA&gt;</li><li>&lt;NA&gt;</li><li>&lt;NA&gt;</li><li>&lt;NA&gt;</li></ol>\n"
            ]
          },
          "metadata": {}
        },
        {
          "output_type": "display_data",
          "data": {
            "text/plain": [
              "[1] \"Blue-eyed Black Lemur\"         \"Ugandan Red Colobus\"          \n",
              "[3] \"Gray Mouse Lemur\"              \"Human\"                        \n",
              "[5] \"Northern White-cheeked Gibbon\" \"CoquerelÕs Sifaka\"            "
            ],
            "text/latex": "\\begin{enumerate*}\n\\item 'Blue-eyed Black Lemur'\n\\item 'Ugandan Red Colobus'\n\\item 'Gray Mouse Lemur'\n\\item 'Human'\n\\item 'Northern White-cheeked Gibbon'\n\\item 'CoquerelÕs Sifaka'\n\\end{enumerate*}\n",
            "text/markdown": "1. 'Blue-eyed Black Lemur'\n2. 'Ugandan Red Colobus'\n3. 'Gray Mouse Lemur'\n4. 'Human'\n5. 'Northern White-cheeked Gibbon'\n6. 'CoquerelÕs Sifaka'\n\n\n",
            "text/html": [
              "<style>\n",
              ".list-inline {list-style: none; margin:0; padding: 0}\n",
              ".list-inline>li {display: inline-block}\n",
              ".list-inline>li:not(:last-child)::after {content: \"\\00b7\"; padding: 0 .5ex}\n",
              "</style>\n",
              "<ol class=list-inline><li>'Blue-eyed Black Lemur'</li><li>'Ugandan Red Colobus'</li><li>'Gray Mouse Lemur'</li><li>'Human'</li><li>'Northern White-cheeked Gibbon'</li><li>'CoquerelÕs Sifaka'</li></ol>\n"
            ]
          },
          "metadata": {}
        }
      ]
    },
    {
      "cell_type": "code",
      "metadata": {
        "id": "w27ACC4x7hEr"
      },
      "source": [
        ""
      ],
      "execution_count": null,
      "outputs": []
    }
  ]
}