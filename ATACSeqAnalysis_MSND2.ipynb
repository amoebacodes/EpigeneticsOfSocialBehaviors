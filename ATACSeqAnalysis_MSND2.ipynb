{
  "nbformat": 4,
  "nbformat_minor": 0,
  "metadata": {
    "colab": {
      "name": "Analysis1_MSND2.ipynb",
      "provenance": [],
      "collapsed_sections": []
    },
    "kernelspec": {
      "name": "ir",
      "display_name": "R"
    },
    "language_info": {
      "name": "R"
    }
  },
  "cells": [
    {
      "cell_type": "code",
      "metadata": {
        "colab": {
          "base_uri": "https://localhost:8080/"
        },
        "id": "Q6WmoylbJCEA",
        "outputId": "f7dd3219-83e9-4deb-a163-bf411e4f6fc2"
      },
      "source": [
        "##########################################\n",
        "##### Install the relevant packages #####\n",
        "##########################################\n",
        "#This will take several minutes\n",
        "\n",
        "if (!requireNamespace(\"BiocManager\", quietly = TRUE)) #Install bioconductor, repository of bioinformatics packages in R\n",
        "    install.packages(\"BiocManager\")\n",
        "\n",
        "BiocManager::install(\"edgeR\"); #Install the EdgeR package"
      ],
      "execution_count": null,
      "outputs": [
        {
          "output_type": "stream",
          "name": "stderr",
          "text": [
            "'getOption(\"repos\")' replaces Bioconductor standard repositories, see\n",
            "'?repositories' for details\n",
            "\n",
            "replacement repositories:\n",
            "    CRAN: https://cran.rstudio.com\n",
            "\n",
            "\n",
            "Bioconductor version 3.14 (BiocManager 1.30.16), R 4.1.1 (2021-08-10)\n",
            "\n",
            "Warning message:\n",
            "“package(s) not installed when version(s) same as current; use `force = TRUE` to\n",
            "  re-install: 'edgeR'”\n",
            "Old packages: 'pbdZMQ', 'backports', 'broom', 'cli', 'crayon', 'generics',\n",
            "  'openssl', 'sessioninfo', 'tzdb', 'usethis', 'uuid', 'nlme'\n",
            "\n"
          ]
        }
      ]
    },
    {
      "cell_type": "markdown",
      "metadata": {
        "id": "49ASmnc1mwxK"
      },
      "source": [
        ""
      ]
    },
    {
      "cell_type": "code",
      "metadata": {
        "colab": {
          "base_uri": "https://localhost:8080/"
        },
        "id": "O1zG4YKAJK6g",
        "outputId": "cf06cb13-04a8-41b6-f03b-2c8871ef8bc6"
      },
      "source": [
        "install.packages(\"gplots\");\n",
        "install.packages(\"gplots2\");\n",
        "\n",
        "##########################################\n",
        "##### Load the libraries #####\n",
        "##########################################\n",
        "library(edgeR);\n",
        "library(gplots);\n",
        "library(ggplot2);"
      ],
      "execution_count": null,
      "outputs": [
        {
          "output_type": "stream",
          "name": "stderr",
          "text": [
            "Installing package into ‘/usr/local/lib/R/site-library’\n",
            "(as ‘lib’ is unspecified)\n",
            "\n",
            "Installing package into ‘/usr/local/lib/R/site-library’\n",
            "(as ‘lib’ is unspecified)\n",
            "\n",
            "Warning message:\n",
            "“package ‘gplots2’ is not available for this version of R\n",
            "\n",
            "A version of this package for your version of R might be available elsewhere,\n",
            "see the ideas at\n",
            "https://cran.r-project.org/doc/manuals/r-patched/R-admin.html#Installing-packages”\n"
          ]
        }
      ]
    },
    {
      "cell_type": "code",
      "metadata": {
        "id": "-oa8TVq5JU1r"
      },
      "source": [
        "##########################################\n",
        "##### Read in the relevant datasets #####\n",
        "##########################################\n",
        "#Read in the peak predictions for motor cortex open chromatin\n",
        "\n",
        "##### Download the matrix of predicted peaks #####\n",
        "\n",
        "peakUrl <- \"https://www.andrew.cmu.edu/user/apfennin/2021_Fall_GEB/project/Corces2020.MSN_D2.calibPeaks.avgCNN.predictions.txt.gz\";\n",
        "system(paste(\"wget \",peakUrl));\n",
        "\n"
      ],
      "execution_count": null,
      "outputs": []
    },
    {
      "cell_type": "code",
      "metadata": {
        "colab": {
          "base_uri": "https://localhost:8080/",
          "height": 326
        },
        "id": "D_oBo96yJW6x",
        "outputId": "ee746861-6b7e-447b-81cf-a71b2b157711"
      },
      "source": [
        "peakPredM <- as.matrix(read.table(file = gzfile(\"Corces2020.MSN_D2.calibPeaks.avgCNN.predictions.txt.gz\"), stringsAsFactors = F, header=T));\n",
        "\n",
        "peaksM <- as.matrix(peakPredM[,c(\"Microcebus_murinus\",\"Propithecus_coquereli\",\"Eulemur_flavifrons\",\"Homo_sapiens\",\"Piliocolobus_tephrosceles\",\"Nomascus_leucogenys\")]);\n",
        "rownames(peaksM) <- peakPredM[,c(\"name\")];\n",
        "peaksM[1:5,]"
      ],
      "execution_count": null,
      "outputs": [
        {
          "output_type": "display_data",
          "data": {
            "text/plain": [
              "                                  Microcebus_murinus Propithecus_coquereli\n",
              "hg38:chr8:42005238-42005738:250   1.421096e-01       9.411927e-02         \n",
              "hg38:chr8:42015658-42016158:250   NA                 NA                   \n",
              "hg38:chr8:42423796-42424296:250   NA                 1.330901e-01         \n",
              "hg38:chr8:42673983-42674483:250   NA                 NA                   \n",
              "hg38:chr3:166595421-166595921:250 2.138929e-02       1.066167e-01         \n",
              "                                  Eulemur_flavifrons Homo_sapiens\n",
              "hg38:chr8:42005238-42005738:250   9.692722e-02       1.865368e-01\n",
              "hg38:chr8:42015658-42016158:250   NA                 6.995182e-01\n",
              "hg38:chr8:42423796-42424296:250   1.066593e-01       6.785862e-01\n",
              "hg38:chr8:42673983-42674483:250   NA                 4.571948e-01\n",
              "hg38:chr3:166595421-166595921:250 1.516077e-01       4.921558e-01\n",
              "                                  Piliocolobus_tephrosceles Nomascus_leucogenys\n",
              "hg38:chr8:42005238-42005738:250   2.314851e-01              0.2020017231       \n",
              "hg38:chr8:42015658-42016158:250   6.897648e-01              0.5755113328       \n",
              "hg38:chr8:42423796-42424296:250   1.097863e-01              NA                 \n",
              "hg38:chr8:42673983-42674483:250   5.018241e-01              0.4375711292       \n",
              "hg38:chr3:166595421-166595921:250 2.548421e-01              0.5422840064       "
            ],
            "text/latex": "A matrix: 5 × 6 of type chr\n\\begin{tabular}{r|llllll}\n  & Microcebus\\_murinus & Propithecus\\_coquereli & Eulemur\\_flavifrons & Homo\\_sapiens & Piliocolobus\\_tephrosceles & Nomascus\\_leucogenys\\\\\n\\hline\n\thg38:chr8:42005238-42005738:250 & 1.421096e-01 & 9.411927e-02 & 9.692722e-02 & 1.865368e-01 & 2.314851e-01 & 0.2020017231\\\\\n\thg38:chr8:42015658-42016158:250 & NA           & NA           & NA           & 6.995182e-01 & 6.897648e-01 & 0.5755113328\\\\\n\thg38:chr8:42423796-42424296:250 & NA           & 1.330901e-01 & 1.066593e-01 & 6.785862e-01 & 1.097863e-01 & NA          \\\\\n\thg38:chr8:42673983-42674483:250 & NA           & NA           & NA           & 4.571948e-01 & 5.018241e-01 & 0.4375711292\\\\\n\thg38:chr3:166595421-166595921:250 & 2.138929e-02 & 1.066167e-01 & 1.516077e-01 & 4.921558e-01 & 2.548421e-01 & 0.5422840064\\\\\n\\end{tabular}\n",
            "text/markdown": "\nA matrix: 5 × 6 of type chr\n\n| <!--/--> | Microcebus_murinus | Propithecus_coquereli | Eulemur_flavifrons | Homo_sapiens | Piliocolobus_tephrosceles | Nomascus_leucogenys |\n|---|---|---|---|---|---|---|\n| hg38:chr8:42005238-42005738:250 | 1.421096e-01 | 9.411927e-02 | 9.692722e-02 | 1.865368e-01 | 2.314851e-01 | 0.2020017231 |\n| hg38:chr8:42015658-42016158:250 | NA           | NA           | NA           | 6.995182e-01 | 6.897648e-01 | 0.5755113328 |\n| hg38:chr8:42423796-42424296:250 | NA           | 1.330901e-01 | 1.066593e-01 | 6.785862e-01 | 1.097863e-01 | NA           |\n| hg38:chr8:42673983-42674483:250 | NA           | NA           | NA           | 4.571948e-01 | 5.018241e-01 | 0.4375711292 |\n| hg38:chr3:166595421-166595921:250 | 2.138929e-02 | 1.066167e-01 | 1.516077e-01 | 4.921558e-01 | 2.548421e-01 | 0.5422840064 |\n\n",
            "text/html": [
              "<table class=\"dataframe\">\n",
              "<caption>A matrix: 5 × 6 of type chr</caption>\n",
              "<thead>\n",
              "\t<tr><th></th><th scope=col>Microcebus_murinus</th><th scope=col>Propithecus_coquereli</th><th scope=col>Eulemur_flavifrons</th><th scope=col>Homo_sapiens</th><th scope=col>Piliocolobus_tephrosceles</th><th scope=col>Nomascus_leucogenys</th></tr>\n",
              "</thead>\n",
              "<tbody>\n",
              "\t<tr><th scope=row>hg38:chr8:42005238-42005738:250</th><td>1.421096e-01</td><td>9.411927e-02</td><td>9.692722e-02</td><td>1.865368e-01</td><td>2.314851e-01</td><td>0.2020017231</td></tr>\n",
              "\t<tr><th scope=row>hg38:chr8:42015658-42016158:250</th><td>NA          </td><td>NA          </td><td>NA          </td><td>6.995182e-01</td><td>6.897648e-01</td><td>0.5755113328</td></tr>\n",
              "\t<tr><th scope=row>hg38:chr8:42423796-42424296:250</th><td>NA          </td><td>1.330901e-01</td><td>1.066593e-01</td><td>6.785862e-01</td><td>1.097863e-01</td><td>NA          </td></tr>\n",
              "\t<tr><th scope=row>hg38:chr8:42673983-42674483:250</th><td>NA          </td><td>NA          </td><td>NA          </td><td>4.571948e-01</td><td>5.018241e-01</td><td>0.4375711292</td></tr>\n",
              "\t<tr><th scope=row>hg38:chr3:166595421-166595921:250</th><td>2.138929e-02</td><td>1.066167e-01</td><td>1.516077e-01</td><td>4.921558e-01</td><td>2.548421e-01</td><td>0.5422840064</td></tr>\n",
              "</tbody>\n",
              "</table>\n"
            ]
          },
          "metadata": {}
        }
      ]
    },
    {
      "cell_type": "code",
      "metadata": {
        "colab": {
          "base_uri": "https://localhost:8080/",
          "height": 334
        },
        "id": "wGFTcqmiJdGo",
        "outputId": "09fa874f-3807-49e6-a5eb-812c109b9a06"
      },
      "source": [
        "# Record trait annotation in HashMap\n",
        "install.packages('hash')\n",
        "library(hash)\n",
        "traitAnnotH = hash()\n",
        "traitAnnotH[[\"Microcebus_murinus\"]] <- 5;\n",
        "traitAnnotH[[\"Propithecus_coquereli\"]] <- 9.15;\n",
        "traitAnnotH[[\"Eulemur_flavifrons\"]] <- 1;\n",
        "traitAnnotH[[\"Homo_sapiens\"]] <- 5.75;\n",
        "traitAnnotH[[\"Piliocolobus_tephrosceles\"]] <- 4;\n",
        "traitAnnotH[[\"Nomascus_leucogenys\"]] <- 8.55\n",
        "\n",
        "# put this in a data frame\n",
        "traitAnnotF = data.frame(species = colnames(peaksM))\n",
        "traitAnnotV = c()\n",
        "for (species in traitAnnotF$species){\n",
        "  traitAnnotV = append(traitAnnotV, traitAnnotH[[species]])\n",
        "}\n",
        "traitAnnotF$traitAnnot = traitAnnotV\n",
        "traitAnnotF"
      ],
      "execution_count": null,
      "outputs": [
        {
          "output_type": "stream",
          "name": "stderr",
          "text": [
            "Installing package into ‘/usr/local/lib/R/site-library’\n",
            "(as ‘lib’ is unspecified)\n",
            "\n"
          ]
        },
        {
          "output_type": "display_data",
          "data": {
            "text/plain": [
              "  species                   traitAnnot\n",
              "1 Microcebus_murinus        5.00      \n",
              "2 Propithecus_coquereli     9.15      \n",
              "3 Eulemur_flavifrons        1.00      \n",
              "4 Homo_sapiens              5.75      \n",
              "5 Piliocolobus_tephrosceles 4.00      \n",
              "6 Nomascus_leucogenys       8.55      "
            ],
            "text/latex": "A data.frame: 6 × 2\n\\begin{tabular}{ll}\n species & traitAnnot\\\\\n <chr> & <dbl>\\\\\n\\hline\n\t Microcebus\\_murinus        & 5.00\\\\\n\t Propithecus\\_coquereli     & 9.15\\\\\n\t Eulemur\\_flavifrons        & 1.00\\\\\n\t Homo\\_sapiens              & 5.75\\\\\n\t Piliocolobus\\_tephrosceles & 4.00\\\\\n\t Nomascus\\_leucogenys       & 8.55\\\\\n\\end{tabular}\n",
            "text/markdown": "\nA data.frame: 6 × 2\n\n| species &lt;chr&gt; | traitAnnot &lt;dbl&gt; |\n|---|---|\n| Microcebus_murinus        | 5.00 |\n| Propithecus_coquereli     | 9.15 |\n| Eulemur_flavifrons        | 1.00 |\n| Homo_sapiens              | 5.75 |\n| Piliocolobus_tephrosceles | 4.00 |\n| Nomascus_leucogenys       | 8.55 |\n\n",
            "text/html": [
              "<table class=\"dataframe\">\n",
              "<caption>A data.frame: 6 × 2</caption>\n",
              "<thead>\n",
              "\t<tr><th scope=col>species</th><th scope=col>traitAnnot</th></tr>\n",
              "\t<tr><th scope=col>&lt;chr&gt;</th><th scope=col>&lt;dbl&gt;</th></tr>\n",
              "</thead>\n",
              "<tbody>\n",
              "\t<tr><td>Microcebus_murinus       </td><td>5.00</td></tr>\n",
              "\t<tr><td>Propithecus_coquereli    </td><td>9.15</td></tr>\n",
              "\t<tr><td>Eulemur_flavifrons       </td><td>1.00</td></tr>\n",
              "\t<tr><td>Homo_sapiens             </td><td>5.75</td></tr>\n",
              "\t<tr><td>Piliocolobus_tephrosceles</td><td>4.00</td></tr>\n",
              "\t<tr><td>Nomascus_leucogenys      </td><td>8.55</td></tr>\n",
              "</tbody>\n",
              "</table>\n"
            ]
          },
          "metadata": {}
        }
      ]
    },
    {
      "cell_type": "markdown",
      "metadata": {
        "id": "HxFwBUmCZbgF"
      },
      "source": [
        "For each cell type, for each region of open chromatin, calculate the difference in open chromatin between/across the species of choice.\n",
        "\n",
        "1. First, you need to calculate a significance value (p-value) that describes the extent to which each region is associated with the trait annotation.\n",
        "2. Second, calculate a value that represents the magnitude and direction of the difference. This includes whether the open chromatin is predicted to be higher or lower when your trait varies. It also includes the extent to which it is different. This can be a difference in means across groups or the correlation between the trait and predicted open chromatin.\n",
        "\n",
        "We used a correlation value between the trait and the predicted open chromatin. Specifically, it is the slope of the fitted linear regression line.\n",
        "\n",
        "3. For each of those two measures (p-value and magnitude/direction) plot a histogram of the distribution of values. What do those histograms tell you about the statistical tests you conduct?\n",
        "\n",
        "There are fewer significant p values than we expect by random chance. This means that there probably is a lot of noise in the data. There are slightly more genes that have expression levels that are positively correlated with social group size than those with expression levels that are negatively correlated with social group size because the middle of the slope histogram is shifted slightly to the right from 0. The same conclusion can be drawn from analyzing both D1 and D2 ATAC-seq data. It could suggest that differential expressions in D1 and D2 in the six chosen species have similar profiles.\n",
        "\n",
        "4. Perform a p-value correction for multiple hypotheses. How many regions are significantly positively or significantly negatively associated at an adjusted p-value of <= 0.1? (It’s OK if there are none, sometimes we are statistically under-powered).\n",
        "\n",
        "None."
      ]
    },
    {
      "cell_type": "code",
      "metadata": {
        "id": "BRLs2KnCJicM"
      },
      "source": [
        "### Linear regression ---> pval ### #FIXME: ask about filtering\n",
        "diffPvaluesV<- rep(NA,length(peaksM[,\"Microcebus_murinus\"]));\n",
        "names(diffPvaluesV) <- row.names(peaksM); \n",
        "diffSlopeV <- diffPvaluesV\n",
        "\n",
        "for(curPeak in row.names(peaksM)){\n",
        "  curRow = as.double(peaksM[curPeak,])\n",
        "  if(length(which(!is.na(curRow))) > 4 && sd(curRow,na.rm=T) > 10e-7) {\n",
        "    newDfForPeak = data.frame(species = colnames(peaksM), POCValue = curRow, traitAnnot = traitAnnotF[\"traitAnnot\"])\n",
        "    lmpeak = lm(traitAnnot~POCValue, data = newDfForPeak)\n",
        "    diffPvaluesV[curPeak] = summary(lmpeak)$coefficients[\"POCValue\", \"Pr(>|t|)\"]\n",
        "    diffSlopeV[curPeak] = summary(lmpeak)$coefficients[\"POCValue\", \"Estimate\"]\n",
        "  }\n",
        "}"
      ],
      "execution_count": null,
      "outputs": []
    },
    {
      "cell_type": "code",
      "metadata": {
        "colab": {
          "base_uri": "https://localhost:8080/",
          "height": 487
        },
        "id": "F7jlGYyzSOPW",
        "outputId": "230c5246-509e-4fe4-d30a-5138642af1b7"
      },
      "source": [
        "diffResultsF <- data.frame(id=row.names(peaksM), slope=diffSlopeV, pvalue=diffPvaluesV, padj = p.adjust(diffPvaluesV))\n",
        "diffResultsSortPadjF <- diffResultsF[order(diffResultsF$padj),]\n",
        "diffResultsSortPvalueF <- diffResultsF[order(diffResultsF$pvalue),]\n",
        "diffResultsSortPadjF[1:5,]\n",
        "diffResultsSortPvalueF[1:5,]"
      ],
      "execution_count": null,
      "outputs": [
        {
          "output_type": "display_data",
          "data": {
            "text/plain": [
              "                                  id                                slope    \n",
              "hg38:chr3:60378238-60378738:250   hg38:chr3:60378238-60378738:250   36.414666\n",
              "hg38:chr8:42005238-42005738:250   hg38:chr8:42005238-42005738:250    4.955904\n",
              "hg38:chr3:166595421-166595921:250 hg38:chr3:166595421-166595921:250  4.310352\n",
              "hg38:chr3:166680958-166681458:250 hg38:chr3:166680958-166681458:250  6.992329\n",
              "hg38:chr3:166695230-166695730:250 hg38:chr3:166695230-166695730:250 21.595149\n",
              "                                  pvalue       padj     \n",
              "hg38:chr3:60378238-60378738:250   8.887571e-06 0.3128691\n",
              "hg38:chr8:42005238-42005738:250   8.599516e-01 1.0000000\n",
              "hg38:chr3:166595421-166595921:250 5.580858e-01 1.0000000\n",
              "hg38:chr3:166680958-166681458:250 7.474380e-02 1.0000000\n",
              "hg38:chr3:166695230-166695730:250 1.057019e-01 1.0000000"
            ],
            "text/latex": "A data.frame: 5 × 4\n\\begin{tabular}{r|llll}\n  & id & slope & pvalue & padj\\\\\n  & <chr> & <dbl> & <dbl> & <dbl>\\\\\n\\hline\n\thg38:chr3:60378238-60378738:250 & hg38:chr3:60378238-60378738:250   & 36.414666 & 8.887571e-06 & 0.3128691\\\\\n\thg38:chr8:42005238-42005738:250 & hg38:chr8:42005238-42005738:250   &  4.955904 & 8.599516e-01 & 1.0000000\\\\\n\thg38:chr3:166595421-166595921:250 & hg38:chr3:166595421-166595921:250 &  4.310352 & 5.580858e-01 & 1.0000000\\\\\n\thg38:chr3:166680958-166681458:250 & hg38:chr3:166680958-166681458:250 &  6.992329 & 7.474380e-02 & 1.0000000\\\\\n\thg38:chr3:166695230-166695730:250 & hg38:chr3:166695230-166695730:250 & 21.595149 & 1.057019e-01 & 1.0000000\\\\\n\\end{tabular}\n",
            "text/markdown": "\nA data.frame: 5 × 4\n\n| <!--/--> | id &lt;chr&gt; | slope &lt;dbl&gt; | pvalue &lt;dbl&gt; | padj &lt;dbl&gt; |\n|---|---|---|---|---|\n| hg38:chr3:60378238-60378738:250 | hg38:chr3:60378238-60378738:250   | 36.414666 | 8.887571e-06 | 0.3128691 |\n| hg38:chr8:42005238-42005738:250 | hg38:chr8:42005238-42005738:250   |  4.955904 | 8.599516e-01 | 1.0000000 |\n| hg38:chr3:166595421-166595921:250 | hg38:chr3:166595421-166595921:250 |  4.310352 | 5.580858e-01 | 1.0000000 |\n| hg38:chr3:166680958-166681458:250 | hg38:chr3:166680958-166681458:250 |  6.992329 | 7.474380e-02 | 1.0000000 |\n| hg38:chr3:166695230-166695730:250 | hg38:chr3:166695230-166695730:250 | 21.595149 | 1.057019e-01 | 1.0000000 |\n\n",
            "text/html": [
              "<table class=\"dataframe\">\n",
              "<caption>A data.frame: 5 × 4</caption>\n",
              "<thead>\n",
              "\t<tr><th></th><th scope=col>id</th><th scope=col>slope</th><th scope=col>pvalue</th><th scope=col>padj</th></tr>\n",
              "\t<tr><th></th><th scope=col>&lt;chr&gt;</th><th scope=col>&lt;dbl&gt;</th><th scope=col>&lt;dbl&gt;</th><th scope=col>&lt;dbl&gt;</th></tr>\n",
              "</thead>\n",
              "<tbody>\n",
              "\t<tr><th scope=row>hg38:chr3:60378238-60378738:250</th><td>hg38:chr3:60378238-60378738:250  </td><td>36.414666</td><td>8.887571e-06</td><td>0.3128691</td></tr>\n",
              "\t<tr><th scope=row>hg38:chr8:42005238-42005738:250</th><td>hg38:chr8:42005238-42005738:250  </td><td> 4.955904</td><td>8.599516e-01</td><td>1.0000000</td></tr>\n",
              "\t<tr><th scope=row>hg38:chr3:166595421-166595921:250</th><td>hg38:chr3:166595421-166595921:250</td><td> 4.310352</td><td>5.580858e-01</td><td>1.0000000</td></tr>\n",
              "\t<tr><th scope=row>hg38:chr3:166680958-166681458:250</th><td>hg38:chr3:166680958-166681458:250</td><td> 6.992329</td><td>7.474380e-02</td><td>1.0000000</td></tr>\n",
              "\t<tr><th scope=row>hg38:chr3:166695230-166695730:250</th><td>hg38:chr3:166695230-166695730:250</td><td>21.595149</td><td>1.057019e-01</td><td>1.0000000</td></tr>\n",
              "</tbody>\n",
              "</table>\n"
            ]
          },
          "metadata": {}
        },
        {
          "output_type": "display_data",
          "data": {
            "text/plain": [
              "                                 id                               slope    \n",
              "hg38:chr3:60378238-60378738:250  hg38:chr3:60378238-60378738:250   36.41467\n",
              "hg38:chr3:1353142-1353642:250    hg38:chr3:1353142-1353642:250     13.48541\n",
              "hg38:chr12:98947056-98947556:250 hg38:chr12:98947056-98947556:250 -89.22591\n",
              "hg38:chr3:94181320-94181820:250  hg38:chr3:94181320-94181820:250   37.43561\n",
              "hg38:chr1:36982348-36982848:250  hg38:chr1:36982348-36982848:250  -60.58927\n",
              "                                 pvalue       padj     \n",
              "hg38:chr3:60378238-60378738:250  8.887571e-06 0.3128691\n",
              "hg38:chr3:1353142-1353642:250    3.665687e-05 1.0000000\n",
              "hg38:chr12:98947056-98947556:250 3.763250e-04 1.0000000\n",
              "hg38:chr3:94181320-94181820:250  5.371856e-04 1.0000000\n",
              "hg38:chr1:36982348-36982848:250  5.601905e-04 1.0000000"
            ],
            "text/latex": "A data.frame: 5 × 4\n\\begin{tabular}{r|llll}\n  & id & slope & pvalue & padj\\\\\n  & <chr> & <dbl> & <dbl> & <dbl>\\\\\n\\hline\n\thg38:chr3:60378238-60378738:250 & hg38:chr3:60378238-60378738:250  &  36.41467 & 8.887571e-06 & 0.3128691\\\\\n\thg38:chr3:1353142-1353642:250 & hg38:chr3:1353142-1353642:250    &  13.48541 & 3.665687e-05 & 1.0000000\\\\\n\thg38:chr12:98947056-98947556:250 & hg38:chr12:98947056-98947556:250 & -89.22591 & 3.763250e-04 & 1.0000000\\\\\n\thg38:chr3:94181320-94181820:250 & hg38:chr3:94181320-94181820:250  &  37.43561 & 5.371856e-04 & 1.0000000\\\\\n\thg38:chr1:36982348-36982848:250 & hg38:chr1:36982348-36982848:250  & -60.58927 & 5.601905e-04 & 1.0000000\\\\\n\\end{tabular}\n",
            "text/markdown": "\nA data.frame: 5 × 4\n\n| <!--/--> | id &lt;chr&gt; | slope &lt;dbl&gt; | pvalue &lt;dbl&gt; | padj &lt;dbl&gt; |\n|---|---|---|---|---|\n| hg38:chr3:60378238-60378738:250 | hg38:chr3:60378238-60378738:250  |  36.41467 | 8.887571e-06 | 0.3128691 |\n| hg38:chr3:1353142-1353642:250 | hg38:chr3:1353142-1353642:250    |  13.48541 | 3.665687e-05 | 1.0000000 |\n| hg38:chr12:98947056-98947556:250 | hg38:chr12:98947056-98947556:250 | -89.22591 | 3.763250e-04 | 1.0000000 |\n| hg38:chr3:94181320-94181820:250 | hg38:chr3:94181320-94181820:250  |  37.43561 | 5.371856e-04 | 1.0000000 |\n| hg38:chr1:36982348-36982848:250 | hg38:chr1:36982348-36982848:250  | -60.58927 | 5.601905e-04 | 1.0000000 |\n\n",
            "text/html": [
              "<table class=\"dataframe\">\n",
              "<caption>A data.frame: 5 × 4</caption>\n",
              "<thead>\n",
              "\t<tr><th></th><th scope=col>id</th><th scope=col>slope</th><th scope=col>pvalue</th><th scope=col>padj</th></tr>\n",
              "\t<tr><th></th><th scope=col>&lt;chr&gt;</th><th scope=col>&lt;dbl&gt;</th><th scope=col>&lt;dbl&gt;</th><th scope=col>&lt;dbl&gt;</th></tr>\n",
              "</thead>\n",
              "<tbody>\n",
              "\t<tr><th scope=row>hg38:chr3:60378238-60378738:250</th><td>hg38:chr3:60378238-60378738:250 </td><td> 36.41467</td><td>8.887571e-06</td><td>0.3128691</td></tr>\n",
              "\t<tr><th scope=row>hg38:chr3:1353142-1353642:250</th><td>hg38:chr3:1353142-1353642:250   </td><td> 13.48541</td><td>3.665687e-05</td><td>1.0000000</td></tr>\n",
              "\t<tr><th scope=row>hg38:chr12:98947056-98947556:250</th><td>hg38:chr12:98947056-98947556:250</td><td>-89.22591</td><td>3.763250e-04</td><td>1.0000000</td></tr>\n",
              "\t<tr><th scope=row>hg38:chr3:94181320-94181820:250</th><td>hg38:chr3:94181320-94181820:250 </td><td> 37.43561</td><td>5.371856e-04</td><td>1.0000000</td></tr>\n",
              "\t<tr><th scope=row>hg38:chr1:36982348-36982848:250</th><td>hg38:chr1:36982348-36982848:250 </td><td>-60.58927</td><td>5.601905e-04</td><td>1.0000000</td></tr>\n",
              "</tbody>\n",
              "</table>\n"
            ]
          },
          "metadata": {}
        }
      ]
    },
    {
      "cell_type": "code",
      "metadata": {
        "id": "YN1Jl1HLJkno"
      },
      "source": [
        ""
      ],
      "execution_count": null,
      "outputs": []
    },
    {
      "cell_type": "code",
      "metadata": {
        "colab": {
          "base_uri": "https://localhost:8080/",
          "height": 857
        },
        "id": "oRZ1Iug3JoyP",
        "outputId": "f5f6cedc-6c94-4eb2-f25e-8f70c2da6789"
      },
      "source": [
        "ggplot(diffResultsF, aes(slope)) + geom_histogram(na.rm = TRUE, bins = 50) + xlim(-50, 50)\n",
        "ggplot(diffResultsF, aes(pvalue)) + geom_histogram(na.rm = TRUE, bins = 50)"
      ],
      "execution_count": null,
      "outputs": [
        {
          "output_type": "display_data",
          "data": {
            "image/png": "[encoded data removed]",
            "text/plain": [
              "plot without title"
            ]
          },
          "metadata": {
            "image/png": {
              "width": 420,
              "height": 420
            }
          }
        },
        {
          "output_type": "display_data",
          "data": {
            "image/png": "[encoded data removed]",
            "text/plain": [
              "plot without title"
            ]
          },
          "metadata": {
            "image/png": {
              "width": 420,
              "height": 420
            }
          }
        }
      ]
    },
    {
      "cell_type": "markdown",
      "metadata": {
        "id": "3RoBAPg7sSS2"
      },
      "source": [
        "For each cell type, find the peak that is most positively and most negatively associated with the trait (based on un-adjusted p-value).\n",
        "\n",
        "1. Create a barplot or scatter plot for those peak that show its association with the trait.\n",
        "\n",
        "2. Visualize those peaks in the UCSC browser to find the some of the nearby genes. For each of those peaks, perform a literature search using pubmed for one of the nearby genes. What is the function of that gene and does it relate at all to the trait you are studying?\n",
        "\n",
        "a. The peak that is most positively associated with the trait is in an intronic region of FHIT. FHIT participates in purine metabolism and is a tumor suppressor (https://www.ncbi.nlm.nih.gov/gene/2272). It has also been reported that FHIT deletion is found in a pediatric patient diagnosed with autism specturm disorders (https://www.karger.com/Article/FullText/512171). Regression of normal language and social skills started when the patient was 2 years old. Given the association between FHIT and social skills impairment, it is possible that FHIT plays a role in social behaviors, and hence contributes to social group size.\n",
        "\n",
        "b. The peak that is most negatively associated with the trait is in an intron of ANKS1B. The protein ANKS1B encodes interacts with amyloid beta precursor protein and is implicated to play a role in schizophrenia, mood-disorders, obsessive-compulsive disorder, ADHD, autism spectrum disorders (ASD), and speech and motor deficits (https://www.nature.com/articles/s41467-019-11437-w). This suggests that ANKS1B is important for a wide range of neurodevelopmental processes. Because an abnormal copy number of ANKS1B is associated with ASD, which is characterized by social skills deficits, ANKS1B plays a role in social behaviors. Therefore, it may affect social group size. However, because it affects diverse neurological processes, even if it does affect social group size, the effect may not be specific or direct.\n"
      ]
    },
    {
      "cell_type": "code",
      "metadata": {
        "id": "6hxmk424JvSb"
      },
      "source": [
        "mostPosPeak = \"hg38:chr3:60378238-60378738:250\"\n",
        "mostNegPeak = \"hg38:chr12:98947056-98947556:250\"\n",
        "\n",
        "\n",
        " # set na to 0\n",
        "mostPosAndNegPeaksF <- data.frame(PosPeak = as.double(peaksM[which(row.names(peaksM) == mostPosPeak),]),\n",
        "                    NegPeak = as.double(peaksM[which(row.names(peaksM) == mostNegPeak),]))\n",
        "mostPosAndNegPeaksF[is.na(mostPosAndNegPeaksF)] = 0\n",
        "mostPosAndNegPeaksF$species = colnames(peaksM)\n",
        "mostPosAndNegPeaksF <- merge(mostPosAndNegPeaksF,traitAnnotF,by=\"species\")"
      ],
      "execution_count": null,
      "outputs": []
    },
    {
      "cell_type": "code",
      "metadata": {
        "colab": {
          "base_uri": "https://localhost:8080/",
          "height": 857
        },
        "id": "VVuw9fO3U4RU",
        "outputId": "1a87c5e1-df8f-4eab-bdf0-e501cc7fae1a"
      },
      "source": [
        "ggplot(data = mostPosAndNegPeaksF, aes(x = traitAnnot, y = PosPeak)) + geom_point() + ggtitle(\"Predicted Open Chromatin Level vs Social Group Size \\n positive correlation with the lowest unadjusted p value\") +\n",
        "  xlab(\"Social Group Size\") + ylab(\"POC level\")\n",
        "ggplot(data= mostPosAndNegPeaksF, aes(x = traitAnnot, y = NegPeak)) + geom_point() + ggtitle(\"Predicted Open Chromatin Level vs Social Group Size \\n negative correlation with the lowest unadjusted p value\") +\n",
        "  xlab(\"Social Group Size\") + ylab(\"POC level\")"
      ],
      "execution_count": null,
      "outputs": [
        {
          "output_type": "display_data",
          "data": {
            "image/png": "[encoded data removed]",
            "text/plain": [
              "plot without title"
            ]
          },
          "metadata": {
            "image/png": {
              "width": 420,
              "height": 420
            }
          }
        },
        {
          "output_type": "display_data",
          "data": {
            "image/png": "[encoded data removed]",
            "text/plain": [
              "plot without title"
            ]
          },
          "metadata": {
            "image/png": {
              "width": 420,
              "height": 420
            }
          }
        }
      ]
    },
    {
      "cell_type": "code",
      "metadata": {
        "colab": {
          "base_uri": "https://localhost:8080/",
          "height": 283
        },
        "id": "u_CrMqrUVM6l",
        "outputId": "8ab0266c-8575-47dc-9ac6-c53f3613f4f9"
      },
      "source": [
        "mostPosAndNegPeaksF"
      ],
      "execution_count": null,
      "outputs": [
        {
          "output_type": "display_data",
          "data": {
            "text/plain": [
              "  species                   PosPeak   NegPeak    traitAnnot\n",
              "1 Eulemur_flavifrons        0.1001606 0.11855050 1.00      \n",
              "2 Homo_sapiens              0.2420894 0.06220019 5.75      \n",
              "3 Microcebus_murinus        0.2193812 0.06931578 5.00      \n",
              "4 Nomascus_leucogenys       0.3048958 0.04301258 8.55      \n",
              "5 Piliocolobus_tephrosceles 0.1822504 0.07801615 4.00      \n",
              "6 Propithecus_coquereli     0.3252534 0.02053840 9.15      "
            ],
            "text/latex": "A data.frame: 6 × 4\n\\begin{tabular}{llll}\n species & PosPeak & NegPeak & traitAnnot\\\\\n <chr> & <dbl> & <dbl> & <dbl>\\\\\n\\hline\n\t Eulemur\\_flavifrons        & 0.1001606 & 0.11855050 & 1.00\\\\\n\t Homo\\_sapiens              & 0.2420894 & 0.06220019 & 5.75\\\\\n\t Microcebus\\_murinus        & 0.2193812 & 0.06931578 & 5.00\\\\\n\t Nomascus\\_leucogenys       & 0.3048958 & 0.04301258 & 8.55\\\\\n\t Piliocolobus\\_tephrosceles & 0.1822504 & 0.07801615 & 4.00\\\\\n\t Propithecus\\_coquereli     & 0.3252534 & 0.02053840 & 9.15\\\\\n\\end{tabular}\n",
            "text/markdown": "\nA data.frame: 6 × 4\n\n| species &lt;chr&gt; | PosPeak &lt;dbl&gt; | NegPeak &lt;dbl&gt; | traitAnnot &lt;dbl&gt; |\n|---|---|---|---|\n| Eulemur_flavifrons        | 0.1001606 | 0.11855050 | 1.00 |\n| Homo_sapiens              | 0.2420894 | 0.06220019 | 5.75 |\n| Microcebus_murinus        | 0.2193812 | 0.06931578 | 5.00 |\n| Nomascus_leucogenys       | 0.3048958 | 0.04301258 | 8.55 |\n| Piliocolobus_tephrosceles | 0.1822504 | 0.07801615 | 4.00 |\n| Propithecus_coquereli     | 0.3252534 | 0.02053840 | 9.15 |\n\n",
            "text/html": [
              "<table class=\"dataframe\">\n",
              "<caption>A data.frame: 6 × 4</caption>\n",
              "<thead>\n",
              "\t<tr><th scope=col>species</th><th scope=col>PosPeak</th><th scope=col>NegPeak</th><th scope=col>traitAnnot</th></tr>\n",
              "\t<tr><th scope=col>&lt;chr&gt;</th><th scope=col>&lt;dbl&gt;</th><th scope=col>&lt;dbl&gt;</th><th scope=col>&lt;dbl&gt;</th></tr>\n",
              "</thead>\n",
              "<tbody>\n",
              "\t<tr><td>Eulemur_flavifrons       </td><td>0.1001606</td><td>0.11855050</td><td>1.00</td></tr>\n",
              "\t<tr><td>Homo_sapiens             </td><td>0.2420894</td><td>0.06220019</td><td>5.75</td></tr>\n",
              "\t<tr><td>Microcebus_murinus       </td><td>0.2193812</td><td>0.06931578</td><td>5.00</td></tr>\n",
              "\t<tr><td>Nomascus_leucogenys      </td><td>0.3048958</td><td>0.04301258</td><td>8.55</td></tr>\n",
              "\t<tr><td>Piliocolobus_tephrosceles</td><td>0.1822504</td><td>0.07801615</td><td>4.00</td></tr>\n",
              "\t<tr><td>Propithecus_coquereli    </td><td>0.3252534</td><td>0.02053840</td><td>9.15</td></tr>\n",
              "</tbody>\n",
              "</table>\n"
            ]
          },
          "metadata": {}
        }
      ]
    },
    {
      "cell_type": "code",
      "metadata": {
        "id": "ntK9D82hVON9",
        "colab": {
          "base_uri": "https://localhost:8080/",
          "height": 1000
        },
        "outputId": "da0dec4a-b0cd-4206-9381-6f5a214f58e7"
      },
      "source": [
        "slope_bottom = diffResultsSortPvalueF[diffResultsSortPvalueF$slope<0,] # negatively correlated\n",
        "bottom_200_slope = slope_bottom[1:200,]\n",
        "\n",
        "slope_top = diffResultsSortPvalueF[diffResultsSortPvalueF$slope>0,] # positively correlated\n",
        "top_200_slope = slope_top[1:200,]\n",
        "\n",
        "write.table(bottom_200_slope,file=\"slope_bottomD2.txt\",quote=F,sep=\"\\t\",row.names=F,col.names=F);\n",
        "write.table(top_200_slope,file=\"slope_topD2.txt\",quote=F,sep=\"\\t\",row.names=F,col.names=F);\n",
        "write.table(peakPredM,file=\"all_peaksD2.txt\",quote=F,sep=\"\\t\",row.names=F,col.names=F);\n",
        "top_200_slope"
      ],
      "execution_count": null,
      "outputs": [
        {
          "output_type": "display_data",
          "data": {
            "text/plain": [
              "                                   id                                \n",
              "hg38:chr3:60378238-60378738:250    hg38:chr3:60378238-60378738:250   \n",
              "hg38:chr3:1353142-1353642:250      hg38:chr3:1353142-1353642:250     \n",
              "hg38:chr3:94181320-94181820:250    hg38:chr3:94181320-94181820:250   \n",
              "hg38:chr16:18728545-18729045:250   hg38:chr16:18728545-18729045:250  \n",
              "hg38:chr2:62138999-62139499:250    hg38:chr2:62138999-62139499:250   \n",
              "hg38:chr22:27767410-27767910:250   hg38:chr22:27767410-27767910:250  \n",
              "hg38:chr2:45790215-45790715:250    hg38:chr2:45790215-45790715:250   \n",
              "hg38:chr5:167694138-167694638:250  hg38:chr5:167694138-167694638:250 \n",
              "hg38:chr3:43995564-43996064:250    hg38:chr3:43995564-43996064:250   \n",
              "hg38:chr3:114122003-114122503:250  hg38:chr3:114122003-114122503:250 \n",
              "hg38:chr4:31675198-31675698:250    hg38:chr4:31675198-31675698:250   \n",
              "hg38:chr8:50025687-50026187:250    hg38:chr8:50025687-50026187:250   \n",
              "hg38:chr2:122516829-122517329:250  hg38:chr2:122516829-122517329:250 \n",
              "hg38:chr10:101956843-101957343:250 hg38:chr10:101956843-101957343:250\n",
              "hg38:chr7:86304108-86304608:250    hg38:chr7:86304108-86304608:250   \n",
              "hg38:chr12:99006707-99007207:250   hg38:chr12:99006707-99007207:250  \n",
              "hg38:chr5:14268208-14268708:250    hg38:chr5:14268208-14268708:250   \n",
              "hg38:chr14:96085996-96086496:250   hg38:chr14:96085996-96086496:250  \n",
              "hg38:chrX:93522787-93523287:250    hg38:chrX:93522787-93523287:250   \n",
              "hg38:chr1:198909884-198910384:250  hg38:chr1:198909884-198910384:250 \n",
              "hg38:chr14:51138362-51138862:250   hg38:chr14:51138362-51138862:250  \n",
              "hg38:chr11:73242541-73243041:250   hg38:chr11:73242541-73243041:250  \n",
              "hg38:chr10:9024204-9024704:250     hg38:chr10:9024204-9024704:250    \n",
              "hg38:chr3:76440497-76440997:250    hg38:chr3:76440497-76440997:250   \n",
              "hg38:chr15:93811003-93811503:250   hg38:chr15:93811003-93811503:250  \n",
              "hg38:chr13:76803822-76804322:250   hg38:chr13:76803822-76804322:250  \n",
              "hg38:chr7:54995825-54996325:250    hg38:chr7:54995825-54996325:250   \n",
              "hg38:chr8:92502977-92503477:250    hg38:chr8:92502977-92503477:250   \n",
              "hg38:chr6:13444949-13445449:250    hg38:chr6:13444949-13445449:250   \n",
              "hg38:chr14:79160380-79160880:250   hg38:chr14:79160380-79160880:250  \n",
              "⋮                                  ⋮                                 \n",
              "hg38:chr2:99710601-99711101:250    hg38:chr2:99710601-99711101:250   \n",
              "hg38:chr4:22104618-22105118:250    hg38:chr4:22104618-22105118:250   \n",
              "hg38:chr1:82162831-82163331:250    hg38:chr1:82162831-82163331:250   \n",
              "hg38:chr11:28010018-28010518:250   hg38:chr11:28010018-28010518:250  \n",
              "hg38:chr9:24692933-24693433:250    hg38:chr9:24692933-24693433:250   \n",
              "hg38:chr2:180663270-180663770:250  hg38:chr2:180663270-180663770:250 \n",
              "hg38:chr11:92569585-92570085:250   hg38:chr11:92569585-92570085:250  \n",
              "hg38:chr22:32985986-32986486:250   hg38:chr22:32985986-32986486:250  \n",
              "hg38:chr4:139735704-139736204:250  hg38:chr4:139735704-139736204:250 \n",
              "hg38:chr8:50721243-50721743:250    hg38:chr8:50721243-50721743:250   \n",
              "hg38:chr18:64183581-64184081:250   hg38:chr18:64183581-64184081:250  \n",
              "hg38:chr1:162292510-162293010:250  hg38:chr1:162292510-162293010:250 \n",
              "hg38:chr7:41200942-41201442:250    hg38:chr7:41200942-41201442:250   \n",
              "hg38:chr3:54483786-54484286:250    hg38:chr3:54483786-54484286:250   \n",
              "hg38:chr2:168043540-168044040:250  hg38:chr2:168043540-168044040:250 \n",
              "hg38:chr4:101026463-101026963:250  hg38:chr4:101026463-101026963:250 \n",
              "hg38:chr22:35458434-35458934:250   hg38:chr22:35458434-35458934:250  \n",
              "hg38:chr3:45436866-45437366:250    hg38:chr3:45436866-45437366:250   \n",
              "hg38:chr5:120055815-120056315:250  hg38:chr5:120055815-120056315:250 \n",
              "hg38:chr2:167293845-167294345:250  hg38:chr2:167293845-167294345:250 \n",
              "hg38:chr6:139519390-139519890:250  hg38:chr6:139519390-139519890:250 \n",
              "hg38:chr5:122181130-122181630:250  hg38:chr5:122181130-122181630:250 \n",
              "hg38:chr14:38721779-38722279:250   hg38:chr14:38721779-38722279:250  \n",
              "hg38:chr15:43954979-43955479:250   hg38:chr15:43954979-43955479:250  \n",
              "hg38:chr11:22778451-22778951:250   hg38:chr11:22778451-22778951:250  \n",
              "hg38:chr7:49519822-49520322:250    hg38:chr7:49519822-49520322:250   \n",
              "hg38:chr11:30855308-30855808:250   hg38:chr11:30855308-30855808:250  \n",
              "hg38:chr3:123359309-123359809:250  hg38:chr3:123359309-123359809:250 \n",
              "hg38:chr14:65751900-65752400:250   hg38:chr14:65751900-65752400:250  \n",
              "hg38:chr6:69585151-69585651:250    hg38:chr6:69585151-69585651:250   \n",
              "                                   slope      pvalue       padj     \n",
              "hg38:chr3:60378238-60378738:250     36.41467  8.887571e-06 0.3128691\n",
              "hg38:chr3:1353142-1353642:250       13.48541  3.665687e-05 1.0000000\n",
              "hg38:chr3:94181320-94181820:250     37.43561  5.371856e-04 1.0000000\n",
              "hg38:chr16:18728545-18729045:250    18.97691  6.410832e-04 1.0000000\n",
              "hg38:chr2:62138999-62139499:250     39.46235  6.920866e-04 1.0000000\n",
              "hg38:chr22:27767410-27767910:250   188.23436  8.308651e-04 1.0000000\n",
              "hg38:chr2:45790215-45790715:250     33.35734  8.736068e-04 1.0000000\n",
              "hg38:chr5:167694138-167694638:250   16.72516  9.655009e-04 1.0000000\n",
              "hg38:chr3:43995564-43996064:250     21.27237  1.180151e-03 1.0000000\n",
              "hg38:chr3:114122003-114122503:250   41.49074  1.427165e-03 1.0000000\n",
              "hg38:chr4:31675198-31675698:250     19.45961  1.565895e-03 1.0000000\n",
              "hg38:chr8:50025687-50026187:250     59.62602  1.693562e-03 1.0000000\n",
              "hg38:chr2:122516829-122517329:250   27.72054  1.979419e-03 1.0000000\n",
              "hg38:chr10:101956843-101957343:250  10.20188  1.991933e-03 1.0000000\n",
              "hg38:chr7:86304108-86304608:250     27.05006  2.005148e-03 1.0000000\n",
              "hg38:chr12:99006707-99007207:250    22.05185  2.463835e-03 1.0000000\n",
              "hg38:chr5:14268208-14268708:250     25.48250  2.840827e-03 1.0000000\n",
              "hg38:chr14:96085996-96086496:250    10.59164  3.272463e-03 1.0000000\n",
              "hg38:chrX:93522787-93523287:250     31.97462  3.398549e-03 1.0000000\n",
              "hg38:chr1:198909884-198910384:250   23.24242  3.487950e-03 1.0000000\n",
              "hg38:chr14:51138362-51138862:250   103.48350  3.546055e-03 1.0000000\n",
              "hg38:chr11:73242541-73243041:250    37.63331  3.552307e-03 1.0000000\n",
              "hg38:chr10:9024204-9024704:250     100.88595  3.601416e-03 1.0000000\n",
              "hg38:chr3:76440497-76440997:250     92.15027  3.914115e-03 1.0000000\n",
              "hg38:chr15:93811003-93811503:250    16.08022  4.013784e-03 1.0000000\n",
              "hg38:chr13:76803822-76804322:250    15.13541  4.209845e-03 1.0000000\n",
              "hg38:chr7:54995825-54996325:250     16.57532  4.294144e-03 1.0000000\n",
              "hg38:chr8:92502977-92503477:250     11.86834  4.555211e-03 1.0000000\n",
              "hg38:chr6:13444949-13445449:250     26.50074  4.962966e-03 1.0000000\n",
              "hg38:chr14:79160380-79160880:250    76.00575  5.144982e-03 1.0000000\n",
              "⋮                                  ⋮          ⋮            ⋮        \n",
              "hg38:chr2:99710601-99711101:250     17.072726 0.02339020   1        \n",
              "hg38:chr4:22104618-22105118:250     22.528026 0.02386780   1        \n",
              "hg38:chr1:82162831-82163331:250     27.193267 0.02401207   1        \n",
              "hg38:chr11:28010018-28010518:250    47.811548 0.02412413   1        \n",
              "hg38:chr9:24692933-24693433:250     59.100195 0.02434446   1        \n",
              "hg38:chr2:180663270-180663770:250   27.782480 0.02449451   1        \n",
              "hg38:chr11:92569585-92570085:250    57.213489 0.02452763   1        \n",
              "hg38:chr22:32985986-32986486:250    14.841147 0.02453621   1        \n",
              "hg38:chr4:139735704-139736204:250   19.297123 0.02466329   1        \n",
              "hg38:chr8:50721243-50721743:250     40.498671 0.02473039   1        \n",
              "hg38:chr18:64183581-64184081:250    33.998296 0.02475194   1        \n",
              "hg38:chr1:162292510-162293010:250    9.463833 0.02490371   1        \n",
              "hg38:chr7:41200942-41201442:250    556.902279 0.02491857   1        \n",
              "hg38:chr3:54483786-54484286:250     22.095907 0.02498405   1        \n",
              "hg38:chr2:168043540-168044040:250   19.232833 0.02530846   1        \n",
              "hg38:chr4:101026463-101026963:250   68.632755 0.02555471   1        \n",
              "hg38:chr22:35458434-35458934:250    38.525732 0.02569510   1        \n",
              "hg38:chr3:45436866-45437366:250     20.357520 0.02574804   1        \n",
              "hg38:chr5:120055815-120056315:250   21.804466 0.02590016   1        \n",
              "hg38:chr2:167293845-167294345:250   73.704492 0.02626973   1        \n",
              "hg38:chr6:139519390-139519890:250   14.870638 0.02643484   1        \n",
              "hg38:chr5:122181130-122181630:250   25.698999 0.02646294   1        \n",
              "hg38:chr14:38721779-38722279:250    16.003524 0.02650478   1        \n",
              "hg38:chr15:43954979-43955479:250   409.988753 0.02701411   1        \n",
              "hg38:chr11:22778451-22778951:250    10.640636 0.02716008   1        \n",
              "hg38:chr7:49519822-49520322:250     20.706966 0.02732133   1        \n",
              "hg38:chr11:30855308-30855808:250    34.822482 0.02776834   1        \n",
              "hg38:chr3:123359309-123359809:250   32.905519 0.02780116   1        \n",
              "hg38:chr14:65751900-65752400:250    11.155641 0.02782023   1        \n",
              "hg38:chr6:69585151-69585651:250     65.768543 0.02802022   1        "
            ],
            "text/latex": "A data.frame: 200 × 4\n\\begin{tabular}{r|llll}\n  & id & slope & pvalue & padj\\\\\n  & <chr> & <dbl> & <dbl> & <dbl>\\\\\n\\hline\n\thg38:chr3:60378238-60378738:250 & hg38:chr3:60378238-60378738:250    &  36.41467 & 8.887571e-06 & 0.3128691\\\\\n\thg38:chr3:1353142-1353642:250 & hg38:chr3:1353142-1353642:250      &  13.48541 & 3.665687e-05 & 1.0000000\\\\\n\thg38:chr3:94181320-94181820:250 & hg38:chr3:94181320-94181820:250    &  37.43561 & 5.371856e-04 & 1.0000000\\\\\n\thg38:chr16:18728545-18729045:250 & hg38:chr16:18728545-18729045:250   &  18.97691 & 6.410832e-04 & 1.0000000\\\\\n\thg38:chr2:62138999-62139499:250 & hg38:chr2:62138999-62139499:250    &  39.46235 & 6.920866e-04 & 1.0000000\\\\\n\thg38:chr22:27767410-27767910:250 & hg38:chr22:27767410-27767910:250   & 188.23436 & 8.308651e-04 & 1.0000000\\\\\n\thg38:chr2:45790215-45790715:250 & hg38:chr2:45790215-45790715:250    &  33.35734 & 8.736068e-04 & 1.0000000\\\\\n\thg38:chr5:167694138-167694638:250 & hg38:chr5:167694138-167694638:250  &  16.72516 & 9.655009e-04 & 1.0000000\\\\\n\thg38:chr3:43995564-43996064:250 & hg38:chr3:43995564-43996064:250    &  21.27237 & 1.180151e-03 & 1.0000000\\\\\n\thg38:chr3:114122003-114122503:250 & hg38:chr3:114122003-114122503:250  &  41.49074 & 1.427165e-03 & 1.0000000\\\\\n\thg38:chr4:31675198-31675698:250 & hg38:chr4:31675198-31675698:250    &  19.45961 & 1.565895e-03 & 1.0000000\\\\\n\thg38:chr8:50025687-50026187:250 & hg38:chr8:50025687-50026187:250    &  59.62602 & 1.693562e-03 & 1.0000000\\\\\n\thg38:chr2:122516829-122517329:250 & hg38:chr2:122516829-122517329:250  &  27.72054 & 1.979419e-03 & 1.0000000\\\\\n\thg38:chr10:101956843-101957343:250 & hg38:chr10:101956843-101957343:250 &  10.20188 & 1.991933e-03 & 1.0000000\\\\\n\thg38:chr7:86304108-86304608:250 & hg38:chr7:86304108-86304608:250    &  27.05006 & 2.005148e-03 & 1.0000000\\\\\n\thg38:chr12:99006707-99007207:250 & hg38:chr12:99006707-99007207:250   &  22.05185 & 2.463835e-03 & 1.0000000\\\\\n\thg38:chr5:14268208-14268708:250 & hg38:chr5:14268208-14268708:250    &  25.48250 & 2.840827e-03 & 1.0000000\\\\\n\thg38:chr14:96085996-96086496:250 & hg38:chr14:96085996-96086496:250   &  10.59164 & 3.272463e-03 & 1.0000000\\\\\n\thg38:chrX:93522787-93523287:250 & hg38:chrX:93522787-93523287:250    &  31.97462 & 3.398549e-03 & 1.0000000\\\\\n\thg38:chr1:198909884-198910384:250 & hg38:chr1:198909884-198910384:250  &  23.24242 & 3.487950e-03 & 1.0000000\\\\\n\thg38:chr14:51138362-51138862:250 & hg38:chr14:51138362-51138862:250   & 103.48350 & 3.546055e-03 & 1.0000000\\\\\n\thg38:chr11:73242541-73243041:250 & hg38:chr11:73242541-73243041:250   &  37.63331 & 3.552307e-03 & 1.0000000\\\\\n\thg38:chr10:9024204-9024704:250 & hg38:chr10:9024204-9024704:250     & 100.88595 & 3.601416e-03 & 1.0000000\\\\\n\thg38:chr3:76440497-76440997:250 & hg38:chr3:76440497-76440997:250    &  92.15027 & 3.914115e-03 & 1.0000000\\\\\n\thg38:chr15:93811003-93811503:250 & hg38:chr15:93811003-93811503:250   &  16.08022 & 4.013784e-03 & 1.0000000\\\\\n\thg38:chr13:76803822-76804322:250 & hg38:chr13:76803822-76804322:250   &  15.13541 & 4.209845e-03 & 1.0000000\\\\\n\thg38:chr7:54995825-54996325:250 & hg38:chr7:54995825-54996325:250    &  16.57532 & 4.294144e-03 & 1.0000000\\\\\n\thg38:chr8:92502977-92503477:250 & hg38:chr8:92502977-92503477:250    &  11.86834 & 4.555211e-03 & 1.0000000\\\\\n\thg38:chr6:13444949-13445449:250 & hg38:chr6:13444949-13445449:250    &  26.50074 & 4.962966e-03 & 1.0000000\\\\\n\thg38:chr14:79160380-79160880:250 & hg38:chr14:79160380-79160880:250   &  76.00575 & 5.144982e-03 & 1.0000000\\\\\n\t⋮ & ⋮ & ⋮ & ⋮ & ⋮\\\\\n\thg38:chr2:99710601-99711101:250 & hg38:chr2:99710601-99711101:250   &  17.072726 & 0.02339020 & 1\\\\\n\thg38:chr4:22104618-22105118:250 & hg38:chr4:22104618-22105118:250   &  22.528026 & 0.02386780 & 1\\\\\n\thg38:chr1:82162831-82163331:250 & hg38:chr1:82162831-82163331:250   &  27.193267 & 0.02401207 & 1\\\\\n\thg38:chr11:28010018-28010518:250 & hg38:chr11:28010018-28010518:250  &  47.811548 & 0.02412413 & 1\\\\\n\thg38:chr9:24692933-24693433:250 & hg38:chr9:24692933-24693433:250   &  59.100195 & 0.02434446 & 1\\\\\n\thg38:chr2:180663270-180663770:250 & hg38:chr2:180663270-180663770:250 &  27.782480 & 0.02449451 & 1\\\\\n\thg38:chr11:92569585-92570085:250 & hg38:chr11:92569585-92570085:250  &  57.213489 & 0.02452763 & 1\\\\\n\thg38:chr22:32985986-32986486:250 & hg38:chr22:32985986-32986486:250  &  14.841147 & 0.02453621 & 1\\\\\n\thg38:chr4:139735704-139736204:250 & hg38:chr4:139735704-139736204:250 &  19.297123 & 0.02466329 & 1\\\\\n\thg38:chr8:50721243-50721743:250 & hg38:chr8:50721243-50721743:250   &  40.498671 & 0.02473039 & 1\\\\\n\thg38:chr18:64183581-64184081:250 & hg38:chr18:64183581-64184081:250  &  33.998296 & 0.02475194 & 1\\\\\n\thg38:chr1:162292510-162293010:250 & hg38:chr1:162292510-162293010:250 &   9.463833 & 0.02490371 & 1\\\\\n\thg38:chr7:41200942-41201442:250 & hg38:chr7:41200942-41201442:250   & 556.902279 & 0.02491857 & 1\\\\\n\thg38:chr3:54483786-54484286:250 & hg38:chr3:54483786-54484286:250   &  22.095907 & 0.02498405 & 1\\\\\n\thg38:chr2:168043540-168044040:250 & hg38:chr2:168043540-168044040:250 &  19.232833 & 0.02530846 & 1\\\\\n\thg38:chr4:101026463-101026963:250 & hg38:chr4:101026463-101026963:250 &  68.632755 & 0.02555471 & 1\\\\\n\thg38:chr22:35458434-35458934:250 & hg38:chr22:35458434-35458934:250  &  38.525732 & 0.02569510 & 1\\\\\n\thg38:chr3:45436866-45437366:250 & hg38:chr3:45436866-45437366:250   &  20.357520 & 0.02574804 & 1\\\\\n\thg38:chr5:120055815-120056315:250 & hg38:chr5:120055815-120056315:250 &  21.804466 & 0.02590016 & 1\\\\\n\thg38:chr2:167293845-167294345:250 & hg38:chr2:167293845-167294345:250 &  73.704492 & 0.02626973 & 1\\\\\n\thg38:chr6:139519390-139519890:250 & hg38:chr6:139519390-139519890:250 &  14.870638 & 0.02643484 & 1\\\\\n\thg38:chr5:122181130-122181630:250 & hg38:chr5:122181130-122181630:250 &  25.698999 & 0.02646294 & 1\\\\\n\thg38:chr14:38721779-38722279:250 & hg38:chr14:38721779-38722279:250  &  16.003524 & 0.02650478 & 1\\\\\n\thg38:chr15:43954979-43955479:250 & hg38:chr15:43954979-43955479:250  & 409.988753 & 0.02701411 & 1\\\\\n\thg38:chr11:22778451-22778951:250 & hg38:chr11:22778451-22778951:250  &  10.640636 & 0.02716008 & 1\\\\\n\thg38:chr7:49519822-49520322:250 & hg38:chr7:49519822-49520322:250   &  20.706966 & 0.02732133 & 1\\\\\n\thg38:chr11:30855308-30855808:250 & hg38:chr11:30855308-30855808:250  &  34.822482 & 0.02776834 & 1\\\\\n\thg38:chr3:123359309-123359809:250 & hg38:chr3:123359309-123359809:250 &  32.905519 & 0.02780116 & 1\\\\\n\thg38:chr14:65751900-65752400:250 & hg38:chr14:65751900-65752400:250  &  11.155641 & 0.02782023 & 1\\\\\n\thg38:chr6:69585151-69585651:250 & hg38:chr6:69585151-69585651:250   &  65.768543 & 0.02802022 & 1\\\\\n\\end{tabular}\n",
            "text/markdown": "\nA data.frame: 200 × 4\n\n| <!--/--> | id &lt;chr&gt; | slope &lt;dbl&gt; | pvalue &lt;dbl&gt; | padj &lt;dbl&gt; |\n|---|---|---|---|---|\n| hg38:chr3:60378238-60378738:250 | hg38:chr3:60378238-60378738:250    |  36.41467 | 8.887571e-06 | 0.3128691 |\n| hg38:chr3:1353142-1353642:250 | hg38:chr3:1353142-1353642:250      |  13.48541 | 3.665687e-05 | 1.0000000 |\n| hg38:chr3:94181320-94181820:250 | hg38:chr3:94181320-94181820:250    |  37.43561 | 5.371856e-04 | 1.0000000 |\n| hg38:chr16:18728545-18729045:250 | hg38:chr16:18728545-18729045:250   |  18.97691 | 6.410832e-04 | 1.0000000 |\n| hg38:chr2:62138999-62139499:250 | hg38:chr2:62138999-62139499:250    |  39.46235 | 6.920866e-04 | 1.0000000 |\n| hg38:chr22:27767410-27767910:250 | hg38:chr22:27767410-27767910:250   | 188.23436 | 8.308651e-04 | 1.0000000 |\n| hg38:chr2:45790215-45790715:250 | hg38:chr2:45790215-45790715:250    |  33.35734 | 8.736068e-04 | 1.0000000 |\n| hg38:chr5:167694138-167694638:250 | hg38:chr5:167694138-167694638:250  |  16.72516 | 9.655009e-04 | 1.0000000 |\n| hg38:chr3:43995564-43996064:250 | hg38:chr3:43995564-43996064:250    |  21.27237 | 1.180151e-03 | 1.0000000 |\n| hg38:chr3:114122003-114122503:250 | hg38:chr3:114122003-114122503:250  |  41.49074 | 1.427165e-03 | 1.0000000 |\n| hg38:chr4:31675198-31675698:250 | hg38:chr4:31675198-31675698:250    |  19.45961 | 1.565895e-03 | 1.0000000 |\n| hg38:chr8:50025687-50026187:250 | hg38:chr8:50025687-50026187:250    |  59.62602 | 1.693562e-03 | 1.0000000 |\n| hg38:chr2:122516829-122517329:250 | hg38:chr2:122516829-122517329:250  |  27.72054 | 1.979419e-03 | 1.0000000 |\n| hg38:chr10:101956843-101957343:250 | hg38:chr10:101956843-101957343:250 |  10.20188 | 1.991933e-03 | 1.0000000 |\n| hg38:chr7:86304108-86304608:250 | hg38:chr7:86304108-86304608:250    |  27.05006 | 2.005148e-03 | 1.0000000 |\n| hg38:chr12:99006707-99007207:250 | hg38:chr12:99006707-99007207:250   |  22.05185 | 2.463835e-03 | 1.0000000 |\n| hg38:chr5:14268208-14268708:250 | hg38:chr5:14268208-14268708:250    |  25.48250 | 2.840827e-03 | 1.0000000 |\n| hg38:chr14:96085996-96086496:250 | hg38:chr14:96085996-96086496:250   |  10.59164 | 3.272463e-03 | 1.0000000 |\n| hg38:chrX:93522787-93523287:250 | hg38:chrX:93522787-93523287:250    |  31.97462 | 3.398549e-03 | 1.0000000 |\n| hg38:chr1:198909884-198910384:250 | hg38:chr1:198909884-198910384:250  |  23.24242 | 3.487950e-03 | 1.0000000 |\n| hg38:chr14:51138362-51138862:250 | hg38:chr14:51138362-51138862:250   | 103.48350 | 3.546055e-03 | 1.0000000 |\n| hg38:chr11:73242541-73243041:250 | hg38:chr11:73242541-73243041:250   |  37.63331 | 3.552307e-03 | 1.0000000 |\n| hg38:chr10:9024204-9024704:250 | hg38:chr10:9024204-9024704:250     | 100.88595 | 3.601416e-03 | 1.0000000 |\n| hg38:chr3:76440497-76440997:250 | hg38:chr3:76440497-76440997:250    |  92.15027 | 3.914115e-03 | 1.0000000 |\n| hg38:chr15:93811003-93811503:250 | hg38:chr15:93811003-93811503:250   |  16.08022 | 4.013784e-03 | 1.0000000 |\n| hg38:chr13:76803822-76804322:250 | hg38:chr13:76803822-76804322:250   |  15.13541 | 4.209845e-03 | 1.0000000 |\n| hg38:chr7:54995825-54996325:250 | hg38:chr7:54995825-54996325:250    |  16.57532 | 4.294144e-03 | 1.0000000 |\n| hg38:chr8:92502977-92503477:250 | hg38:chr8:92502977-92503477:250    |  11.86834 | 4.555211e-03 | 1.0000000 |\n| hg38:chr6:13444949-13445449:250 | hg38:chr6:13444949-13445449:250    |  26.50074 | 4.962966e-03 | 1.0000000 |\n| hg38:chr14:79160380-79160880:250 | hg38:chr14:79160380-79160880:250   |  76.00575 | 5.144982e-03 | 1.0000000 |\n| ⋮ | ⋮ | ⋮ | ⋮ | ⋮ |\n| hg38:chr2:99710601-99711101:250 | hg38:chr2:99710601-99711101:250   |  17.072726 | 0.02339020 | 1 |\n| hg38:chr4:22104618-22105118:250 | hg38:chr4:22104618-22105118:250   |  22.528026 | 0.02386780 | 1 |\n| hg38:chr1:82162831-82163331:250 | hg38:chr1:82162831-82163331:250   |  27.193267 | 0.02401207 | 1 |\n| hg38:chr11:28010018-28010518:250 | hg38:chr11:28010018-28010518:250  |  47.811548 | 0.02412413 | 1 |\n| hg38:chr9:24692933-24693433:250 | hg38:chr9:24692933-24693433:250   |  59.100195 | 0.02434446 | 1 |\n| hg38:chr2:180663270-180663770:250 | hg38:chr2:180663270-180663770:250 |  27.782480 | 0.02449451 | 1 |\n| hg38:chr11:92569585-92570085:250 | hg38:chr11:92569585-92570085:250  |  57.213489 | 0.02452763 | 1 |\n| hg38:chr22:32985986-32986486:250 | hg38:chr22:32985986-32986486:250  |  14.841147 | 0.02453621 | 1 |\n| hg38:chr4:139735704-139736204:250 | hg38:chr4:139735704-139736204:250 |  19.297123 | 0.02466329 | 1 |\n| hg38:chr8:50721243-50721743:250 | hg38:chr8:50721243-50721743:250   |  40.498671 | 0.02473039 | 1 |\n| hg38:chr18:64183581-64184081:250 | hg38:chr18:64183581-64184081:250  |  33.998296 | 0.02475194 | 1 |\n| hg38:chr1:162292510-162293010:250 | hg38:chr1:162292510-162293010:250 |   9.463833 | 0.02490371 | 1 |\n| hg38:chr7:41200942-41201442:250 | hg38:chr7:41200942-41201442:250   | 556.902279 | 0.02491857 | 1 |\n| hg38:chr3:54483786-54484286:250 | hg38:chr3:54483786-54484286:250   |  22.095907 | 0.02498405 | 1 |\n| hg38:chr2:168043540-168044040:250 | hg38:chr2:168043540-168044040:250 |  19.232833 | 0.02530846 | 1 |\n| hg38:chr4:101026463-101026963:250 | hg38:chr4:101026463-101026963:250 |  68.632755 | 0.02555471 | 1 |\n| hg38:chr22:35458434-35458934:250 | hg38:chr22:35458434-35458934:250  |  38.525732 | 0.02569510 | 1 |\n| hg38:chr3:45436866-45437366:250 | hg38:chr3:45436866-45437366:250   |  20.357520 | 0.02574804 | 1 |\n| hg38:chr5:120055815-120056315:250 | hg38:chr5:120055815-120056315:250 |  21.804466 | 0.02590016 | 1 |\n| hg38:chr2:167293845-167294345:250 | hg38:chr2:167293845-167294345:250 |  73.704492 | 0.02626973 | 1 |\n| hg38:chr6:139519390-139519890:250 | hg38:chr6:139519390-139519890:250 |  14.870638 | 0.02643484 | 1 |\n| hg38:chr5:122181130-122181630:250 | hg38:chr5:122181130-122181630:250 |  25.698999 | 0.02646294 | 1 |\n| hg38:chr14:38721779-38722279:250 | hg38:chr14:38721779-38722279:250  |  16.003524 | 0.02650478 | 1 |\n| hg38:chr15:43954979-43955479:250 | hg38:chr15:43954979-43955479:250  | 409.988753 | 0.02701411 | 1 |\n| hg38:chr11:22778451-22778951:250 | hg38:chr11:22778451-22778951:250  |  10.640636 | 0.02716008 | 1 |\n| hg38:chr7:49519822-49520322:250 | hg38:chr7:49519822-49520322:250   |  20.706966 | 0.02732133 | 1 |\n| hg38:chr11:30855308-30855808:250 | hg38:chr11:30855308-30855808:250  |  34.822482 | 0.02776834 | 1 |\n| hg38:chr3:123359309-123359809:250 | hg38:chr3:123359309-123359809:250 |  32.905519 | 0.02780116 | 1 |\n| hg38:chr14:65751900-65752400:250 | hg38:chr14:65751900-65752400:250  |  11.155641 | 0.02782023 | 1 |\n| hg38:chr6:69585151-69585651:250 | hg38:chr6:69585151-69585651:250   |  65.768543 | 0.02802022 | 1 |\n\n",
            "text/html": [
              "<table class=\"dataframe\">\n",
              "<caption>A data.frame: 200 × 4</caption>\n",
              "<thead>\n",
              "\t<tr><th></th><th scope=col>id</th><th scope=col>slope</th><th scope=col>pvalue</th><th scope=col>padj</th></tr>\n",
              "\t<tr><th></th><th scope=col>&lt;chr&gt;</th><th scope=col>&lt;dbl&gt;</th><th scope=col>&lt;dbl&gt;</th><th scope=col>&lt;dbl&gt;</th></tr>\n",
              "</thead>\n",
              "<tbody>\n",
              "\t<tr><th scope=row>hg38:chr3:60378238-60378738:250</th><td>hg38:chr3:60378238-60378738:250   </td><td> 36.41467</td><td>8.887571e-06</td><td>0.3128691</td></tr>\n",
              "\t<tr><th scope=row>hg38:chr3:1353142-1353642:250</th><td>hg38:chr3:1353142-1353642:250     </td><td> 13.48541</td><td>3.665687e-05</td><td>1.0000000</td></tr>\n",
              "\t<tr><th scope=row>hg38:chr3:94181320-94181820:250</th><td>hg38:chr3:94181320-94181820:250   </td><td> 37.43561</td><td>5.371856e-04</td><td>1.0000000</td></tr>\n",
              "\t<tr><th scope=row>hg38:chr16:18728545-18729045:250</th><td>hg38:chr16:18728545-18729045:250  </td><td> 18.97691</td><td>6.410832e-04</td><td>1.0000000</td></tr>\n",
              "\t<tr><th scope=row>hg38:chr2:62138999-62139499:250</th><td>hg38:chr2:62138999-62139499:250   </td><td> 39.46235</td><td>6.920866e-04</td><td>1.0000000</td></tr>\n",
              "\t<tr><th scope=row>hg38:chr22:27767410-27767910:250</th><td>hg38:chr22:27767410-27767910:250  </td><td>188.23436</td><td>8.308651e-04</td><td>1.0000000</td></tr>\n",
              "\t<tr><th scope=row>hg38:chr2:45790215-45790715:250</th><td>hg38:chr2:45790215-45790715:250   </td><td> 33.35734</td><td>8.736068e-04</td><td>1.0000000</td></tr>\n",
              "\t<tr><th scope=row>hg38:chr5:167694138-167694638:250</th><td>hg38:chr5:167694138-167694638:250 </td><td> 16.72516</td><td>9.655009e-04</td><td>1.0000000</td></tr>\n",
              "\t<tr><th scope=row>hg38:chr3:43995564-43996064:250</th><td>hg38:chr3:43995564-43996064:250   </td><td> 21.27237</td><td>1.180151e-03</td><td>1.0000000</td></tr>\n",
              "\t<tr><th scope=row>hg38:chr3:114122003-114122503:250</th><td>hg38:chr3:114122003-114122503:250 </td><td> 41.49074</td><td>1.427165e-03</td><td>1.0000000</td></tr>\n",
              "\t<tr><th scope=row>hg38:chr4:31675198-31675698:250</th><td>hg38:chr4:31675198-31675698:250   </td><td> 19.45961</td><td>1.565895e-03</td><td>1.0000000</td></tr>\n",
              "\t<tr><th scope=row>hg38:chr8:50025687-50026187:250</th><td>hg38:chr8:50025687-50026187:250   </td><td> 59.62602</td><td>1.693562e-03</td><td>1.0000000</td></tr>\n",
              "\t<tr><th scope=row>hg38:chr2:122516829-122517329:250</th><td>hg38:chr2:122516829-122517329:250 </td><td> 27.72054</td><td>1.979419e-03</td><td>1.0000000</td></tr>\n",
              "\t<tr><th scope=row>hg38:chr10:101956843-101957343:250</th><td>hg38:chr10:101956843-101957343:250</td><td> 10.20188</td><td>1.991933e-03</td><td>1.0000000</td></tr>\n",
              "\t<tr><th scope=row>hg38:chr7:86304108-86304608:250</th><td>hg38:chr7:86304108-86304608:250   </td><td> 27.05006</td><td>2.005148e-03</td><td>1.0000000</td></tr>\n",
              "\t<tr><th scope=row>hg38:chr12:99006707-99007207:250</th><td>hg38:chr12:99006707-99007207:250  </td><td> 22.05185</td><td>2.463835e-03</td><td>1.0000000</td></tr>\n",
              "\t<tr><th scope=row>hg38:chr5:14268208-14268708:250</th><td>hg38:chr5:14268208-14268708:250   </td><td> 25.48250</td><td>2.840827e-03</td><td>1.0000000</td></tr>\n",
              "\t<tr><th scope=row>hg38:chr14:96085996-96086496:250</th><td>hg38:chr14:96085996-96086496:250  </td><td> 10.59164</td><td>3.272463e-03</td><td>1.0000000</td></tr>\n",
              "\t<tr><th scope=row>hg38:chrX:93522787-93523287:250</th><td>hg38:chrX:93522787-93523287:250   </td><td> 31.97462</td><td>3.398549e-03</td><td>1.0000000</td></tr>\n",
              "\t<tr><th scope=row>hg38:chr1:198909884-198910384:250</th><td>hg38:chr1:198909884-198910384:250 </td><td> 23.24242</td><td>3.487950e-03</td><td>1.0000000</td></tr>\n",
              "\t<tr><th scope=row>hg38:chr14:51138362-51138862:250</th><td>hg38:chr14:51138362-51138862:250  </td><td>103.48350</td><td>3.546055e-03</td><td>1.0000000</td></tr>\n",
              "\t<tr><th scope=row>hg38:chr11:73242541-73243041:250</th><td>hg38:chr11:73242541-73243041:250  </td><td> 37.63331</td><td>3.552307e-03</td><td>1.0000000</td></tr>\n",
              "\t<tr><th scope=row>hg38:chr10:9024204-9024704:250</th><td>hg38:chr10:9024204-9024704:250    </td><td>100.88595</td><td>3.601416e-03</td><td>1.0000000</td></tr>\n",
              "\t<tr><th scope=row>hg38:chr3:76440497-76440997:250</th><td>hg38:chr3:76440497-76440997:250   </td><td> 92.15027</td><td>3.914115e-03</td><td>1.0000000</td></tr>\n",
              "\t<tr><th scope=row>hg38:chr15:93811003-93811503:250</th><td>hg38:chr15:93811003-93811503:250  </td><td> 16.08022</td><td>4.013784e-03</td><td>1.0000000</td></tr>\n",
              "\t<tr><th scope=row>hg38:chr13:76803822-76804322:250</th><td>hg38:chr13:76803822-76804322:250  </td><td> 15.13541</td><td>4.209845e-03</td><td>1.0000000</td></tr>\n",
              "\t<tr><th scope=row>hg38:chr7:54995825-54996325:250</th><td>hg38:chr7:54995825-54996325:250   </td><td> 16.57532</td><td>4.294144e-03</td><td>1.0000000</td></tr>\n",
              "\t<tr><th scope=row>hg38:chr8:92502977-92503477:250</th><td>hg38:chr8:92502977-92503477:250   </td><td> 11.86834</td><td>4.555211e-03</td><td>1.0000000</td></tr>\n",
              "\t<tr><th scope=row>hg38:chr6:13444949-13445449:250</th><td>hg38:chr6:13444949-13445449:250   </td><td> 26.50074</td><td>4.962966e-03</td><td>1.0000000</td></tr>\n",
              "\t<tr><th scope=row>hg38:chr14:79160380-79160880:250</th><td>hg38:chr14:79160380-79160880:250  </td><td> 76.00575</td><td>5.144982e-03</td><td>1.0000000</td></tr>\n",
              "\t<tr><th scope=row>⋮</th><td>⋮</td><td>⋮</td><td>⋮</td><td>⋮</td></tr>\n",
              "\t<tr><th scope=row>hg38:chr2:99710601-99711101:250</th><td>hg38:chr2:99710601-99711101:250  </td><td> 17.072726</td><td>0.02339020</td><td>1</td></tr>\n",
              "\t<tr><th scope=row>hg38:chr4:22104618-22105118:250</th><td>hg38:chr4:22104618-22105118:250  </td><td> 22.528026</td><td>0.02386780</td><td>1</td></tr>\n",
              "\t<tr><th scope=row>hg38:chr1:82162831-82163331:250</th><td>hg38:chr1:82162831-82163331:250  </td><td> 27.193267</td><td>0.02401207</td><td>1</td></tr>\n",
              "\t<tr><th scope=row>hg38:chr11:28010018-28010518:250</th><td>hg38:chr11:28010018-28010518:250 </td><td> 47.811548</td><td>0.02412413</td><td>1</td></tr>\n",
              "\t<tr><th scope=row>hg38:chr9:24692933-24693433:250</th><td>hg38:chr9:24692933-24693433:250  </td><td> 59.100195</td><td>0.02434446</td><td>1</td></tr>\n",
              "\t<tr><th scope=row>hg38:chr2:180663270-180663770:250</th><td>hg38:chr2:180663270-180663770:250</td><td> 27.782480</td><td>0.02449451</td><td>1</td></tr>\n",
              "\t<tr><th scope=row>hg38:chr11:92569585-92570085:250</th><td>hg38:chr11:92569585-92570085:250 </td><td> 57.213489</td><td>0.02452763</td><td>1</td></tr>\n",
              "\t<tr><th scope=row>hg38:chr22:32985986-32986486:250</th><td>hg38:chr22:32985986-32986486:250 </td><td> 14.841147</td><td>0.02453621</td><td>1</td></tr>\n",
              "\t<tr><th scope=row>hg38:chr4:139735704-139736204:250</th><td>hg38:chr4:139735704-139736204:250</td><td> 19.297123</td><td>0.02466329</td><td>1</td></tr>\n",
              "\t<tr><th scope=row>hg38:chr8:50721243-50721743:250</th><td>hg38:chr8:50721243-50721743:250  </td><td> 40.498671</td><td>0.02473039</td><td>1</td></tr>\n",
              "\t<tr><th scope=row>hg38:chr18:64183581-64184081:250</th><td>hg38:chr18:64183581-64184081:250 </td><td> 33.998296</td><td>0.02475194</td><td>1</td></tr>\n",
              "\t<tr><th scope=row>hg38:chr1:162292510-162293010:250</th><td>hg38:chr1:162292510-162293010:250</td><td>  9.463833</td><td>0.02490371</td><td>1</td></tr>\n",
              "\t<tr><th scope=row>hg38:chr7:41200942-41201442:250</th><td>hg38:chr7:41200942-41201442:250  </td><td>556.902279</td><td>0.02491857</td><td>1</td></tr>\n",
              "\t<tr><th scope=row>hg38:chr3:54483786-54484286:250</th><td>hg38:chr3:54483786-54484286:250  </td><td> 22.095907</td><td>0.02498405</td><td>1</td></tr>\n",
              "\t<tr><th scope=row>hg38:chr2:168043540-168044040:250</th><td>hg38:chr2:168043540-168044040:250</td><td> 19.232833</td><td>0.02530846</td><td>1</td></tr>\n",
              "\t<tr><th scope=row>hg38:chr4:101026463-101026963:250</th><td>hg38:chr4:101026463-101026963:250</td><td> 68.632755</td><td>0.02555471</td><td>1</td></tr>\n",
              "\t<tr><th scope=row>hg38:chr22:35458434-35458934:250</th><td>hg38:chr22:35458434-35458934:250 </td><td> 38.525732</td><td>0.02569510</td><td>1</td></tr>\n",
              "\t<tr><th scope=row>hg38:chr3:45436866-45437366:250</th><td>hg38:chr3:45436866-45437366:250  </td><td> 20.357520</td><td>0.02574804</td><td>1</td></tr>\n",
              "\t<tr><th scope=row>hg38:chr5:120055815-120056315:250</th><td>hg38:chr5:120055815-120056315:250</td><td> 21.804466</td><td>0.02590016</td><td>1</td></tr>\n",
              "\t<tr><th scope=row>hg38:chr2:167293845-167294345:250</th><td>hg38:chr2:167293845-167294345:250</td><td> 73.704492</td><td>0.02626973</td><td>1</td></tr>\n",
              "\t<tr><th scope=row>hg38:chr6:139519390-139519890:250</th><td>hg38:chr6:139519390-139519890:250</td><td> 14.870638</td><td>0.02643484</td><td>1</td></tr>\n",
              "\t<tr><th scope=row>hg38:chr5:122181130-122181630:250</th><td>hg38:chr5:122181130-122181630:250</td><td> 25.698999</td><td>0.02646294</td><td>1</td></tr>\n",
              "\t<tr><th scope=row>hg38:chr14:38721779-38722279:250</th><td>hg38:chr14:38721779-38722279:250 </td><td> 16.003524</td><td>0.02650478</td><td>1</td></tr>\n",
              "\t<tr><th scope=row>hg38:chr15:43954979-43955479:250</th><td>hg38:chr15:43954979-43955479:250 </td><td>409.988753</td><td>0.02701411</td><td>1</td></tr>\n",
              "\t<tr><th scope=row>hg38:chr11:22778451-22778951:250</th><td>hg38:chr11:22778451-22778951:250 </td><td> 10.640636</td><td>0.02716008</td><td>1</td></tr>\n",
              "\t<tr><th scope=row>hg38:chr7:49519822-49520322:250</th><td>hg38:chr7:49519822-49520322:250  </td><td> 20.706966</td><td>0.02732133</td><td>1</td></tr>\n",
              "\t<tr><th scope=row>hg38:chr11:30855308-30855808:250</th><td>hg38:chr11:30855308-30855808:250 </td><td> 34.822482</td><td>0.02776834</td><td>1</td></tr>\n",
              "\t<tr><th scope=row>hg38:chr3:123359309-123359809:250</th><td>hg38:chr3:123359309-123359809:250</td><td> 32.905519</td><td>0.02780116</td><td>1</td></tr>\n",
              "\t<tr><th scope=row>hg38:chr14:65751900-65752400:250</th><td>hg38:chr14:65751900-65752400:250 </td><td> 11.155641</td><td>0.02782023</td><td>1</td></tr>\n",
              "\t<tr><th scope=row>hg38:chr6:69585151-69585651:250</th><td>hg38:chr6:69585151-69585651:250  </td><td> 65.768543</td><td>0.02802022</td><td>1</td></tr>\n",
              "</tbody>\n",
              "</table>\n"
            ]
          },
          "metadata": {}
        }
      ]
    },
    {
      "cell_type": "code",
      "metadata": {
        "id": "eby_0EsV6sLu"
      },
      "source": [
        "### See Python main.py for further analysis and generation of .bed files ###"
      ],
      "execution_count": 2,
      "outputs": []
    },
    {
      "cell_type": "code",
      "metadata": {
        "id": "LFgNdPyLBzmg"
      },
      "source": [
        ""
      ],
      "execution_count": null,
      "outputs": []
    },
    {
      "cell_type": "markdown",
      "metadata": {
        "id": "AQRQB0tX203g"
      },
      "source": [
        "**200 Positively Correlated:**\n",
        "\n",
        "**Whole Genome** -\n",
        "No process was significant when the positively correlated peaks were compared to whole genome.\n",
        "\n",
        "**All Relative Peaks** -\n",
        "There were no results for the relative peaks compared to the top positively coorelated peaks.\n",
        "\n",
        "''''''''''''''''''\n",
        "\n",
        "**200 Negatively Correlated:** \n",
        "\n",
        "**Whole Genome**-\n",
        "For negatively correlated peaks, there was no results.\n",
        "\n",
        "**All Relative Peaks** -\n",
        "For negatively correlated peaks, there was also no results.\n",
        "\n",
        "\n",
        "\n",
        "**Conclusion:**\n",
        "For the p-values calculated and the top positive and negative correlated peaks, there is no region of significance."
      ]
    },
    {
      "cell_type": "code",
      "metadata": {
        "id": "lKYpEZ_TWKGC"
      },
      "source": [
        ""
      ],
      "execution_count": null,
      "outputs": []
    }
  ]
}